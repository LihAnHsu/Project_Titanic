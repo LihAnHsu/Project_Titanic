{
 "cells": [
  {
   "cell_type": "markdown",
   "id": "e2787964-c442-445a-bb68-a0e0af89f47a",
   "metadata": {},
   "source": [
    "# https://www.kaggle.com/code/alexisbcook/titanic-tutorial/notebook\n",
    "\n",
    "# https://chtseng.wordpress.com/2017/12/24/kaggle-titanic%E5%80%96%E5%AD%98%E9%A0%90%E6%B8%AC-1/\n",
    "\n",
    "# https://chtseng.wordpress.com/2017/12/24/kaggle-titanic%E5%80%96%E5%AD%98%E9%A0%90%E6%B8%AC-1/"
   ]
  },
  {
   "cell_type": "markdown",
   "id": "8f40c5b5-47fc-47ca-a80d-feb2b64f8fb5",
   "metadata": {},
   "source": [
    "# Import libraries"
   ]
  },
  {
   "cell_type": "code",
   "execution_count": 1,
   "id": "f8e095fa-1916-4937-9cf8-e0da684623fa",
   "metadata": {},
   "outputs": [],
   "source": [
    "#a \"PassengerId\" column containing the IDs of each passenger from test.csv.\n",
    "#a \"Survived\" column (that you will create!) with a \"1\" for the rows where you think the passenger survived, and a \"0\" where you predict that the passenger died."
   ]
  },
  {
   "cell_type": "code",
   "execution_count": 2,
   "id": "f756d58f-4d42-4773-ace3-d6be96f5ba4c",
   "metadata": {},
   "outputs": [],
   "source": [
    "import numpy as np\n",
    "import pandas as pd\n",
    "import seaborn as sns\n",
    "import matplotlib.pyplot as plt"
   ]
  },
  {
   "cell_type": "code",
   "execution_count": 3,
   "id": "73666099-2bb4-4a4b-888a-7cd3afd7993c",
   "metadata": {},
   "outputs": [],
   "source": [
    "train_df = pd.read_csv(r'/Users/lih-anhsu/Desktop/Python/kaggle_titanic_ML/train.csv')\n",
    "\n",
    "test_df = pd.read_csv(r'/Users/lih-anhsu/Desktop/Python/kaggle_titanic_ML/test.csv')"
   ]
  },
  {
   "cell_type": "markdown",
   "id": "99cda693-3d9f-41e9-a9f6-591c273d5e64",
   "metadata": {},
   "source": [
    "# Data exploration"
   ]
  },
  {
   "cell_type": "code",
   "execution_count": 4,
   "id": "b07c74b5-cc0e-4217-a89c-11fa3e4ba542",
   "metadata": {},
   "outputs": [
    {
     "name": "stdout",
     "output_type": "stream",
     "text": [
      "(891, 12)\n",
      "(418, 11)\n"
     ]
    }
   ],
   "source": [
    "print(train_df.shape)\n",
    "\n",
    "print(test_df.shape)"
   ]
  },
  {
   "cell_type": "code",
   "execution_count": 5,
   "id": "ac344c5f-0dec-4255-bc29-328126604808",
   "metadata": {},
   "outputs": [
    {
     "data": {
      "text/html": [
       "<div>\n",
       "<style scoped>\n",
       "    .dataframe tbody tr th:only-of-type {\n",
       "        vertical-align: middle;\n",
       "    }\n",
       "\n",
       "    .dataframe tbody tr th {\n",
       "        vertical-align: top;\n",
       "    }\n",
       "\n",
       "    .dataframe thead th {\n",
       "        text-align: right;\n",
       "    }\n",
       "</style>\n",
       "<table border=\"1\" class=\"dataframe\">\n",
       "  <thead>\n",
       "    <tr style=\"text-align: right;\">\n",
       "      <th></th>\n",
       "      <th>PassengerId</th>\n",
       "      <th>Survived</th>\n",
       "      <th>Pclass</th>\n",
       "      <th>Name</th>\n",
       "      <th>Sex</th>\n",
       "      <th>Age</th>\n",
       "      <th>SibSp</th>\n",
       "      <th>Parch</th>\n",
       "      <th>Ticket</th>\n",
       "      <th>Fare</th>\n",
       "      <th>Cabin</th>\n",
       "      <th>Embarked</th>\n",
       "    </tr>\n",
       "  </thead>\n",
       "  <tbody>\n",
       "    <tr>\n",
       "      <th>0</th>\n",
       "      <td>1</td>\n",
       "      <td>0</td>\n",
       "      <td>3</td>\n",
       "      <td>Braund, Mr. Owen Harris</td>\n",
       "      <td>male</td>\n",
       "      <td>22.0</td>\n",
       "      <td>1</td>\n",
       "      <td>0</td>\n",
       "      <td>A/5 21171</td>\n",
       "      <td>7.2500</td>\n",
       "      <td>NaN</td>\n",
       "      <td>S</td>\n",
       "    </tr>\n",
       "    <tr>\n",
       "      <th>1</th>\n",
       "      <td>2</td>\n",
       "      <td>1</td>\n",
       "      <td>1</td>\n",
       "      <td>Cumings, Mrs. John Bradley (Florence Briggs Th...</td>\n",
       "      <td>female</td>\n",
       "      <td>38.0</td>\n",
       "      <td>1</td>\n",
       "      <td>0</td>\n",
       "      <td>PC 17599</td>\n",
       "      <td>71.2833</td>\n",
       "      <td>C85</td>\n",
       "      <td>C</td>\n",
       "    </tr>\n",
       "  </tbody>\n",
       "</table>\n",
       "</div>"
      ],
      "text/plain": [
       "   PassengerId  Survived  Pclass  \\\n",
       "0            1         0       3   \n",
       "1            2         1       1   \n",
       "\n",
       "                                                Name     Sex   Age  SibSp  \\\n",
       "0                            Braund, Mr. Owen Harris    male  22.0      1   \n",
       "1  Cumings, Mrs. John Bradley (Florence Briggs Th...  female  38.0      1   \n",
       "\n",
       "   Parch     Ticket     Fare Cabin Embarked  \n",
       "0      0  A/5 21171   7.2500   NaN        S  \n",
       "1      0   PC 17599  71.2833   C85        C  "
      ]
     },
     "execution_count": 5,
     "metadata": {},
     "output_type": "execute_result"
    }
   ],
   "source": [
    "train_df.head(2)"
   ]
  },
  {
   "cell_type": "code",
   "execution_count": 6,
   "id": "df75bea5-c684-4c67-b229-1f055ff64fb5",
   "metadata": {},
   "outputs": [
    {
     "data": {
      "text/html": [
       "<div>\n",
       "<style scoped>\n",
       "    .dataframe tbody tr th:only-of-type {\n",
       "        vertical-align: middle;\n",
       "    }\n",
       "\n",
       "    .dataframe tbody tr th {\n",
       "        vertical-align: top;\n",
       "    }\n",
       "\n",
       "    .dataframe thead th {\n",
       "        text-align: right;\n",
       "    }\n",
       "</style>\n",
       "<table border=\"1\" class=\"dataframe\">\n",
       "  <thead>\n",
       "    <tr style=\"text-align: right;\">\n",
       "      <th></th>\n",
       "      <th>PassengerId</th>\n",
       "      <th>Pclass</th>\n",
       "      <th>Name</th>\n",
       "      <th>Sex</th>\n",
       "      <th>Age</th>\n",
       "      <th>SibSp</th>\n",
       "      <th>Parch</th>\n",
       "      <th>Ticket</th>\n",
       "      <th>Fare</th>\n",
       "      <th>Cabin</th>\n",
       "      <th>Embarked</th>\n",
       "    </tr>\n",
       "  </thead>\n",
       "  <tbody>\n",
       "    <tr>\n",
       "      <th>0</th>\n",
       "      <td>892</td>\n",
       "      <td>3</td>\n",
       "      <td>Kelly, Mr. James</td>\n",
       "      <td>male</td>\n",
       "      <td>34.5</td>\n",
       "      <td>0</td>\n",
       "      <td>0</td>\n",
       "      <td>330911</td>\n",
       "      <td>7.8292</td>\n",
       "      <td>NaN</td>\n",
       "      <td>Q</td>\n",
       "    </tr>\n",
       "    <tr>\n",
       "      <th>1</th>\n",
       "      <td>893</td>\n",
       "      <td>3</td>\n",
       "      <td>Wilkes, Mrs. James (Ellen Needs)</td>\n",
       "      <td>female</td>\n",
       "      <td>47.0</td>\n",
       "      <td>1</td>\n",
       "      <td>0</td>\n",
       "      <td>363272</td>\n",
       "      <td>7.0000</td>\n",
       "      <td>NaN</td>\n",
       "      <td>S</td>\n",
       "    </tr>\n",
       "  </tbody>\n",
       "</table>\n",
       "</div>"
      ],
      "text/plain": [
       "   PassengerId  Pclass                              Name     Sex   Age  SibSp  \\\n",
       "0          892       3                  Kelly, Mr. James    male  34.5      0   \n",
       "1          893       3  Wilkes, Mrs. James (Ellen Needs)  female  47.0      1   \n",
       "\n",
       "   Parch  Ticket    Fare Cabin Embarked  \n",
       "0      0  330911  7.8292   NaN        Q  \n",
       "1      0  363272  7.0000   NaN        S  "
      ]
     },
     "execution_count": 6,
     "metadata": {},
     "output_type": "execute_result"
    }
   ],
   "source": [
    "test_df.head(2)"
   ]
  },
  {
   "cell_type": "markdown",
   "id": "8a8e424d-cad0-4035-9620-8a5997bea157",
   "metadata": {},
   "source": [
    "## Distribution of population "
   ]
  },
  {
   "cell_type": "markdown",
   "id": "966aa540-00d1-4c35-b6de-74e81937d688",
   "metadata": {},
   "source": [
    "### Pclass population count"
   ]
  },
  {
   "cell_type": "code",
   "execution_count": 7,
   "id": "d5937b1a-8721-4ce4-b590-6cb895cd9fe1",
   "metadata": {},
   "outputs": [
    {
     "data": {
      "image/png": "[encoded data removed]",
      "text/plain": [
       "<Figure size 640x480 with 1 Axes>"
      ]
     },
     "metadata": {},
     "output_type": "display_data"
    }
   ],
   "source": [
    "# Adjusted bar size\n",
    "bar_width = 0.5\n",
    "\n",
    "plt.hist(train_df['Pclass'], stacked = False, bins = 3, rwidth = bar_width, color = '#BC8F8F')\n",
    "\n",
    "#Add label\n",
    "plt.xlabel('pclass')\n",
    "\n",
    "plt.ylabel('count')\n",
    "\n",
    "\n",
    "plt.xticks([1, 2, 3]) #adjust the x-scale to only display 1, 2, and 3 without decimals\n",
    "\n",
    "plt.show()"
   ]
  },
  {
   "cell_type": "markdown",
   "id": "260b70fc-61f4-49d3-95f6-51a83283d944",
   "metadata": {},
   "source": [
    "### Age, sex population count"
   ]
  },
  {
   "cell_type": "code",
   "execution_count": 8,
   "id": "5317a756-9003-4030-840d-c859bfb8aa22",
   "metadata": {},
   "outputs": [
    {
     "data": {
      "image/png": "[encoded data removed]",
      "text/plain": [
       "<Figure size 640x480 with 1 Axes>"
      ]
     },
     "metadata": {},
     "output_type": "display_data"
    }
   ],
   "source": [
    "# filter by sex and for age column, age groupby sex\n",
    "male_age = train_df[train_df['Sex'] == 'male']['Age']\n",
    "\n",
    "female_age = train_df[train_df['Sex'] == 'female']['Age']\n",
    "\n",
    "# histogram with sex as x-axis and age as y-axis\n",
    "#creates separate histograms for each category without stacking them on top of each other.\n",
    "plt.hist([male_age, female_age], stacked = False, color = ['#B0C4DE', '#f08080'], bins = 10, label = ['Male', 'Female']) \n",
    "\n",
    "#Add the labels\n",
    "plt.xlabel('age')\n",
    "\n",
    "plt.ylabel('count')\n",
    "\n",
    "plt.title('Sex count by Age')\n",
    "\n",
    "plt.legend()\n",
    "\n",
    "plt.show()"
   ]
  },
  {
   "cell_type": "markdown",
   "id": "04a5ac78-63a2-4d9e-bb75-f7fe4088c679",
   "metadata": {},
   "source": [
    "### Name_title population count"
   ]
  },
  {
   "cell_type": "code",
   "execution_count": 9,
   "id": "0758564a-9f8d-401b-bc9d-166782e215aa",
   "metadata": {},
   "outputs": [
    {
     "data": {
      "text/plain": [
       "0                                Braund, Mr. Owen Harris\n",
       "1      Cumings, Mrs. John Bradley (Florence Briggs Th...\n",
       "2                                 Heikkinen, Miss. Laina\n",
       "3           Futrelle, Mrs. Jacques Heath (Lily May Peel)\n",
       "4                               Allen, Mr. William Henry\n",
       "                             ...                        \n",
       "886                                Montvila, Rev. Juozas\n",
       "887                         Graham, Miss. Margaret Edith\n",
       "888             Johnston, Miss. Catherine Helen \"Carrie\"\n",
       "889                                Behr, Mr. Karl Howell\n",
       "890                                  Dooley, Mr. Patrick\n",
       "Name: Name, Length: 891, dtype: object"
      ]
     },
     "execution_count": 9,
     "metadata": {},
     "output_type": "execute_result"
    }
   ],
   "source": [
    "train_df['Name']"
   ]
  },
  {
   "cell_type": "code",
   "execution_count": 10,
   "id": "d6d2489c-1669-4f76-93b2-f9cb46277c89",
   "metadata": {},
   "outputs": [
    {
     "data": {
      "text/plain": [
       "0        Mr.\n",
       "1       Mrs.\n",
       "2      Miss.\n",
       "3       Mrs.\n",
       "4        Mr.\n",
       "       ...  \n",
       "886     Rev.\n",
       "887    Miss.\n",
       "888    Miss.\n",
       "889      Mr.\n",
       "890      Mr.\n",
       "Name: Name, Length: 891, dtype: object"
      ]
     },
     "execution_count": 10,
     "metadata": {},
     "output_type": "execute_result"
    }
   ],
   "source": [
    "# the title is at the second word, so in here using split to get the title\n",
    "# by testing, the order of Name col is: given name, title, last name, so idex should be [1] for title\n",
    "title = train_df['Name'].str.split().str[1]\n",
    "\n",
    "title"
   ]
  },
  {
   "cell_type": "code",
   "execution_count": 11,
   "id": "3d683202-8a16-4767-a059-25072d7461e0",
   "metadata": {},
   "outputs": [
    {
     "data": {
      "text/plain": [
       "['Mr.',\n",
       " 'Mrs.',\n",
       " 'Miss.',\n",
       " 'Master.',\n",
       " 'Planke,',\n",
       " 'Don.',\n",
       " 'Rev.',\n",
       " 'Billiard,',\n",
       " 'der',\n",
       " 'Walle,',\n",
       " 'Dr.',\n",
       " 'Pelsmaeker,',\n",
       " 'Mulder,',\n",
       " 'y',\n",
       " 'Steen,',\n",
       " 'Carlo,',\n",
       " 'Mme.',\n",
       " 'Impe,',\n",
       " 'Ms.',\n",
       " 'Major.',\n",
       " 'Gordon,',\n",
       " 'Messemaeker,',\n",
       " 'Mlle.',\n",
       " 'Col.',\n",
       " 'Capt.',\n",
       " 'Velde,',\n",
       " 'the',\n",
       " 'Shawah,',\n",
       " 'Jonkheer.',\n",
       " 'Melkebeke,',\n",
       " 'Cruyssen,']"
      ]
     },
     "execution_count": 11,
     "metadata": {},
     "output_type": "execute_result"
    }
   ],
   "source": [
    "list(title.unique())"
   ]
  },
  {
   "cell_type": "code",
   "execution_count": 12,
   "id": "561fb951-8de6-4124-8f10-9f82fbed3633",
   "metadata": {},
   "outputs": [
    {
     "data": {
      "text/html": [
       "<div>\n",
       "<style scoped>\n",
       "    .dataframe tbody tr th:only-of-type {\n",
       "        vertical-align: middle;\n",
       "    }\n",
       "\n",
       "    .dataframe tbody tr th {\n",
       "        vertical-align: top;\n",
       "    }\n",
       "\n",
       "    .dataframe thead th {\n",
       "        text-align: right;\n",
       "    }\n",
       "</style>\n",
       "<table border=\"1\" class=\"dataframe\">\n",
       "  <thead>\n",
       "    <tr style=\"text-align: right;\">\n",
       "      <th></th>\n",
       "      <th>title</th>\n",
       "      <th>count</th>\n",
       "    </tr>\n",
       "  </thead>\n",
       "  <tbody>\n",
       "    <tr>\n",
       "      <th>0</th>\n",
       "      <td>Mr.</td>\n",
       "      <td>502</td>\n",
       "    </tr>\n",
       "    <tr>\n",
       "      <th>1</th>\n",
       "      <td>Miss.</td>\n",
       "      <td>179</td>\n",
       "    </tr>\n",
       "    <tr>\n",
       "      <th>2</th>\n",
       "      <td>Mrs.</td>\n",
       "      <td>121</td>\n",
       "    </tr>\n",
       "    <tr>\n",
       "      <th>3</th>\n",
       "      <td>Master.</td>\n",
       "      <td>40</td>\n",
       "    </tr>\n",
       "    <tr>\n",
       "      <th>4</th>\n",
       "      <td>Dr.</td>\n",
       "      <td>7</td>\n",
       "    </tr>\n",
       "    <tr>\n",
       "      <th>5</th>\n",
       "      <td>Rev.</td>\n",
       "      <td>6</td>\n",
       "    </tr>\n",
       "    <tr>\n",
       "      <th>6</th>\n",
       "      <td>y</td>\n",
       "      <td>4</td>\n",
       "    </tr>\n",
       "    <tr>\n",
       "      <th>7</th>\n",
       "      <td>Planke,</td>\n",
       "      <td>3</td>\n",
       "    </tr>\n",
       "    <tr>\n",
       "      <th>8</th>\n",
       "      <td>Impe,</td>\n",
       "      <td>3</td>\n",
       "    </tr>\n",
       "    <tr>\n",
       "      <th>9</th>\n",
       "      <td>Gordon,</td>\n",
       "      <td>2</td>\n",
       "    </tr>\n",
       "    <tr>\n",
       "      <th>10</th>\n",
       "      <td>Col.</td>\n",
       "      <td>2</td>\n",
       "    </tr>\n",
       "    <tr>\n",
       "      <th>11</th>\n",
       "      <td>Mlle.</td>\n",
       "      <td>2</td>\n",
       "    </tr>\n",
       "    <tr>\n",
       "      <th>12</th>\n",
       "      <td>Major.</td>\n",
       "      <td>2</td>\n",
       "    </tr>\n",
       "    <tr>\n",
       "      <th>13</th>\n",
       "      <td>Melkebeke,</td>\n",
       "      <td>1</td>\n",
       "    </tr>\n",
       "    <tr>\n",
       "      <th>14</th>\n",
       "      <td>Jonkheer.</td>\n",
       "      <td>1</td>\n",
       "    </tr>\n",
       "    <tr>\n",
       "      <th>15</th>\n",
       "      <td>Shawah,</td>\n",
       "      <td>1</td>\n",
       "    </tr>\n",
       "    <tr>\n",
       "      <th>16</th>\n",
       "      <td>the</td>\n",
       "      <td>1</td>\n",
       "    </tr>\n",
       "    <tr>\n",
       "      <th>17</th>\n",
       "      <td>Velde,</td>\n",
       "      <td>1</td>\n",
       "    </tr>\n",
       "    <tr>\n",
       "      <th>18</th>\n",
       "      <td>Capt.</td>\n",
       "      <td>1</td>\n",
       "    </tr>\n",
       "    <tr>\n",
       "      <th>19</th>\n",
       "      <td>Messemaeker,</td>\n",
       "      <td>1</td>\n",
       "    </tr>\n",
       "    <tr>\n",
       "      <th>20</th>\n",
       "      <td>Carlo,</td>\n",
       "      <td>1</td>\n",
       "    </tr>\n",
       "    <tr>\n",
       "      <th>21</th>\n",
       "      <td>Ms.</td>\n",
       "      <td>1</td>\n",
       "    </tr>\n",
       "    <tr>\n",
       "      <th>22</th>\n",
       "      <td>Mme.</td>\n",
       "      <td>1</td>\n",
       "    </tr>\n",
       "    <tr>\n",
       "      <th>23</th>\n",
       "      <td>Steen,</td>\n",
       "      <td>1</td>\n",
       "    </tr>\n",
       "    <tr>\n",
       "      <th>24</th>\n",
       "      <td>Mulder,</td>\n",
       "      <td>1</td>\n",
       "    </tr>\n",
       "    <tr>\n",
       "      <th>25</th>\n",
       "      <td>Pelsmaeker,</td>\n",
       "      <td>1</td>\n",
       "    </tr>\n",
       "    <tr>\n",
       "      <th>26</th>\n",
       "      <td>Walle,</td>\n",
       "      <td>1</td>\n",
       "    </tr>\n",
       "    <tr>\n",
       "      <th>27</th>\n",
       "      <td>der</td>\n",
       "      <td>1</td>\n",
       "    </tr>\n",
       "    <tr>\n",
       "      <th>28</th>\n",
       "      <td>Billiard,</td>\n",
       "      <td>1</td>\n",
       "    </tr>\n",
       "    <tr>\n",
       "      <th>29</th>\n",
       "      <td>Don.</td>\n",
       "      <td>1</td>\n",
       "    </tr>\n",
       "    <tr>\n",
       "      <th>30</th>\n",
       "      <td>Cruyssen,</td>\n",
       "      <td>1</td>\n",
       "    </tr>\n",
       "  </tbody>\n",
       "</table>\n",
       "</div>"
      ],
      "text/plain": [
       "           title  count\n",
       "0            Mr.    502\n",
       "1          Miss.    179\n",
       "2           Mrs.    121\n",
       "3        Master.     40\n",
       "4            Dr.      7\n",
       "5           Rev.      6\n",
       "6              y      4\n",
       "7        Planke,      3\n",
       "8          Impe,      3\n",
       "9        Gordon,      2\n",
       "10          Col.      2\n",
       "11         Mlle.      2\n",
       "12        Major.      2\n",
       "13    Melkebeke,      1\n",
       "14     Jonkheer.      1\n",
       "15       Shawah,      1\n",
       "16           the      1\n",
       "17        Velde,      1\n",
       "18         Capt.      1\n",
       "19  Messemaeker,      1\n",
       "20        Carlo,      1\n",
       "21           Ms.      1\n",
       "22          Mme.      1\n",
       "23        Steen,      1\n",
       "24       Mulder,      1\n",
       "25   Pelsmaeker,      1\n",
       "26        Walle,      1\n",
       "27           der      1\n",
       "28     Billiard,      1\n",
       "29          Don.      1\n",
       "30     Cruyssen,      1"
      ]
     },
     "execution_count": 12,
     "metadata": {},
     "output_type": "execute_result"
    }
   ],
   "source": [
    "title_count = title.value_counts().to_frame().reset_index()\n",
    "\n",
    "title_count = title_count.rename(columns={'index': 'title', 'Name': 'count'})\n",
    "\n",
    "title_count"
   ]
  },
  {
   "cell_type": "code",
   "execution_count": 13,
   "id": "a87b8eab-544d-4cb7-9747-1c6ee8a7b104",
   "metadata": {},
   "outputs": [
    {
     "data": {
      "text/plain": [
       "<function matplotlib.pyplot.show(close=None, block=None)>"
      ]
     },
     "execution_count": 13,
     "metadata": {},
     "output_type": "execute_result"
    },
    {
     "data": {
      "image/png": "[encoded data removed]",
      "text/plain": [
       "<Figure size 1500x300 with 1 Axes>"
      ]
     },
     "metadata": {},
     "output_type": "display_data"
    }
   ],
   "source": [
    "# figure size\n",
    "plt.figure(figsize=(15, 3))\n",
    "\n",
    "# assign the first column to x\n",
    "x_axis_title = title_count.iloc[:, 0]  \n",
    "\n",
    "# assign the second column to y\n",
    "y_axis_title = title_count.iloc[:, 1]  \n",
    "\n",
    "# Adjusted bar size\n",
    "bar_width = 0.5\n",
    "\n",
    "plt.hist(x_axis_title, bins = len(x_axis_title), weights = y_axis_title, width = bar_width, color = '#BC8F8F')\n",
    "\n",
    "#Add label\n",
    "plt.xlabel('title')\n",
    "\n",
    "plt.ylabel('count')\n",
    "\n",
    "plt.xticks(rotation = 50)# make x axis readable\n",
    "\n",
    "plt.show"
   ]
  },
  {
   "cell_type": "markdown",
   "id": "86256436-ffba-4cc7-8f00-06d5f51786ff",
   "metadata": {},
   "source": [
    "In here, the top 6 since it's frequntly used titles (and make sense) as a feature to evalue them with survival chance. Note: Rev for Reverend."
   ]
  },
  {
   "cell_type": "markdown",
   "id": "f4ee09c1-9f25-43af-8774-7d182ea0a175",
   "metadata": {},
   "source": [
    "### Sibsp"
   ]
  },
  {
   "cell_type": "code",
   "execution_count": 14,
   "id": "c70e18af-ecf8-410a-a0e7-449e87278e71",
   "metadata": {},
   "outputs": [
    {
     "data": {
      "text/html": [
       "<div>\n",
       "<style scoped>\n",
       "    .dataframe tbody tr th:only-of-type {\n",
       "        vertical-align: middle;\n",
       "    }\n",
       "\n",
       "    .dataframe tbody tr th {\n",
       "        vertical-align: top;\n",
       "    }\n",
       "\n",
       "    .dataframe thead th {\n",
       "        text-align: right;\n",
       "    }\n",
       "</style>\n",
       "<table border=\"1\" class=\"dataframe\">\n",
       "  <thead>\n",
       "    <tr style=\"text-align: right;\">\n",
       "      <th></th>\n",
       "      <th>SibSp_num</th>\n",
       "      <th>count</th>\n",
       "    </tr>\n",
       "  </thead>\n",
       "  <tbody>\n",
       "    <tr>\n",
       "      <th>0</th>\n",
       "      <td>0</td>\n",
       "      <td>608</td>\n",
       "    </tr>\n",
       "    <tr>\n",
       "      <th>1</th>\n",
       "      <td>1</td>\n",
       "      <td>209</td>\n",
       "    </tr>\n",
       "    <tr>\n",
       "      <th>2</th>\n",
       "      <td>2</td>\n",
       "      <td>28</td>\n",
       "    </tr>\n",
       "    <tr>\n",
       "      <th>3</th>\n",
       "      <td>4</td>\n",
       "      <td>18</td>\n",
       "    </tr>\n",
       "    <tr>\n",
       "      <th>4</th>\n",
       "      <td>3</td>\n",
       "      <td>16</td>\n",
       "    </tr>\n",
       "    <tr>\n",
       "      <th>5</th>\n",
       "      <td>8</td>\n",
       "      <td>7</td>\n",
       "    </tr>\n",
       "    <tr>\n",
       "      <th>6</th>\n",
       "      <td>5</td>\n",
       "      <td>5</td>\n",
       "    </tr>\n",
       "  </tbody>\n",
       "</table>\n",
       "</div>"
      ],
      "text/plain": [
       "   SibSp_num  count\n",
       "0          0    608\n",
       "1          1    209\n",
       "2          2     28\n",
       "3          4     18\n",
       "4          3     16\n",
       "5          8      7\n",
       "6          5      5"
      ]
     },
     "execution_count": 14,
     "metadata": {},
     "output_type": "execute_result"
    }
   ],
   "source": [
    "SibSp_count = train_df['SibSp'].value_counts().to_frame().reset_index()\n",
    "\n",
    "SibSp_count = SibSp_count.rename(columns = {'index': 'SibSp_num', 'SibSp': 'count'})\n",
    "\n",
    "SibSp_count"
   ]
  },
  {
   "cell_type": "code",
   "execution_count": 15,
   "id": "4798c9e4-6873-4d18-a67a-fd168f050aae",
   "metadata": {},
   "outputs": [
    {
     "data": {
      "text/plain": [
       "<function matplotlib.pyplot.show(close=None, block=None)>"
      ]
     },
     "execution_count": 15,
     "metadata": {},
     "output_type": "execute_result"
    },
    {
     "data": {
      "image/png": "[encoded data removed]",
      "text/plain": [
       "<Figure size 1000x300 with 1 Axes>"
      ]
     },
     "metadata": {},
     "output_type": "display_data"
    }
   ],
   "source": [
    "# figure size\n",
    "plt.figure(figsize=(10, 3))\n",
    "\n",
    "# assign the first column to x\n",
    "x_axis_sibsp = SibSp_count.iloc[:, 0]  \n",
    "\n",
    "# assign the second column to y\n",
    "y_axis_sibsp = SibSp_count.iloc[:, 1]  \n",
    "\n",
    "# Adjusted bar size\n",
    "bar_width = 0.8\n",
    "\n",
    "plt.hist(x_axis_sibsp, bins = 8, width = bar_width, weights = y_axis_sibsp,  align='mid', edgecolor='black', color = '#BC8F8F')\n",
    "\n",
    "#Add label\n",
    "plt.xlabel('SibSp')\n",
    "\n",
    "plt.ylabel('count')\n",
    "\n",
    "plt.show"
   ]
  },
  {
   "cell_type": "markdown",
   "id": "50a22ee6-a884-4ac7-8621-558f793c4d42",
   "metadata": {},
   "source": [
    "Most of the passengers have less than 2 sib or sp"
   ]
  },
  {
   "cell_type": "markdown",
   "id": "f77c8f1e-5933-438b-9a66-0eeb4ff0f83c",
   "metadata": {},
   "source": [
    "### Parch"
   ]
  },
  {
   "cell_type": "code",
   "execution_count": 16,
   "id": "de7c37cb-740d-4159-9578-2f9744d8d92c",
   "metadata": {},
   "outputs": [
    {
     "data": {
      "text/html": [
       "<div>\n",
       "<style scoped>\n",
       "    .dataframe tbody tr th:only-of-type {\n",
       "        vertical-align: middle;\n",
       "    }\n",
       "\n",
       "    .dataframe tbody tr th {\n",
       "        vertical-align: top;\n",
       "    }\n",
       "\n",
       "    .dataframe thead th {\n",
       "        text-align: right;\n",
       "    }\n",
       "</style>\n",
       "<table border=\"1\" class=\"dataframe\">\n",
       "  <thead>\n",
       "    <tr style=\"text-align: right;\">\n",
       "      <th></th>\n",
       "      <th>Parch_num</th>\n",
       "      <th>count</th>\n",
       "    </tr>\n",
       "  </thead>\n",
       "  <tbody>\n",
       "    <tr>\n",
       "      <th>0</th>\n",
       "      <td>0</td>\n",
       "      <td>678</td>\n",
       "    </tr>\n",
       "    <tr>\n",
       "      <th>1</th>\n",
       "      <td>1</td>\n",
       "      <td>118</td>\n",
       "    </tr>\n",
       "    <tr>\n",
       "      <th>2</th>\n",
       "      <td>2</td>\n",
       "      <td>80</td>\n",
       "    </tr>\n",
       "    <tr>\n",
       "      <th>3</th>\n",
       "      <td>5</td>\n",
       "      <td>5</td>\n",
       "    </tr>\n",
       "    <tr>\n",
       "      <th>4</th>\n",
       "      <td>3</td>\n",
       "      <td>5</td>\n",
       "    </tr>\n",
       "    <tr>\n",
       "      <th>5</th>\n",
       "      <td>4</td>\n",
       "      <td>4</td>\n",
       "    </tr>\n",
       "    <tr>\n",
       "      <th>6</th>\n",
       "      <td>6</td>\n",
       "      <td>1</td>\n",
       "    </tr>\n",
       "  </tbody>\n",
       "</table>\n",
       "</div>"
      ],
      "text/plain": [
       "   Parch_num  count\n",
       "0          0    678\n",
       "1          1    118\n",
       "2          2     80\n",
       "3          5      5\n",
       "4          3      5\n",
       "5          4      4\n",
       "6          6      1"
      ]
     },
     "execution_count": 16,
     "metadata": {},
     "output_type": "execute_result"
    }
   ],
   "source": [
    "Parch_count = train_df['Parch'].value_counts().to_frame().reset_index()\n",
    "\n",
    "Parch_count = Parch_count.rename(columns = {'index': 'Parch_num', 'Parch': 'count'})\n",
    "\n",
    "Parch_count"
   ]
  },
  {
   "cell_type": "code",
   "execution_count": 17,
   "id": "63e23a1c-ac13-4b0c-9534-0fc5d61ef434",
   "metadata": {},
   "outputs": [
    {
     "data": {
      "text/plain": [
       "<function matplotlib.pyplot.show(close=None, block=None)>"
      ]
     },
     "execution_count": 17,
     "metadata": {},
     "output_type": "execute_result"
    },
    {
     "data": {
      "image/png": "[encoded data removed]",
      "text/plain": [
       "<Figure size 1000x300 with 1 Axes>"
      ]
     },
     "metadata": {},
     "output_type": "display_data"
    }
   ],
   "source": [
    "# figure size\n",
    "plt.figure(figsize=(10, 3))\n",
    "\n",
    "# assign the first column to x\n",
    "x_axis_Parch = Parch_count.iloc[:, 0]  \n",
    "\n",
    "# assign the second column to y\n",
    "y_axis_Parch = Parch_count.iloc[:, 1]  \n",
    "\n",
    "# Adjusted bar size\n",
    "bar_width = 0.8\n",
    "\n",
    "plt.hist(x_axis_Parch, bins = 7, width = bar_width, weights = y_axis_Parch,  align='mid', edgecolor='black', color = '#BC8F8F')\n",
    "\n",
    "#Add label\n",
    "plt.xlabel('Parch')\n",
    "\n",
    "plt.ylabel('count')\n",
    "\n",
    "plt.show"
   ]
  },
  {
   "cell_type": "markdown",
   "id": "7a45278a-b10a-446f-afb1-86bebb796741",
   "metadata": {},
   "source": [
    "Most of the passengers have less than 2 parents or chidren"
   ]
  },
  {
   "cell_type": "markdown",
   "id": "79c3315b-fa48-45cf-baa6-0a2dadcbd85c",
   "metadata": {},
   "source": [
    "### Fare"
   ]
  },
  {
   "cell_type": "code",
   "execution_count": 18,
   "id": "7f318716-528f-4dbd-a301-47dd438eddc0",
   "metadata": {},
   "outputs": [
    {
     "data": {
      "text/html": [
       "<div>\n",
       "<style scoped>\n",
       "    .dataframe tbody tr th:only-of-type {\n",
       "        vertical-align: middle;\n",
       "    }\n",
       "\n",
       "    .dataframe tbody tr th {\n",
       "        vertical-align: top;\n",
       "    }\n",
       "\n",
       "    .dataframe thead th {\n",
       "        text-align: right;\n",
       "    }\n",
       "</style>\n",
       "<table border=\"1\" class=\"dataframe\">\n",
       "  <thead>\n",
       "    <tr style=\"text-align: right;\">\n",
       "      <th></th>\n",
       "      <th>Fare</th>\n",
       "      <th>count</th>\n",
       "    </tr>\n",
       "  </thead>\n",
       "  <tbody>\n",
       "    <tr>\n",
       "      <th>0</th>\n",
       "      <td>8.0500</td>\n",
       "      <td>43</td>\n",
       "    </tr>\n",
       "    <tr>\n",
       "      <th>1</th>\n",
       "      <td>13.0000</td>\n",
       "      <td>42</td>\n",
       "    </tr>\n",
       "    <tr>\n",
       "      <th>2</th>\n",
       "      <td>7.8958</td>\n",
       "      <td>38</td>\n",
       "    </tr>\n",
       "    <tr>\n",
       "      <th>3</th>\n",
       "      <td>7.7500</td>\n",
       "      <td>34</td>\n",
       "    </tr>\n",
       "    <tr>\n",
       "      <th>4</th>\n",
       "      <td>26.0000</td>\n",
       "      <td>31</td>\n",
       "    </tr>\n",
       "    <tr>\n",
       "      <th>...</th>\n",
       "      <td>...</td>\n",
       "      <td>...</td>\n",
       "    </tr>\n",
       "    <tr>\n",
       "      <th>243</th>\n",
       "      <td>35.0000</td>\n",
       "      <td>1</td>\n",
       "    </tr>\n",
       "    <tr>\n",
       "      <th>244</th>\n",
       "      <td>28.5000</td>\n",
       "      <td>1</td>\n",
       "    </tr>\n",
       "    <tr>\n",
       "      <th>245</th>\n",
       "      <td>6.2375</td>\n",
       "      <td>1</td>\n",
       "    </tr>\n",
       "    <tr>\n",
       "      <th>246</th>\n",
       "      <td>14.0000</td>\n",
       "      <td>1</td>\n",
       "    </tr>\n",
       "    <tr>\n",
       "      <th>247</th>\n",
       "      <td>10.5167</td>\n",
       "      <td>1</td>\n",
       "    </tr>\n",
       "  </tbody>\n",
       "</table>\n",
       "<p>248 rows × 2 columns</p>\n",
       "</div>"
      ],
      "text/plain": [
       "        Fare  count\n",
       "0     8.0500     43\n",
       "1    13.0000     42\n",
       "2     7.8958     38\n",
       "3     7.7500     34\n",
       "4    26.0000     31\n",
       "..       ...    ...\n",
       "243  35.0000      1\n",
       "244  28.5000      1\n",
       "245   6.2375      1\n",
       "246  14.0000      1\n",
       "247  10.5167      1\n",
       "\n",
       "[248 rows x 2 columns]"
      ]
     },
     "execution_count": 18,
     "metadata": {},
     "output_type": "execute_result"
    }
   ],
   "source": [
    "Fare_count = train_df['Fare'].value_counts().to_frame().reset_index()\n",
    "\n",
    "Fare_count = Fare_count.rename(columns = {'index': 'Fare', 'Fare': 'count'})\n",
    "\n",
    "Fare_count"
   ]
  },
  {
   "cell_type": "code",
   "execution_count": 19,
   "id": "863e4e59-6aa4-4382-8cb2-d58e44ce7769",
   "metadata": {},
   "outputs": [
    {
     "data": {
      "text/plain": [
       "<function matplotlib.pyplot.show(close=None, block=None)>"
      ]
     },
     "execution_count": 19,
     "metadata": {},
     "output_type": "execute_result"
    },
    {
     "data": {
      "image/png": "[encoded data removed]",
      "text/plain": [
       "<Figure size 2000x300 with 1 Axes>"
      ]
     },
     "metadata": {},
     "output_type": "display_data"
    }
   ],
   "source": [
    "# figure size\n",
    "plt.figure(figsize=(20, 3))\n",
    "\n",
    "# assign the first column to x\n",
    "x_axis_fare = Fare_count.iloc[:, 0]  \n",
    "\n",
    "# assign the second column to y\n",
    "y_axis_fare = Fare_count.iloc[:, 1]  \n",
    "\n",
    "# Adjusted bar size\n",
    "bar_width = 0.8\n",
    "\n",
    "plt.hist(x_axis_fare, bins = len(x_axis_fare), width = bar_width, weights = y_axis_fare,  align='mid', edgecolor='black', color = '#BC8F8F')\n",
    "\n",
    "#Add label\n",
    "plt.xlabel('Fare')\n",
    "\n",
    "plt.ylabel('count')\n",
    "\n",
    "plt.xticks([0,50,100,150,200,250,300,350,400,450,500,550])\n",
    "\n",
    "plt.show"
   ]
  },
  {
   "cell_type": "markdown",
   "id": "48c0dd44-f5f8-412a-9cc8-4ef1076b4c68",
   "metadata": {},
   "source": [
    "Most of the ticket prices are below 50, 50-100 is the second, 100-150 owns the 3rd population, then few of the passengers bought >200 & >500"
   ]
  },
  {
   "cell_type": "markdown",
   "id": "df0904ea-465d-4c71-8141-fab4c9150e07",
   "metadata": {},
   "source": [
    "### Cabin"
   ]
  },
  {
   "cell_type": "code",
   "execution_count": 20,
   "id": "01d47254-2cc9-45f9-8436-d17b5f495e5d",
   "metadata": {},
   "outputs": [
    {
     "data": {
      "text/html": [
       "<div>\n",
       "<style scoped>\n",
       "    .dataframe tbody tr th:only-of-type {\n",
       "        vertical-align: middle;\n",
       "    }\n",
       "\n",
       "    .dataframe tbody tr th {\n",
       "        vertical-align: top;\n",
       "    }\n",
       "\n",
       "    .dataframe thead th {\n",
       "        text-align: right;\n",
       "    }\n",
       "</style>\n",
       "<table border=\"1\" class=\"dataframe\">\n",
       "  <thead>\n",
       "    <tr style=\"text-align: right;\">\n",
       "      <th></th>\n",
       "      <th>cabin</th>\n",
       "      <th>count</th>\n",
       "    </tr>\n",
       "  </thead>\n",
       "  <tbody>\n",
       "    <tr>\n",
       "      <th>0</th>\n",
       "      <td>B96 B98</td>\n",
       "      <td>4</td>\n",
       "    </tr>\n",
       "    <tr>\n",
       "      <th>1</th>\n",
       "      <td>G6</td>\n",
       "      <td>4</td>\n",
       "    </tr>\n",
       "    <tr>\n",
       "      <th>2</th>\n",
       "      <td>C23 C25 C27</td>\n",
       "      <td>4</td>\n",
       "    </tr>\n",
       "    <tr>\n",
       "      <th>3</th>\n",
       "      <td>C22 C26</td>\n",
       "      <td>3</td>\n",
       "    </tr>\n",
       "    <tr>\n",
       "      <th>4</th>\n",
       "      <td>F33</td>\n",
       "      <td>3</td>\n",
       "    </tr>\n",
       "    <tr>\n",
       "      <th>...</th>\n",
       "      <td>...</td>\n",
       "      <td>...</td>\n",
       "    </tr>\n",
       "    <tr>\n",
       "      <th>142</th>\n",
       "      <td>E34</td>\n",
       "      <td>1</td>\n",
       "    </tr>\n",
       "    <tr>\n",
       "      <th>143</th>\n",
       "      <td>C7</td>\n",
       "      <td>1</td>\n",
       "    </tr>\n",
       "    <tr>\n",
       "      <th>144</th>\n",
       "      <td>C54</td>\n",
       "      <td>1</td>\n",
       "    </tr>\n",
       "    <tr>\n",
       "      <th>145</th>\n",
       "      <td>E36</td>\n",
       "      <td>1</td>\n",
       "    </tr>\n",
       "    <tr>\n",
       "      <th>146</th>\n",
       "      <td>C148</td>\n",
       "      <td>1</td>\n",
       "    </tr>\n",
       "  </tbody>\n",
       "</table>\n",
       "<p>147 rows × 2 columns</p>\n",
       "</div>"
      ],
      "text/plain": [
       "           cabin  count\n",
       "0        B96 B98      4\n",
       "1             G6      4\n",
       "2    C23 C25 C27      4\n",
       "3        C22 C26      3\n",
       "4            F33      3\n",
       "..           ...    ...\n",
       "142          E34      1\n",
       "143           C7      1\n",
       "144          C54      1\n",
       "145          E36      1\n",
       "146         C148      1\n",
       "\n",
       "[147 rows x 2 columns]"
      ]
     },
     "execution_count": 20,
     "metadata": {},
     "output_type": "execute_result"
    }
   ],
   "source": [
    "cabin_count = train_df['Cabin'].value_counts().to_frame().reset_index()\n",
    "\n",
    "cabin_count = cabin_count.rename(columns = {'index': 'cabin', 'Cabin': 'count'})\n",
    "\n",
    "cabin_count"
   ]
  },
  {
   "cell_type": "code",
   "execution_count": 21,
   "id": "47d2a64c-5faa-4578-9d79-451e40409b28",
   "metadata": {},
   "outputs": [
    {
     "data": {
      "text/plain": [
       "<function matplotlib.pyplot.show(close=None, block=None)>"
      ]
     },
     "execution_count": 21,
     "metadata": {},
     "output_type": "execute_result"
    },
    {
     "data": {
      "image/png": "[encoded data removed]",
      "text/plain": [
       "<Figure size 2000x300 with 1 Axes>"
      ]
     },
     "metadata": {},
     "output_type": "display_data"
    }
   ],
   "source": [
    "# figure size\n",
    "plt.figure(figsize=(20, 3))\n",
    "\n",
    "# assign the first column to x\n",
    "x_axis_cabin = cabin_count.iloc[:, 0]  \n",
    "\n",
    "# assign the second column to y\n",
    "y_axis_cabin = cabin_count.iloc[:, 1]  \n",
    "\n",
    "# Adjusted bar size\n",
    "bar_width = 0.5\n",
    "\n",
    "plt.hist(x_axis_cabin, bins = len(x_axis_cabin), width = bar_width, weights = y_axis_cabin,  align='mid', edgecolor='black', color = '#BC8F8F')\n",
    "\n",
    "#Add label\n",
    "plt.xlabel('Cabin')\n",
    "\n",
    "plt.ylabel('count')\n",
    "\n",
    "plt.xticks(rotation = 90)\n",
    "\n",
    "plt.show"
   ]
  },
  {
   "cell_type": "code",
   "execution_count": 22,
   "id": "4472fecf-8dff-427a-a856-2296845bfebc",
   "metadata": {},
   "outputs": [
    {
     "data": {
      "text/html": [
       "<div>\n",
       "<style scoped>\n",
       "    .dataframe tbody tr th:only-of-type {\n",
       "        vertical-align: middle;\n",
       "    }\n",
       "\n",
       "    .dataframe tbody tr th {\n",
       "        vertical-align: top;\n",
       "    }\n",
       "\n",
       "    .dataframe thead th {\n",
       "        text-align: right;\n",
       "    }\n",
       "</style>\n",
       "<table border=\"1\" class=\"dataframe\">\n",
       "  <thead>\n",
       "    <tr style=\"text-align: right;\">\n",
       "      <th></th>\n",
       "      <th>Cabin</th>\n",
       "      <th>Pclass</th>\n",
       "    </tr>\n",
       "  </thead>\n",
       "  <tbody>\n",
       "    <tr>\n",
       "      <th>0</th>\n",
       "      <td>-</td>\n",
       "      <td>3</td>\n",
       "    </tr>\n",
       "    <tr>\n",
       "      <th>1</th>\n",
       "      <td>C85</td>\n",
       "      <td>1</td>\n",
       "    </tr>\n",
       "    <tr>\n",
       "      <th>2</th>\n",
       "      <td>-</td>\n",
       "      <td>3</td>\n",
       "    </tr>\n",
       "    <tr>\n",
       "      <th>3</th>\n",
       "      <td>C123</td>\n",
       "      <td>1</td>\n",
       "    </tr>\n",
       "    <tr>\n",
       "      <th>4</th>\n",
       "      <td>-</td>\n",
       "      <td>3</td>\n",
       "    </tr>\n",
       "    <tr>\n",
       "      <th>...</th>\n",
       "      <td>...</td>\n",
       "      <td>...</td>\n",
       "    </tr>\n",
       "    <tr>\n",
       "      <th>886</th>\n",
       "      <td>-</td>\n",
       "      <td>2</td>\n",
       "    </tr>\n",
       "    <tr>\n",
       "      <th>887</th>\n",
       "      <td>B42</td>\n",
       "      <td>1</td>\n",
       "    </tr>\n",
       "    <tr>\n",
       "      <th>888</th>\n",
       "      <td>-</td>\n",
       "      <td>3</td>\n",
       "    </tr>\n",
       "    <tr>\n",
       "      <th>889</th>\n",
       "      <td>C148</td>\n",
       "      <td>1</td>\n",
       "    </tr>\n",
       "    <tr>\n",
       "      <th>890</th>\n",
       "      <td>-</td>\n",
       "      <td>3</td>\n",
       "    </tr>\n",
       "  </tbody>\n",
       "</table>\n",
       "<p>891 rows × 2 columns</p>\n",
       "</div>"
      ],
      "text/plain": [
       "    Cabin  Pclass\n",
       "0       -       3\n",
       "1     C85       1\n",
       "2       -       3\n",
       "3    C123       1\n",
       "4       -       3\n",
       "..    ...     ...\n",
       "886     -       2\n",
       "887   B42       1\n",
       "888     -       3\n",
       "889  C148       1\n",
       "890     -       3\n",
       "\n",
       "[891 rows x 2 columns]"
      ]
     },
     "execution_count": 22,
     "metadata": {},
     "output_type": "execute_result"
    }
   ],
   "source": [
    "cabin_pclass_count = train_df[['Cabin', 'Pclass']]\n",
    "\n",
    "cabin_pclass_count = cabin_pclass_count.fillna('-')\n",
    "\n",
    "cabin_pclass_count"
   ]
  },
  {
   "cell_type": "code",
   "execution_count": 23,
   "id": "228795b3-6844-4d99-a0ce-c22d082ce64a",
   "metadata": {},
   "outputs": [
    {
     "data": {
      "text/html": [
       "<div>\n",
       "<style scoped>\n",
       "    .dataframe tbody tr th:only-of-type {\n",
       "        vertical-align: middle;\n",
       "    }\n",
       "\n",
       "    .dataframe tbody tr th {\n",
       "        vertical-align: top;\n",
       "    }\n",
       "\n",
       "    .dataframe thead th {\n",
       "        text-align: right;\n",
       "    }\n",
       "</style>\n",
       "<table border=\"1\" class=\"dataframe\">\n",
       "  <thead>\n",
       "    <tr style=\"text-align: right;\">\n",
       "      <th></th>\n",
       "      <th>Cabin</th>\n",
       "      <th>Pclass</th>\n",
       "      <th>Cabin_cate</th>\n",
       "    </tr>\n",
       "  </thead>\n",
       "  <tbody>\n",
       "    <tr>\n",
       "      <th>0</th>\n",
       "      <td>-</td>\n",
       "      <td>3</td>\n",
       "      <td>-</td>\n",
       "    </tr>\n",
       "    <tr>\n",
       "      <th>1</th>\n",
       "      <td>C85</td>\n",
       "      <td>1</td>\n",
       "      <td>C</td>\n",
       "    </tr>\n",
       "    <tr>\n",
       "      <th>2</th>\n",
       "      <td>-</td>\n",
       "      <td>3</td>\n",
       "      <td>-</td>\n",
       "    </tr>\n",
       "    <tr>\n",
       "      <th>3</th>\n",
       "      <td>C123</td>\n",
       "      <td>1</td>\n",
       "      <td>C</td>\n",
       "    </tr>\n",
       "    <tr>\n",
       "      <th>4</th>\n",
       "      <td>-</td>\n",
       "      <td>3</td>\n",
       "      <td>-</td>\n",
       "    </tr>\n",
       "    <tr>\n",
       "      <th>...</th>\n",
       "      <td>...</td>\n",
       "      <td>...</td>\n",
       "      <td>...</td>\n",
       "    </tr>\n",
       "    <tr>\n",
       "      <th>886</th>\n",
       "      <td>-</td>\n",
       "      <td>2</td>\n",
       "      <td>-</td>\n",
       "    </tr>\n",
       "    <tr>\n",
       "      <th>887</th>\n",
       "      <td>B42</td>\n",
       "      <td>1</td>\n",
       "      <td>B</td>\n",
       "    </tr>\n",
       "    <tr>\n",
       "      <th>888</th>\n",
       "      <td>-</td>\n",
       "      <td>3</td>\n",
       "      <td>-</td>\n",
       "    </tr>\n",
       "    <tr>\n",
       "      <th>889</th>\n",
       "      <td>C148</td>\n",
       "      <td>1</td>\n",
       "      <td>C</td>\n",
       "    </tr>\n",
       "    <tr>\n",
       "      <th>890</th>\n",
       "      <td>-</td>\n",
       "      <td>3</td>\n",
       "      <td>-</td>\n",
       "    </tr>\n",
       "  </tbody>\n",
       "</table>\n",
       "<p>891 rows × 3 columns</p>\n",
       "</div>"
      ],
      "text/plain": [
       "    Cabin  Pclass Cabin_cate\n",
       "0       -       3          -\n",
       "1     C85       1          C\n",
       "2       -       3          -\n",
       "3    C123       1          C\n",
       "4       -       3          -\n",
       "..    ...     ...        ...\n",
       "886     -       2          -\n",
       "887   B42       1          B\n",
       "888     -       3          -\n",
       "889  C148       1          C\n",
       "890     -       3          -\n",
       "\n",
       "[891 rows x 3 columns]"
      ]
     },
     "execution_count": 23,
     "metadata": {},
     "output_type": "execute_result"
    }
   ],
   "source": [
    "cabin_pclass_count['Cabin_cate'] = cabin_pclass_count['Cabin'].str[0]\n",
    "\n",
    "cabin_pclass_count"
   ]
  },
  {
   "cell_type": "code",
   "execution_count": 24,
   "id": "b69f0111-4278-47fc-946f-2498bbdeeb8c",
   "metadata": {},
   "outputs": [
    {
     "data": {
      "text/html": [
       "<div>\n",
       "<style scoped>\n",
       "    .dataframe tbody tr th:only-of-type {\n",
       "        vertical-align: middle;\n",
       "    }\n",
       "\n",
       "    .dataframe tbody tr th {\n",
       "        vertical-align: top;\n",
       "    }\n",
       "\n",
       "    .dataframe thead th {\n",
       "        text-align: right;\n",
       "    }\n",
       "</style>\n",
       "<table border=\"1\" class=\"dataframe\">\n",
       "  <thead>\n",
       "    <tr style=\"text-align: right;\">\n",
       "      <th></th>\n",
       "      <th></th>\n",
       "      <th>Cabin_cate</th>\n",
       "    </tr>\n",
       "    <tr>\n",
       "      <th>Pclass</th>\n",
       "      <th>Cabin_cate</th>\n",
       "      <th></th>\n",
       "    </tr>\n",
       "  </thead>\n",
       "  <tbody>\n",
       "    <tr>\n",
       "      <th rowspan=\"7\" valign=\"top\">1</th>\n",
       "      <th>C</th>\n",
       "      <td>59</td>\n",
       "    </tr>\n",
       "    <tr>\n",
       "      <th>B</th>\n",
       "      <td>47</td>\n",
       "    </tr>\n",
       "    <tr>\n",
       "      <th>-</th>\n",
       "      <td>40</td>\n",
       "    </tr>\n",
       "    <tr>\n",
       "      <th>D</th>\n",
       "      <td>29</td>\n",
       "    </tr>\n",
       "    <tr>\n",
       "      <th>E</th>\n",
       "      <td>25</td>\n",
       "    </tr>\n",
       "    <tr>\n",
       "      <th>A</th>\n",
       "      <td>15</td>\n",
       "    </tr>\n",
       "    <tr>\n",
       "      <th>T</th>\n",
       "      <td>1</td>\n",
       "    </tr>\n",
       "    <tr>\n",
       "      <th rowspan=\"4\" valign=\"top\">2</th>\n",
       "      <th>-</th>\n",
       "      <td>168</td>\n",
       "    </tr>\n",
       "    <tr>\n",
       "      <th>F</th>\n",
       "      <td>8</td>\n",
       "    </tr>\n",
       "    <tr>\n",
       "      <th>D</th>\n",
       "      <td>4</td>\n",
       "    </tr>\n",
       "    <tr>\n",
       "      <th>E</th>\n",
       "      <td>4</td>\n",
       "    </tr>\n",
       "    <tr>\n",
       "      <th rowspan=\"4\" valign=\"top\">3</th>\n",
       "      <th>-</th>\n",
       "      <td>479</td>\n",
       "    </tr>\n",
       "    <tr>\n",
       "      <th>F</th>\n",
       "      <td>5</td>\n",
       "    </tr>\n",
       "    <tr>\n",
       "      <th>G</th>\n",
       "      <td>4</td>\n",
       "    </tr>\n",
       "    <tr>\n",
       "      <th>E</th>\n",
       "      <td>3</td>\n",
       "    </tr>\n",
       "  </tbody>\n",
       "</table>\n",
       "</div>"
      ],
      "text/plain": [
       "                   Cabin_cate\n",
       "Pclass Cabin_cate            \n",
       "1      C                   59\n",
       "       B                   47\n",
       "       -                   40\n",
       "       D                   29\n",
       "       E                   25\n",
       "       A                   15\n",
       "       T                    1\n",
       "2      -                  168\n",
       "       F                    8\n",
       "       D                    4\n",
       "       E                    4\n",
       "3      -                  479\n",
       "       F                    5\n",
       "       G                    4\n",
       "       E                    3"
      ]
     },
     "execution_count": 24,
     "metadata": {},
     "output_type": "execute_result"
    }
   ],
   "source": [
    "cabin_pclass_count.groupby('Pclass')['Cabin_cate'].value_counts().to_frame()"
   ]
  },
  {
   "cell_type": "markdown",
   "id": "525a94bf-5515-4cde-b709-3bfd40f35b67",
   "metadata": {},
   "source": [
    "It shows most of the passengers stay one person per cabin, then two per cabin.\n",
    "As for cabin_cate, the third class loss the data the most. \n",
    "p1: c is the most, p2: f is the most, p3 f is the most"
   ]
  },
  {
   "cell_type": "markdown",
   "id": "b56e236e-5074-46ea-b8d0-9b87598c69b3",
   "metadata": {},
   "source": [
    "### Embarked"
   ]
  },
  {
   "cell_type": "code",
   "execution_count": 25,
   "id": "d56769d8-98d5-44d2-93e9-a87f1e54947d",
   "metadata": {},
   "outputs": [
    {
     "data": {
      "text/html": [
       "<div>\n",
       "<style scoped>\n",
       "    .dataframe tbody tr th:only-of-type {\n",
       "        vertical-align: middle;\n",
       "    }\n",
       "\n",
       "    .dataframe tbody tr th {\n",
       "        vertical-align: top;\n",
       "    }\n",
       "\n",
       "    .dataframe thead th {\n",
       "        text-align: right;\n",
       "    }\n",
       "</style>\n",
       "<table border=\"1\" class=\"dataframe\">\n",
       "  <thead>\n",
       "    <tr style=\"text-align: right;\">\n",
       "      <th></th>\n",
       "      <th>embarked</th>\n",
       "      <th>count</th>\n",
       "    </tr>\n",
       "  </thead>\n",
       "  <tbody>\n",
       "    <tr>\n",
       "      <th>0</th>\n",
       "      <td>S</td>\n",
       "      <td>644</td>\n",
       "    </tr>\n",
       "    <tr>\n",
       "      <th>1</th>\n",
       "      <td>C</td>\n",
       "      <td>168</td>\n",
       "    </tr>\n",
       "    <tr>\n",
       "      <th>2</th>\n",
       "      <td>Q</td>\n",
       "      <td>77</td>\n",
       "    </tr>\n",
       "  </tbody>\n",
       "</table>\n",
       "</div>"
      ],
      "text/plain": [
       "  embarked  count\n",
       "0        S    644\n",
       "1        C    168\n",
       "2        Q     77"
      ]
     },
     "execution_count": 25,
     "metadata": {},
     "output_type": "execute_result"
    }
   ],
   "source": [
    "embark_count = train_df['Embarked'].value_counts().to_frame().reset_index()\n",
    "\n",
    "embark_count = embark_count.rename(columns = {'index': 'embarked', 'Embarked': 'count'})\n",
    "\n",
    "embark_count"
   ]
  },
  {
   "cell_type": "code",
   "execution_count": 26,
   "id": "1a4ebf61-d8a2-41cf-bbb4-bffa3aeab4fd",
   "metadata": {},
   "outputs": [
    {
     "data": {
      "text/plain": [
       "<function matplotlib.pyplot.show(close=None, block=None)>"
      ]
     },
     "execution_count": 26,
     "metadata": {},
     "output_type": "execute_result"
    },
    {
     "data": {
      "image/png": "[encoded data removed]",
      "text/plain": [
       "<Figure size 500x300 with 1 Axes>"
      ]
     },
     "metadata": {},
     "output_type": "display_data"
    }
   ],
   "source": [
    "# figure size\n",
    "plt.figure(figsize=(5, 3))\n",
    "\n",
    "# assign the first column to x\n",
    "x_axis_embark = embark_count.iloc[:, 0]  \n",
    "\n",
    "# assign the second column to y\n",
    "y_axis_embark = embark_count.iloc[:, 1]  \n",
    "\n",
    "# Adjusted bar size\n",
    "bar_width = 0.5\n",
    "\n",
    "plt.bar(x_axis_embark, height = y_axis_embark, width = bar_width, align='center', edgecolor='black', color = '#BC8F8F')\n",
    "\n",
    "#Add label\n",
    "plt.xlabel('Embarked')\n",
    "\n",
    "plt.ylabel('count')\n",
    "\n",
    "plt.show"
   ]
  },
  {
   "cell_type": "markdown",
   "id": "8b328e29-dd90-4fb0-9d6f-71f1cc046a47",
   "metadata": {},
   "source": [
    "## Check features that may affect survival chance"
   ]
  },
  {
   "cell_type": "markdown",
   "id": "85dcf5b8-16de-4504-8f79-55b1459e379a",
   "metadata": {},
   "source": [
    "### Sex"
   ]
  },
  {
   "cell_type": "code",
   "execution_count": 27,
   "id": "b2a38dd0-25c0-440f-9c7d-1e04a4c6aa2e",
   "metadata": {},
   "outputs": [
    {
     "data": {
      "text/html": [
       "<div>\n",
       "<style scoped>\n",
       "    .dataframe tbody tr th:only-of-type {\n",
       "        vertical-align: middle;\n",
       "    }\n",
       "\n",
       "    .dataframe tbody tr th {\n",
       "        vertical-align: top;\n",
       "    }\n",
       "\n",
       "    .dataframe thead th {\n",
       "        text-align: right;\n",
       "    }\n",
       "</style>\n",
       "<table border=\"1\" class=\"dataframe\">\n",
       "  <thead>\n",
       "    <tr style=\"text-align: right;\">\n",
       "      <th></th>\n",
       "      <th>Sex</th>\n",
       "      <th>Survived</th>\n",
       "    </tr>\n",
       "  </thead>\n",
       "  <tbody>\n",
       "    <tr>\n",
       "      <th>0</th>\n",
       "      <td>male</td>\n",
       "      <td>0.188908</td>\n",
       "    </tr>\n",
       "    <tr>\n",
       "      <th>1</th>\n",
       "      <td>female</td>\n",
       "      <td>0.742038</td>\n",
       "    </tr>\n",
       "  </tbody>\n",
       "</table>\n",
       "</div>"
      ],
      "text/plain": [
       "      Sex  Survived\n",
       "0    male  0.188908\n",
       "1  female  0.742038"
      ]
     },
     "execution_count": 27,
     "metadata": {},
     "output_type": "execute_result"
    }
   ],
   "source": [
    "sex_survived = train_df[['Sex', 'Survived']].groupby(train_df['Sex']).mean().sort_values(by='Survived', ascending=True).reset_index()\n",
    "\n",
    "sex_survived"
   ]
  },
  {
   "cell_type": "code",
   "execution_count": 28,
   "id": "74158082-f760-46cc-87a7-7b46db5bacb1",
   "metadata": {},
   "outputs": [
    {
     "data": {
      "image/png": "[encoded data removed]",
      "text/plain": [
       "<Figure size 640x480 with 1 Axes>"
      ]
     },
     "metadata": {},
     "output_type": "display_data"
    }
   ],
   "source": [
    "#  bar chart\n",
    "# colors for the bars\n",
    "colors = ['#B0C4DE', '#f08080']\n",
    "\n",
    "plt.bar(sex_survived['Sex'], sex_survived['Survived'], color = colors)\n",
    "\n",
    "# Adding labels and title\n",
    "plt.xlabel('sex')\n",
    "\n",
    "plt.ylabel('Survival Rate')\n",
    "\n",
    "plt.title('Survival Rate by sex')\n",
    "\n",
    "# Rotating x-axis labels for better readability\n",
    "\n",
    "plt.xticks(rotation=45)\n",
    "\n",
    "# Displaying the chart\n",
    "plt.show()"
   ]
  },
  {
   "cell_type": "markdown",
   "id": "032064b7-5678-4567-b338-4151192a135e",
   "metadata": {},
   "source": [
    "Females are more likely to survive"
   ]
  },
  {
   "cell_type": "markdown",
   "id": "a4e7feb1-1a73-4210-9843-ecae3df75fa2",
   "metadata": {},
   "source": [
    "### Age\n",
    "* fractional if less than 1. If the age is estimated, is it in the form of xx.5"
   ]
  },
  {
   "cell_type": "code",
   "execution_count": 29,
   "id": "a83b010f-ae46-4306-8d8a-f2865e9503ac",
   "metadata": {},
   "outputs": [
    {
     "data": {
      "text/html": [
       "<div>\n",
       "<style scoped>\n",
       "    .dataframe tbody tr th:only-of-type {\n",
       "        vertical-align: middle;\n",
       "    }\n",
       "\n",
       "    .dataframe tbody tr th {\n",
       "        vertical-align: top;\n",
       "    }\n",
       "\n",
       "    .dataframe thead th {\n",
       "        text-align: right;\n",
       "    }\n",
       "</style>\n",
       "<table border=\"1\" class=\"dataframe\">\n",
       "  <thead>\n",
       "    <tr style=\"text-align: right;\">\n",
       "      <th></th>\n",
       "      <th>Survived</th>\n",
       "    </tr>\n",
       "    <tr>\n",
       "      <th>Age_Group</th>\n",
       "      <th></th>\n",
       "    </tr>\n",
       "  </thead>\n",
       "  <tbody>\n",
       "    <tr>\n",
       "      <th>(0.34, 10.368]</th>\n",
       "      <td>0.593750</td>\n",
       "    </tr>\n",
       "    <tr>\n",
       "      <th>(10.368, 20.315]</th>\n",
       "      <td>0.382609</td>\n",
       "    </tr>\n",
       "    <tr>\n",
       "      <th>(20.315, 30.263]</th>\n",
       "      <td>0.365217</td>\n",
       "    </tr>\n",
       "    <tr>\n",
       "      <th>(30.263, 40.21]</th>\n",
       "      <td>0.445161</td>\n",
       "    </tr>\n",
       "    <tr>\n",
       "      <th>(40.21, 50.158]</th>\n",
       "      <td>0.383721</td>\n",
       "    </tr>\n",
       "    <tr>\n",
       "      <th>(50.158, 60.105]</th>\n",
       "      <td>0.404762</td>\n",
       "    </tr>\n",
       "    <tr>\n",
       "      <th>(60.105, 70.052]</th>\n",
       "      <td>0.235294</td>\n",
       "    </tr>\n",
       "    <tr>\n",
       "      <th>(70.052, 80.0]</th>\n",
       "      <td>0.200000</td>\n",
       "    </tr>\n",
       "  </tbody>\n",
       "</table>\n",
       "</div>"
      ],
      "text/plain": [
       "                  Survived\n",
       "Age_Group                 \n",
       "(0.34, 10.368]    0.593750\n",
       "(10.368, 20.315]  0.382609\n",
       "(20.315, 30.263]  0.365217\n",
       "(30.263, 40.21]   0.445161\n",
       "(40.21, 50.158]   0.383721\n",
       "(50.158, 60.105]  0.404762\n",
       "(60.105, 70.052]  0.235294\n",
       "(70.052, 80.0]    0.200000"
      ]
     },
     "execution_count": 29,
     "metadata": {},
     "output_type": "execute_result"
    }
   ],
   "source": [
    "# Group 'Age' column into 10 groups\n",
    "train_df['Age_Group'] = pd.cut(train_df['Age'], bins=8)\n",
    "\n",
    "group_age_survived = train_df[['Age_Group', 'Survived']].groupby(train_df['Age_Group']).mean().sort_values(by='Age_Group', ascending=True)\n",
    "\n",
    "group_age_survived"
   ]
  },
  {
   "cell_type": "code",
   "execution_count": 30,
   "id": "22b62e51-81ff-475d-b615-0f971f435116",
   "metadata": {},
   "outputs": [
    {
     "data": {
      "image/png": "[encoded data removed]",
      "text/plain": [
       "<Figure size 640x480 with 1 Axes>"
      ]
     },
     "metadata": {},
     "output_type": "display_data"
    }
   ],
   "source": [
    "#  bar chart\n",
    "plt.bar(group_age_survived.index.astype(str), group_age_survived['Survived'], color = '#BC8F8F')\n",
    "\n",
    "# Adding labels and title\n",
    "plt.xlabel('Age Group')\n",
    "\n",
    "plt.ylabel('Survival Rate')\n",
    "\n",
    "plt.title('Survival Rate by Age Group')\n",
    "\n",
    "# Rotating x-axis labels for better readability\n",
    "age_groups = ['1-10', '10-20', '20-30', '30-40', '40-50', '50-60', '60-70', '70-80', '80-90']\n",
    "\n",
    "plt.xticks(range(len(age_groups)), age_groups, rotation=45)\n",
    "\n",
    "plt.xticks(rotation=45)\n",
    "\n",
    "# Displaying the chart\n",
    "plt.show()"
   ]
  },
  {
   "cell_type": "markdown",
   "id": "b66ae2ad-69cf-4945-bcde-a503403fad07",
   "metadata": {},
   "source": [
    "Children under 8 and elderly abouve 72 have higher survival chance, which make sense when retreating people to the lifeboat."
   ]
  },
  {
   "cell_type": "code",
   "execution_count": 31,
   "id": "fdb543ff-bd2f-4ea3-a472-44ea1276ad4b",
   "metadata": {},
   "outputs": [
    {
     "data": {
      "text/html": [
       "<div>\n",
       "<style scoped>\n",
       "    .dataframe tbody tr th:only-of-type {\n",
       "        vertical-align: middle;\n",
       "    }\n",
       "\n",
       "    .dataframe tbody tr th {\n",
       "        vertical-align: top;\n",
       "    }\n",
       "\n",
       "    .dataframe thead th {\n",
       "        text-align: right;\n",
       "    }\n",
       "</style>\n",
       "<table border=\"1\" class=\"dataframe\">\n",
       "  <thead>\n",
       "    <tr style=\"text-align: right;\">\n",
       "      <th></th>\n",
       "      <th>Sex</th>\n",
       "      <th>Age</th>\n",
       "      <th>Survived</th>\n",
       "    </tr>\n",
       "  </thead>\n",
       "  <tbody>\n",
       "    <tr>\n",
       "      <th>0</th>\n",
       "      <td>male</td>\n",
       "      <td>22.0</td>\n",
       "      <td>0</td>\n",
       "    </tr>\n",
       "    <tr>\n",
       "      <th>1</th>\n",
       "      <td>female</td>\n",
       "      <td>38.0</td>\n",
       "      <td>1</td>\n",
       "    </tr>\n",
       "    <tr>\n",
       "      <th>2</th>\n",
       "      <td>female</td>\n",
       "      <td>26.0</td>\n",
       "      <td>1</td>\n",
       "    </tr>\n",
       "    <tr>\n",
       "      <th>3</th>\n",
       "      <td>female</td>\n",
       "      <td>35.0</td>\n",
       "      <td>1</td>\n",
       "    </tr>\n",
       "    <tr>\n",
       "      <th>4</th>\n",
       "      <td>male</td>\n",
       "      <td>35.0</td>\n",
       "      <td>0</td>\n",
       "    </tr>\n",
       "    <tr>\n",
       "      <th>...</th>\n",
       "      <td>...</td>\n",
       "      <td>...</td>\n",
       "      <td>...</td>\n",
       "    </tr>\n",
       "    <tr>\n",
       "      <th>886</th>\n",
       "      <td>male</td>\n",
       "      <td>27.0</td>\n",
       "      <td>0</td>\n",
       "    </tr>\n",
       "    <tr>\n",
       "      <th>887</th>\n",
       "      <td>female</td>\n",
       "      <td>19.0</td>\n",
       "      <td>1</td>\n",
       "    </tr>\n",
       "    <tr>\n",
       "      <th>888</th>\n",
       "      <td>female</td>\n",
       "      <td>NaN</td>\n",
       "      <td>0</td>\n",
       "    </tr>\n",
       "    <tr>\n",
       "      <th>889</th>\n",
       "      <td>male</td>\n",
       "      <td>26.0</td>\n",
       "      <td>1</td>\n",
       "    </tr>\n",
       "    <tr>\n",
       "      <th>890</th>\n",
       "      <td>male</td>\n",
       "      <td>32.0</td>\n",
       "      <td>0</td>\n",
       "    </tr>\n",
       "  </tbody>\n",
       "</table>\n",
       "<p>891 rows × 3 columns</p>\n",
       "</div>"
      ],
      "text/plain": [
       "        Sex   Age  Survived\n",
       "0      male  22.0         0\n",
       "1    female  38.0         1\n",
       "2    female  26.0         1\n",
       "3    female  35.0         1\n",
       "4      male  35.0         0\n",
       "..      ...   ...       ...\n",
       "886    male  27.0         0\n",
       "887  female  19.0         1\n",
       "888  female   NaN         0\n",
       "889    male  26.0         1\n",
       "890    male  32.0         0\n",
       "\n",
       "[891 rows x 3 columns]"
      ]
     },
     "execution_count": 31,
     "metadata": {},
     "output_type": "execute_result"
    }
   ],
   "source": [
    "age_sex_survived  = train_df[['Sex', 'Age', 'Survived']]\n",
    "\n",
    "age_sex_survived\n"
   ]
  },
  {
   "cell_type": "markdown",
   "id": "0bc6e892-fee4-47eb-8c39-9accbd904b21",
   "metadata": {},
   "source": [
    "### Age & Sex"
   ]
  },
  {
   "cell_type": "code",
   "execution_count": 32,
   "id": "14e8682b-0362-41e4-9ce6-6d1e9e2b60a0",
   "metadata": {},
   "outputs": [
    {
     "data": {
      "image/png": "[encoded data removed]",
      "text/plain": [
       "<Figure size 640x480 with 1 Axes>"
      ]
     },
     "metadata": {},
     "output_type": "display_data"
    }
   ],
   "source": [
    "# Grouping the data by age and sex and calculating the mean survival rate\n",
    "each_10_age = pd.cut(age_sex_survived['Age'], bins = 8)# change into eaxh 10 yr age\n",
    "\n",
    "grouped_sex_age = age_sex_survived.groupby([each_10_age, 'Sex'])['Survived'].mean().reset_index()\n",
    "\n",
    "# Filtering out the rows with missing values (NaN) in 'Age' column\n",
    "grouped_sex_age = grouped_sex_age.dropna(subset = ['Age'])\n",
    "\n",
    "# Extracting the midpoint of each age interval\n",
    "grouped_sex_age['AgeMidpoint'] = grouped_sex_age['Age'].apply(lambda x: (x.left + x.right) / 2)\n",
    "\n",
    "# Separate the data by sex\n",
    "male_data = grouped_sex_age[grouped_sex_age['Sex'] == 'male']\n",
    "\n",
    "female_data = grouped_sex_age[grouped_sex_age['Sex'] == 'female']\n",
    "\n",
    "# Sorting the data by age\n",
    "male_data = male_data.sort_values('AgeMidpoint')\n",
    "\n",
    "female_data = female_data.sort_values('AgeMidpoint')\n",
    "\n",
    "# Plotting the bar chart for males\n",
    "plt.bar(male_data['AgeMidpoint'], male_data['Survived'], color = 'blue', label = 'Male', width = 1, alpha = 0.7)\n",
    "\n",
    "# Plotting the bar chart for females\n",
    "plt.bar(female_data['AgeMidpoint'], female_data['Survived'], color = 'red', label = 'Female', width = 3, alpha = 0.3)\n",
    "\n",
    "# Adding labels and title\n",
    "plt.xlabel('Age Groups')\n",
    "\n",
    "plt.ylabel('Survived')\n",
    "\n",
    "plt.title('Survival by Age and Sex')\n",
    "\n",
    "plt.legend()\n",
    "\n",
    "# Displaying the plot\n",
    "plt.show()\n"
   ]
  },
  {
   "cell_type": "markdown",
   "id": "81871d8d-bb5d-410b-a1e4-6366abe4f514",
   "metadata": {},
   "source": [
    "### SibSp\n",
    "* of siblings / spouses aboard the Titanic\t"
   ]
  },
  {
   "cell_type": "code",
   "execution_count": 33,
   "id": "5972fdb8-1ea5-40d1-98b9-08faa5780749",
   "metadata": {},
   "outputs": [
    {
     "data": {
      "text/html": [
       "<div>\n",
       "<style scoped>\n",
       "    .dataframe tbody tr th:only-of-type {\n",
       "        vertical-align: middle;\n",
       "    }\n",
       "\n",
       "    .dataframe tbody tr th {\n",
       "        vertical-align: top;\n",
       "    }\n",
       "\n",
       "    .dataframe thead th {\n",
       "        text-align: right;\n",
       "    }\n",
       "</style>\n",
       "<table border=\"1\" class=\"dataframe\">\n",
       "  <thead>\n",
       "    <tr style=\"text-align: right;\">\n",
       "      <th></th>\n",
       "      <th>Survived</th>\n",
       "    </tr>\n",
       "    <tr>\n",
       "      <th>SibSp</th>\n",
       "      <th></th>\n",
       "    </tr>\n",
       "  </thead>\n",
       "  <tbody>\n",
       "    <tr>\n",
       "      <th>5</th>\n",
       "      <td>0.000000</td>\n",
       "    </tr>\n",
       "    <tr>\n",
       "      <th>8</th>\n",
       "      <td>0.000000</td>\n",
       "    </tr>\n",
       "    <tr>\n",
       "      <th>4</th>\n",
       "      <td>0.166667</td>\n",
       "    </tr>\n",
       "    <tr>\n",
       "      <th>3</th>\n",
       "      <td>0.250000</td>\n",
       "    </tr>\n",
       "    <tr>\n",
       "      <th>0</th>\n",
       "      <td>0.345395</td>\n",
       "    </tr>\n",
       "    <tr>\n",
       "      <th>2</th>\n",
       "      <td>0.464286</td>\n",
       "    </tr>\n",
       "    <tr>\n",
       "      <th>1</th>\n",
       "      <td>0.535885</td>\n",
       "    </tr>\n",
       "  </tbody>\n",
       "</table>\n",
       "</div>"
      ],
      "text/plain": [
       "       Survived\n",
       "SibSp          \n",
       "5      0.000000\n",
       "8      0.000000\n",
       "4      0.166667\n",
       "3      0.250000\n",
       "0      0.345395\n",
       "2      0.464286\n",
       "1      0.535885"
      ]
     },
     "execution_count": 33,
     "metadata": {},
     "output_type": "execute_result"
    }
   ],
   "source": [
    "SibSp_survived = train_df.groupby('SibSp')['Survived'].mean().sort_values(ascending=True)\n",
    "\n",
    "SibSp_survived = SibSp_survived.to_frame()\n",
    "\n",
    "SibSp_survived"
   ]
  },
  {
   "cell_type": "code",
   "execution_count": 34,
   "id": "971c4199-66a0-4163-87b4-b2b733bf6602",
   "metadata": {},
   "outputs": [
    {
     "data": {
      "image/png": "[encoded data removed]",
      "text/plain": [
       "<Figure size 640x480 with 1 Axes>"
      ]
     },
     "metadata": {},
     "output_type": "display_data"
    }
   ],
   "source": [
    "#  bar chart\n",
    "plt.bar(SibSp_survived.index.astype(str), SibSp_survived['Survived'], color = '#BC8F8F')\n",
    "\n",
    "# Adding labels and title\n",
    "plt.xlabel('Sibsp')\n",
    "\n",
    "plt.ylabel('Survival Rate')\n",
    "\n",
    "plt.title('Survival Rate by Sibsp')\n",
    "\n",
    "# Rotating x-axis labels for better readability\n",
    "\n",
    "plt.xticks(rotation=45)\n",
    "\n",
    "# Displaying the chart\n",
    "plt.show()"
   ]
  },
  {
   "cell_type": "markdown",
   "id": "8efe215b-54bf-4553-a503-1a5a29fcf86d",
   "metadata": {},
   "source": [
    "It shows the less siblings/spouse, the higher chance for survival"
   ]
  },
  {
   "cell_type": "markdown",
   "id": "6ffd0386-990e-4c2d-9411-d0a2b5f86416",
   "metadata": {},
   "source": [
    "### Parch\n",
    "* of parents / children aboard the Titanic\n",
    "* Some children travelled only with a nanny, therefore parch=0 for them."
   ]
  },
  {
   "cell_type": "code",
   "execution_count": 35,
   "id": "26da7d12-635c-4f26-b520-2ebcc4201da9",
   "metadata": {},
   "outputs": [
    {
     "data": {
      "text/html": [
       "<div>\n",
       "<style scoped>\n",
       "    .dataframe tbody tr th:only-of-type {\n",
       "        vertical-align: middle;\n",
       "    }\n",
       "\n",
       "    .dataframe tbody tr th {\n",
       "        vertical-align: top;\n",
       "    }\n",
       "\n",
       "    .dataframe thead th {\n",
       "        text-align: right;\n",
       "    }\n",
       "</style>\n",
       "<table border=\"1\" class=\"dataframe\">\n",
       "  <thead>\n",
       "    <tr style=\"text-align: right;\">\n",
       "      <th></th>\n",
       "      <th>Survived</th>\n",
       "    </tr>\n",
       "    <tr>\n",
       "      <th>Parch</th>\n",
       "      <th></th>\n",
       "    </tr>\n",
       "  </thead>\n",
       "  <tbody>\n",
       "    <tr>\n",
       "      <th>4</th>\n",
       "      <td>0.000000</td>\n",
       "    </tr>\n",
       "    <tr>\n",
       "      <th>6</th>\n",
       "      <td>0.000000</td>\n",
       "    </tr>\n",
       "    <tr>\n",
       "      <th>5</th>\n",
       "      <td>0.200000</td>\n",
       "    </tr>\n",
       "    <tr>\n",
       "      <th>0</th>\n",
       "      <td>0.343658</td>\n",
       "    </tr>\n",
       "    <tr>\n",
       "      <th>2</th>\n",
       "      <td>0.500000</td>\n",
       "    </tr>\n",
       "    <tr>\n",
       "      <th>1</th>\n",
       "      <td>0.550847</td>\n",
       "    </tr>\n",
       "    <tr>\n",
       "      <th>3</th>\n",
       "      <td>0.600000</td>\n",
       "    </tr>\n",
       "  </tbody>\n",
       "</table>\n",
       "</div>"
      ],
      "text/plain": [
       "       Survived\n",
       "Parch          \n",
       "4      0.000000\n",
       "6      0.000000\n",
       "5      0.200000\n",
       "0      0.343658\n",
       "2      0.500000\n",
       "1      0.550847\n",
       "3      0.600000"
      ]
     },
     "execution_count": 35,
     "metadata": {},
     "output_type": "execute_result"
    }
   ],
   "source": [
    "Parch_survived = train_df.groupby('Parch')['Survived'].mean().sort_values(ascending=True)\n",
    "\n",
    "Parch_survived = Parch_survived.to_frame()\n",
    "\n",
    "Parch_survived"
   ]
  },
  {
   "cell_type": "code",
   "execution_count": 36,
   "id": "56e27046-87df-492a-885d-5ae059b8092e",
   "metadata": {},
   "outputs": [
    {
     "data": {
      "image/png": "[encoded data removed]",
      "text/plain": [
       "<Figure size 640x480 with 1 Axes>"
      ]
     },
     "metadata": {},
     "output_type": "display_data"
    }
   ],
   "source": [
    "#  bar chart\n",
    "plt.bar(Parch_survived.index.astype(str), Parch_survived['Survived'], color = '#BC8F8F')\n",
    "\n",
    "# Adding labels and title\n",
    "plt.xlabel('Parch')\n",
    "\n",
    "plt.ylabel('Survival Rate')\n",
    "\n",
    "plt.title('Survival Rate by Parch')\n",
    "\n",
    "# Rotating x-axis labels for better readability\n",
    "\n",
    "plt.xticks(rotation=45)\n",
    "\n",
    "# Displaying the chart\n",
    "plt.show()"
   ]
  },
  {
   "cell_type": "markdown",
   "id": "5a1c1c3c-3038-4cbe-b8b7-e1cf5b479a64",
   "metadata": {},
   "source": [
    "It shows parent/children = 3 has the most survival chance, which doesn't provide any useful info "
   ]
  },
  {
   "cell_type": "markdown",
   "id": "56079e7f-9b88-4324-b685-432ae368dde4",
   "metadata": {},
   "source": [
    "### Fare\n",
    "* Passenger fare"
   ]
  },
  {
   "cell_type": "code",
   "execution_count": 37,
   "id": "6b9acf5e-8c7c-430b-9724-9062f1f90ac0",
   "metadata": {},
   "outputs": [
    {
     "data": {
      "text/html": [
       "<div>\n",
       "<style scoped>\n",
       "    .dataframe tbody tr th:only-of-type {\n",
       "        vertical-align: middle;\n",
       "    }\n",
       "\n",
       "    .dataframe tbody tr th {\n",
       "        vertical-align: top;\n",
       "    }\n",
       "\n",
       "    .dataframe thead th {\n",
       "        text-align: right;\n",
       "    }\n",
       "</style>\n",
       "<table border=\"1\" class=\"dataframe\">\n",
       "  <thead>\n",
       "    <tr style=\"text-align: right;\">\n",
       "      <th></th>\n",
       "      <th>Fare</th>\n",
       "      <th>Survived</th>\n",
       "    </tr>\n",
       "  </thead>\n",
       "  <tbody>\n",
       "    <tr>\n",
       "      <th>0</th>\n",
       "      <td>8.7125</td>\n",
       "      <td>0.0</td>\n",
       "    </tr>\n",
       "    <tr>\n",
       "      <th>1</th>\n",
       "      <td>32.3208</td>\n",
       "      <td>0.0</td>\n",
       "    </tr>\n",
       "    <tr>\n",
       "      <th>2</th>\n",
       "      <td>11.5000</td>\n",
       "      <td>0.0</td>\n",
       "    </tr>\n",
       "    <tr>\n",
       "      <th>3</th>\n",
       "      <td>33.5000</td>\n",
       "      <td>0.0</td>\n",
       "    </tr>\n",
       "    <tr>\n",
       "      <th>4</th>\n",
       "      <td>34.0208</td>\n",
       "      <td>0.0</td>\n",
       "    </tr>\n",
       "    <tr>\n",
       "      <th>...</th>\n",
       "      <td>...</td>\n",
       "      <td>...</td>\n",
       "    </tr>\n",
       "    <tr>\n",
       "      <th>243</th>\n",
       "      <td>32.5000</td>\n",
       "      <td>1.0</td>\n",
       "    </tr>\n",
       "    <tr>\n",
       "      <th>244</th>\n",
       "      <td>12.0000</td>\n",
       "      <td>1.0</td>\n",
       "    </tr>\n",
       "    <tr>\n",
       "      <th>245</th>\n",
       "      <td>12.2875</td>\n",
       "      <td>1.0</td>\n",
       "    </tr>\n",
       "    <tr>\n",
       "      <th>246</th>\n",
       "      <td>8.1125</td>\n",
       "      <td>1.0</td>\n",
       "    </tr>\n",
       "    <tr>\n",
       "      <th>247</th>\n",
       "      <td>512.3292</td>\n",
       "      <td>1.0</td>\n",
       "    </tr>\n",
       "  </tbody>\n",
       "</table>\n",
       "<p>248 rows × 2 columns</p>\n",
       "</div>"
      ],
      "text/plain": [
       "         Fare  Survived\n",
       "0      8.7125       0.0\n",
       "1     32.3208       0.0\n",
       "2     11.5000       0.0\n",
       "3     33.5000       0.0\n",
       "4     34.0208       0.0\n",
       "..        ...       ...\n",
       "243   32.5000       1.0\n",
       "244   12.0000       1.0\n",
       "245   12.2875       1.0\n",
       "246    8.1125       1.0\n",
       "247  512.3292       1.0\n",
       "\n",
       "[248 rows x 2 columns]"
      ]
     },
     "execution_count": 37,
     "metadata": {},
     "output_type": "execute_result"
    }
   ],
   "source": [
    "Fare_survived = train_df.groupby('Fare')['Survived'].mean().sort_values(ascending=True).reset_index()\n",
    "\n",
    "Fare_survived"
   ]
  },
  {
   "cell_type": "code",
   "execution_count": 38,
   "id": "284d8276-54cc-4a2c-82dd-354cc78c7743",
   "metadata": {},
   "outputs": [
    {
     "data": {
      "text/plain": [
       "<function matplotlib.pyplot.show(close=None, block=None)>"
      ]
     },
     "execution_count": 38,
     "metadata": {},
     "output_type": "execute_result"
    },
    {
     "data": {
      "image/png": "[encoded data removed]",
      "text/plain": [
       "<Figure size 640x480 with 1 Axes>"
      ]
     },
     "metadata": {},
     "output_type": "display_data"
    }
   ],
   "source": [
    "x = Fare_survived.iloc[:,0]\n",
    "\n",
    "y = Fare_survived.iloc[:,1]\n",
    "\n",
    "plt.scatter(x, y)\n",
    "\n",
    "#Add label\n",
    "plt.xlabel('Fare')\n",
    "\n",
    "plt.ylabel('survived chance')\n",
    "\n",
    "plt.show"
   ]
  },
  {
   "cell_type": "code",
   "execution_count": 39,
   "id": "c32ed8b9-43e4-4ff7-bf14-9f4a6e2f0f1d",
   "metadata": {},
   "outputs": [
    {
     "data": {
      "text/html": [
       "<div>\n",
       "<style scoped>\n",
       "    .dataframe tbody tr th:only-of-type {\n",
       "        vertical-align: middle;\n",
       "    }\n",
       "\n",
       "    .dataframe tbody tr th {\n",
       "        vertical-align: top;\n",
       "    }\n",
       "\n",
       "    .dataframe thead th {\n",
       "        text-align: right;\n",
       "    }\n",
       "</style>\n",
       "<table border=\"1\" class=\"dataframe\">\n",
       "  <thead>\n",
       "    <tr style=\"text-align: right;\">\n",
       "      <th></th>\n",
       "      <th>Survived</th>\n",
       "    </tr>\n",
       "    <tr>\n",
       "      <th>Fare_group</th>\n",
       "      <th></th>\n",
       "    </tr>\n",
       "  </thead>\n",
       "  <tbody>\n",
       "    <tr>\n",
       "      <th>(-0.512, 51.233]</th>\n",
       "      <td>0.318306</td>\n",
       "    </tr>\n",
       "    <tr>\n",
       "      <th>(51.233, 102.466]</th>\n",
       "      <td>0.660377</td>\n",
       "    </tr>\n",
       "    <tr>\n",
       "      <th>(102.466, 153.699]</th>\n",
       "      <td>0.741935</td>\n",
       "    </tr>\n",
       "    <tr>\n",
       "      <th>(153.699, 204.932]</th>\n",
       "      <td>1.000000</td>\n",
       "    </tr>\n",
       "    <tr>\n",
       "      <th>(204.932, 256.165]</th>\n",
       "      <td>0.636364</td>\n",
       "    </tr>\n",
       "    <tr>\n",
       "      <th>(256.165, 307.398]</th>\n",
       "      <td>0.666667</td>\n",
       "    </tr>\n",
       "    <tr>\n",
       "      <th>(307.398, 358.63]</th>\n",
       "      <td>NaN</td>\n",
       "    </tr>\n",
       "    <tr>\n",
       "      <th>(358.63, 409.863]</th>\n",
       "      <td>NaN</td>\n",
       "    </tr>\n",
       "    <tr>\n",
       "      <th>(409.863, 461.096]</th>\n",
       "      <td>NaN</td>\n",
       "    </tr>\n",
       "    <tr>\n",
       "      <th>(461.096, 512.329]</th>\n",
       "      <td>1.000000</td>\n",
       "    </tr>\n",
       "  </tbody>\n",
       "</table>\n",
       "</div>"
      ],
      "text/plain": [
       "                    Survived\n",
       "Fare_group                  \n",
       "(-0.512, 51.233]    0.318306\n",
       "(51.233, 102.466]   0.660377\n",
       "(102.466, 153.699]  0.741935\n",
       "(153.699, 204.932]  1.000000\n",
       "(204.932, 256.165]  0.636364\n",
       "(256.165, 307.398]  0.666667\n",
       "(307.398, 358.63]        NaN\n",
       "(358.63, 409.863]        NaN\n",
       "(409.863, 461.096]       NaN\n",
       "(461.096, 512.329]  1.000000"
      ]
     },
     "execution_count": 39,
     "metadata": {},
     "output_type": "execute_result"
    }
   ],
   "source": [
    "# above plot is hard to tell the story, let's try grouping fare into ten groups\n",
    "train_df['Fare_group'] = pd.cut(train_df['Fare'], bins=10)\n",
    "\n",
    "train_df[['Fare_group', 'Survived']].groupby(train_df['Fare_group']).mean().sort_values(by='Fare_group', ascending=True)\n"
   ]
  },
  {
   "cell_type": "markdown",
   "id": "7f640d6a-5959-49fc-a5f8-bfb45e2543ca",
   "metadata": {},
   "source": [
    "The Fare_group shows the cheapeat fare has the lowest survival chance"
   ]
  },
  {
   "cell_type": "markdown",
   "id": "794ba39e-baff-477c-a707-e9869c06f0f5",
   "metadata": {},
   "source": [
    "### Cabin, pclass\n",
    "* Cabin number\n",
    "* Ticket class, a proxy for socio-economic status (SES) 1 = 1st (upper), 2 = 2nd (middle), 3 = 3rd (lower)"
   ]
  },
  {
   "cell_type": "markdown",
   "id": "f5317c84-b3ad-4a2d-a30a-bbfeb1a81937",
   "metadata": {},
   "source": [
    "Keep letter only in cabin"
   ]
  },
  {
   "cell_type": "code",
   "execution_count": 40,
   "id": "8af8dda8-c023-4fc9-b3b1-b677fb4af965",
   "metadata": {},
   "outputs": [],
   "source": [
    "train_df['Cabin'] = train_df['Cabin'].str[0]"
   ]
  },
  {
   "cell_type": "code",
   "execution_count": 41,
   "id": "da04d3b4-d239-4859-b45d-2068b47f31de",
   "metadata": {},
   "outputs": [],
   "source": [
    "train_df['Cabin'] = train_df['Cabin'].fillna('-')"
   ]
  },
  {
   "cell_type": "code",
   "execution_count": 42,
   "id": "c1af2b7f-42ec-428e-9631-81387f61d574",
   "metadata": {},
   "outputs": [
    {
     "data": {
      "text/html": [
       "<div>\n",
       "<style scoped>\n",
       "    .dataframe tbody tr th:only-of-type {\n",
       "        vertical-align: middle;\n",
       "    }\n",
       "\n",
       "    .dataframe tbody tr th {\n",
       "        vertical-align: top;\n",
       "    }\n",
       "\n",
       "    .dataframe thead th {\n",
       "        text-align: right;\n",
       "    }\n",
       "</style>\n",
       "<table border=\"1\" class=\"dataframe\">\n",
       "  <thead>\n",
       "    <tr style=\"text-align: right;\">\n",
       "      <th></th>\n",
       "      <th>Cabin</th>\n",
       "      <th>Pclass</th>\n",
       "      <th>Survived</th>\n",
       "    </tr>\n",
       "  </thead>\n",
       "  <tbody>\n",
       "    <tr>\n",
       "      <th>0</th>\n",
       "      <td>-</td>\n",
       "      <td>3</td>\n",
       "      <td>0</td>\n",
       "    </tr>\n",
       "    <tr>\n",
       "      <th>1</th>\n",
       "      <td>C</td>\n",
       "      <td>1</td>\n",
       "      <td>1</td>\n",
       "    </tr>\n",
       "    <tr>\n",
       "      <th>2</th>\n",
       "      <td>-</td>\n",
       "      <td>3</td>\n",
       "      <td>1</td>\n",
       "    </tr>\n",
       "    <tr>\n",
       "      <th>3</th>\n",
       "      <td>C</td>\n",
       "      <td>1</td>\n",
       "      <td>1</td>\n",
       "    </tr>\n",
       "    <tr>\n",
       "      <th>4</th>\n",
       "      <td>-</td>\n",
       "      <td>3</td>\n",
       "      <td>0</td>\n",
       "    </tr>\n",
       "    <tr>\n",
       "      <th>...</th>\n",
       "      <td>...</td>\n",
       "      <td>...</td>\n",
       "      <td>...</td>\n",
       "    </tr>\n",
       "    <tr>\n",
       "      <th>886</th>\n",
       "      <td>-</td>\n",
       "      <td>2</td>\n",
       "      <td>0</td>\n",
       "    </tr>\n",
       "    <tr>\n",
       "      <th>887</th>\n",
       "      <td>B</td>\n",
       "      <td>1</td>\n",
       "      <td>1</td>\n",
       "    </tr>\n",
       "    <tr>\n",
       "      <th>888</th>\n",
       "      <td>-</td>\n",
       "      <td>3</td>\n",
       "      <td>0</td>\n",
       "    </tr>\n",
       "    <tr>\n",
       "      <th>889</th>\n",
       "      <td>C</td>\n",
       "      <td>1</td>\n",
       "      <td>1</td>\n",
       "    </tr>\n",
       "    <tr>\n",
       "      <th>890</th>\n",
       "      <td>-</td>\n",
       "      <td>3</td>\n",
       "      <td>0</td>\n",
       "    </tr>\n",
       "  </tbody>\n",
       "</table>\n",
       "<p>891 rows × 3 columns</p>\n",
       "</div>"
      ],
      "text/plain": [
       "    Cabin  Pclass  Survived\n",
       "0       -       3         0\n",
       "1       C       1         1\n",
       "2       -       3         1\n",
       "3       C       1         1\n",
       "4       -       3         0\n",
       "..    ...     ...       ...\n",
       "886     -       2         0\n",
       "887     B       1         1\n",
       "888     -       3         0\n",
       "889     C       1         1\n",
       "890     -       3         0\n",
       "\n",
       "[891 rows x 3 columns]"
      ]
     },
     "execution_count": 42,
     "metadata": {},
     "output_type": "execute_result"
    }
   ],
   "source": [
    "cabin_class_survived = train_df[['Cabin','Pclass', 'Survived']]\n",
    "\n",
    "cabin_class_survived"
   ]
  },
  {
   "cell_type": "code",
   "execution_count": 43,
   "id": "2b866b16-b85f-4f2b-b278-960d061c83bb",
   "metadata": {},
   "outputs": [
    {
     "data": {
      "text/html": [
       "<div>\n",
       "<style scoped>\n",
       "    .dataframe tbody tr th:only-of-type {\n",
       "        vertical-align: middle;\n",
       "    }\n",
       "\n",
       "    .dataframe tbody tr th {\n",
       "        vertical-align: top;\n",
       "    }\n",
       "\n",
       "    .dataframe thead th {\n",
       "        text-align: right;\n",
       "    }\n",
       "</style>\n",
       "<table border=\"1\" class=\"dataframe\">\n",
       "  <thead>\n",
       "    <tr style=\"text-align: right;\">\n",
       "      <th></th>\n",
       "      <th>Survived</th>\n",
       "    </tr>\n",
       "    <tr>\n",
       "      <th>Cabin</th>\n",
       "      <th></th>\n",
       "    </tr>\n",
       "  </thead>\n",
       "  <tbody>\n",
       "    <tr>\n",
       "      <th>T</th>\n",
       "      <td>0.000000</td>\n",
       "    </tr>\n",
       "    <tr>\n",
       "      <th>-</th>\n",
       "      <td>0.299854</td>\n",
       "    </tr>\n",
       "    <tr>\n",
       "      <th>A</th>\n",
       "      <td>0.466667</td>\n",
       "    </tr>\n",
       "    <tr>\n",
       "      <th>G</th>\n",
       "      <td>0.500000</td>\n",
       "    </tr>\n",
       "    <tr>\n",
       "      <th>C</th>\n",
       "      <td>0.593220</td>\n",
       "    </tr>\n",
       "    <tr>\n",
       "      <th>F</th>\n",
       "      <td>0.615385</td>\n",
       "    </tr>\n",
       "    <tr>\n",
       "      <th>B</th>\n",
       "      <td>0.744681</td>\n",
       "    </tr>\n",
       "    <tr>\n",
       "      <th>E</th>\n",
       "      <td>0.750000</td>\n",
       "    </tr>\n",
       "    <tr>\n",
       "      <th>D</th>\n",
       "      <td>0.757576</td>\n",
       "    </tr>\n",
       "  </tbody>\n",
       "</table>\n",
       "</div>"
      ],
      "text/plain": [
       "       Survived\n",
       "Cabin          \n",
       "T      0.000000\n",
       "-      0.299854\n",
       "A      0.466667\n",
       "G      0.500000\n",
       "C      0.593220\n",
       "F      0.615385\n",
       "B      0.744681\n",
       "E      0.750000\n",
       "D      0.757576"
      ]
     },
     "execution_count": 43,
     "metadata": {},
     "output_type": "execute_result"
    }
   ],
   "source": [
    "cabin_class_survived[['Cabin', 'Survived']].groupby(cabin_class_survived['Cabin']).mean().sort_values(by='Survived', ascending=True)"
   ]
  },
  {
   "cell_type": "code",
   "execution_count": 44,
   "id": "ba3710be-aa33-477d-80b5-aded03feed44",
   "metadata": {},
   "outputs": [
    {
     "data": {
      "text/html": [
       "<div>\n",
       "<style scoped>\n",
       "    .dataframe tbody tr th:only-of-type {\n",
       "        vertical-align: middle;\n",
       "    }\n",
       "\n",
       "    .dataframe tbody tr th {\n",
       "        vertical-align: top;\n",
       "    }\n",
       "\n",
       "    .dataframe thead th {\n",
       "        text-align: right;\n",
       "    }\n",
       "</style>\n",
       "<table border=\"1\" class=\"dataframe\">\n",
       "  <thead>\n",
       "    <tr style=\"text-align: right;\">\n",
       "      <th></th>\n",
       "      <th>Survived</th>\n",
       "    </tr>\n",
       "    <tr>\n",
       "      <th>Pclass</th>\n",
       "      <th></th>\n",
       "    </tr>\n",
       "  </thead>\n",
       "  <tbody>\n",
       "    <tr>\n",
       "      <th>3</th>\n",
       "      <td>0.242363</td>\n",
       "    </tr>\n",
       "    <tr>\n",
       "      <th>2</th>\n",
       "      <td>0.472826</td>\n",
       "    </tr>\n",
       "    <tr>\n",
       "      <th>1</th>\n",
       "      <td>0.629630</td>\n",
       "    </tr>\n",
       "  </tbody>\n",
       "</table>\n",
       "</div>"
      ],
      "text/plain": [
       "        Survived\n",
       "Pclass          \n",
       "3       0.242363\n",
       "2       0.472826\n",
       "1       0.629630"
      ]
     },
     "execution_count": 44,
     "metadata": {},
     "output_type": "execute_result"
    }
   ],
   "source": [
    "cabin_class_survived[['Pclass', 'Survived']].groupby('Pclass').mean().sort_values(by='Survived', ascending=True)"
   ]
  },
  {
   "cell_type": "code",
   "execution_count": 45,
   "id": "37a1f216-59fe-48fe-bdec-f3e6f638f8b6",
   "metadata": {},
   "outputs": [
    {
     "data": {
      "text/html": [
       "<div>\n",
       "<style scoped>\n",
       "    .dataframe tbody tr th:only-of-type {\n",
       "        vertical-align: middle;\n",
       "    }\n",
       "\n",
       "    .dataframe tbody tr th {\n",
       "        vertical-align: top;\n",
       "    }\n",
       "\n",
       "    .dataframe thead th {\n",
       "        text-align: right;\n",
       "    }\n",
       "</style>\n",
       "<table border=\"1\" class=\"dataframe\">\n",
       "  <thead>\n",
       "    <tr style=\"text-align: right;\">\n",
       "      <th></th>\n",
       "      <th></th>\n",
       "      <th>Cabin</th>\n",
       "    </tr>\n",
       "    <tr>\n",
       "      <th>Pclass</th>\n",
       "      <th>Cabin</th>\n",
       "      <th></th>\n",
       "    </tr>\n",
       "  </thead>\n",
       "  <tbody>\n",
       "    <tr>\n",
       "      <th rowspan=\"7\" valign=\"top\">1</th>\n",
       "      <th>C</th>\n",
       "      <td>59</td>\n",
       "    </tr>\n",
       "    <tr>\n",
       "      <th>B</th>\n",
       "      <td>47</td>\n",
       "    </tr>\n",
       "    <tr>\n",
       "      <th>-</th>\n",
       "      <td>40</td>\n",
       "    </tr>\n",
       "    <tr>\n",
       "      <th>D</th>\n",
       "      <td>29</td>\n",
       "    </tr>\n",
       "    <tr>\n",
       "      <th>E</th>\n",
       "      <td>25</td>\n",
       "    </tr>\n",
       "    <tr>\n",
       "      <th>A</th>\n",
       "      <td>15</td>\n",
       "    </tr>\n",
       "    <tr>\n",
       "      <th>T</th>\n",
       "      <td>1</td>\n",
       "    </tr>\n",
       "    <tr>\n",
       "      <th rowspan=\"4\" valign=\"top\">2</th>\n",
       "      <th>-</th>\n",
       "      <td>168</td>\n",
       "    </tr>\n",
       "    <tr>\n",
       "      <th>F</th>\n",
       "      <td>8</td>\n",
       "    </tr>\n",
       "    <tr>\n",
       "      <th>D</th>\n",
       "      <td>4</td>\n",
       "    </tr>\n",
       "    <tr>\n",
       "      <th>E</th>\n",
       "      <td>4</td>\n",
       "    </tr>\n",
       "    <tr>\n",
       "      <th rowspan=\"4\" valign=\"top\">3</th>\n",
       "      <th>-</th>\n",
       "      <td>479</td>\n",
       "    </tr>\n",
       "    <tr>\n",
       "      <th>F</th>\n",
       "      <td>5</td>\n",
       "    </tr>\n",
       "    <tr>\n",
       "      <th>G</th>\n",
       "      <td>4</td>\n",
       "    </tr>\n",
       "    <tr>\n",
       "      <th>E</th>\n",
       "      <td>3</td>\n",
       "    </tr>\n",
       "  </tbody>\n",
       "</table>\n",
       "</div>"
      ],
      "text/plain": [
       "              Cabin\n",
       "Pclass Cabin       \n",
       "1      C         59\n",
       "       B         47\n",
       "       -         40\n",
       "       D         29\n",
       "       E         25\n",
       "       A         15\n",
       "       T          1\n",
       "2      -        168\n",
       "       F          8\n",
       "       D          4\n",
       "       E          4\n",
       "3      -        479\n",
       "       F          5\n",
       "       G          4\n",
       "       E          3"
      ]
     },
     "execution_count": 45,
     "metadata": {},
     "output_type": "execute_result"
    }
   ],
   "source": [
    "cabin_class_survived.groupby('Pclass')['Cabin'].value_counts().to_frame()"
   ]
  },
  {
   "cell_type": "markdown",
   "id": "712ac0dd-1297-4822-b333-0786febdbffb",
   "metadata": {},
   "source": [
    "plot the count of each Cabin value within each Pclass"
   ]
  },
  {
   "cell_type": "code",
   "execution_count": 46,
   "id": "1408e7ed-7271-4781-924e-f929ae9d47a3",
   "metadata": {},
   "outputs": [
    {
     "data": {
      "image/png": "[encoded data removed]",
      "text/plain": [
       "<Figure size 640x480 with 1 Axes>"
      ]
     },
     "metadata": {},
     "output_type": "display_data"
    }
   ],
   "source": [
    "cabin_counts = cabin_class_survived.groupby('Pclass')['Cabin'].value_counts().unstack()\n",
    "\n",
    "# Plotting the stacked bar chart\n",
    "cabin_counts.plot(kind='bar', stacked=False)\n",
    "\n",
    "# Adding labels and title\n",
    "plt.xlabel('Pclass')\n",
    "plt.ylabel('Count')\n",
    "plt.title('Count of Cabins by Pclass')\n",
    "\n",
    "# Displaying the chart\n",
    "plt.show()\n"
   ]
  },
  {
   "cell_type": "markdown",
   "id": "d09ddc83-d19c-49fd-8b95-897e7bc9ee27",
   "metadata": {},
   "source": [
    "Calculating the survival rate by Cabin and Pclass"
   ]
  },
  {
   "cell_type": "code",
   "execution_count": 47,
   "id": "bdf7e1d6-1d0c-4fe7-831f-ec49c2f97acb",
   "metadata": {},
   "outputs": [
    {
     "data": {
      "image/png": "[encoded data removed]",
      "text/plain": [
       "<Figure size 640x480 with 1 Axes>"
      ]
     },
     "metadata": {},
     "output_type": "display_data"
    }
   ],
   "source": [
    "survival_rate = cabin_class_survived.groupby(['Cabin', 'Pclass'])['Survived'].mean().unstack()\n",
    "\n",
    "# pick colors for the bars\n",
    "colors = ['#87cefa', '#FFA07A', '#696969']\n",
    "\n",
    "# Plotting the survival rate\n",
    "survival_rate.plot(kind='bar', color=colors)\n",
    "\n",
    "# Adding labels and title\n",
    "plt.xlabel('Cabin')\n",
    "plt.ylabel('Survival Rate')\n",
    "plt.title('Survival Rate by Cabin and Pclass')\n",
    "\n",
    "# Modifying the x-axis tick labels\n",
    "plt.xticks(rotation=0)\n",
    "\n",
    "# Displaying the chart\n",
    "plt.show()\n"
   ]
  },
  {
   "cell_type": "markdown",
   "id": "0edce296-2d1a-4207-8c22-83f45f7e791f",
   "metadata": {},
   "source": [
    "As above shows, first class has the highest survival chance and for null cabin record (majority of them are third class) has the lowest survival chance"
   ]
  },
  {
   "cell_type": "markdown",
   "id": "ff606cf3-0f0e-46a8-87b1-9f73a3e3c2e0",
   "metadata": {},
   "source": [
    "### Embarked\n",
    "* Port of Embarkation, C = Cherbourg, Q = Queenstown, S = Southampton"
   ]
  },
  {
   "cell_type": "code",
   "execution_count": 48,
   "id": "0f944be5-8114-412b-9981-1d7943af629c",
   "metadata": {},
   "outputs": [
    {
     "data": {
      "text/html": [
       "<div>\n",
       "<style scoped>\n",
       "    .dataframe tbody tr th:only-of-type {\n",
       "        vertical-align: middle;\n",
       "    }\n",
       "\n",
       "    .dataframe tbody tr th {\n",
       "        vertical-align: top;\n",
       "    }\n",
       "\n",
       "    .dataframe thead th {\n",
       "        text-align: right;\n",
       "    }\n",
       "</style>\n",
       "<table border=\"1\" class=\"dataframe\">\n",
       "  <thead>\n",
       "    <tr style=\"text-align: right;\">\n",
       "      <th></th>\n",
       "      <th>Survived</th>\n",
       "    </tr>\n",
       "    <tr>\n",
       "      <th>Embarked</th>\n",
       "      <th></th>\n",
       "    </tr>\n",
       "  </thead>\n",
       "  <tbody>\n",
       "    <tr>\n",
       "      <th>S</th>\n",
       "      <td>0.336957</td>\n",
       "    </tr>\n",
       "    <tr>\n",
       "      <th>Q</th>\n",
       "      <td>0.389610</td>\n",
       "    </tr>\n",
       "    <tr>\n",
       "      <th>C</th>\n",
       "      <td>0.553571</td>\n",
       "    </tr>\n",
       "  </tbody>\n",
       "</table>\n",
       "</div>"
      ],
      "text/plain": [
       "          Survived\n",
       "Embarked          \n",
       "S         0.336957\n",
       "Q         0.389610\n",
       "C         0.553571"
      ]
     },
     "execution_count": 48,
     "metadata": {},
     "output_type": "execute_result"
    }
   ],
   "source": [
    "train_df[['Embarked', 'Survived']].groupby('Embarked').mean().sort_values(by='Survived', ascending=True)"
   ]
  },
  {
   "cell_type": "code",
   "execution_count": 49,
   "id": "bf5e2c5a-2efd-487b-92df-053bd6766626",
   "metadata": {},
   "outputs": [
    {
     "data": {
      "text/html": [
       "<div>\n",
       "<style scoped>\n",
       "    .dataframe tbody tr th:only-of-type {\n",
       "        vertical-align: middle;\n",
       "    }\n",
       "\n",
       "    .dataframe tbody tr th {\n",
       "        vertical-align: top;\n",
       "    }\n",
       "\n",
       "    .dataframe thead th {\n",
       "        text-align: right;\n",
       "    }\n",
       "</style>\n",
       "<table border=\"1\" class=\"dataframe\">\n",
       "  <thead>\n",
       "    <tr style=\"text-align: right;\">\n",
       "      <th></th>\n",
       "      <th></th>\n",
       "      <th>Embarked</th>\n",
       "    </tr>\n",
       "    <tr>\n",
       "      <th>Pclass</th>\n",
       "      <th>Embarked</th>\n",
       "      <th></th>\n",
       "    </tr>\n",
       "  </thead>\n",
       "  <tbody>\n",
       "    <tr>\n",
       "      <th rowspan=\"3\" valign=\"top\">1</th>\n",
       "      <th>S</th>\n",
       "      <td>127</td>\n",
       "    </tr>\n",
       "    <tr>\n",
       "      <th>C</th>\n",
       "      <td>85</td>\n",
       "    </tr>\n",
       "    <tr>\n",
       "      <th>Q</th>\n",
       "      <td>2</td>\n",
       "    </tr>\n",
       "    <tr>\n",
       "      <th rowspan=\"3\" valign=\"top\">2</th>\n",
       "      <th>S</th>\n",
       "      <td>164</td>\n",
       "    </tr>\n",
       "    <tr>\n",
       "      <th>C</th>\n",
       "      <td>17</td>\n",
       "    </tr>\n",
       "    <tr>\n",
       "      <th>Q</th>\n",
       "      <td>3</td>\n",
       "    </tr>\n",
       "    <tr>\n",
       "      <th rowspan=\"3\" valign=\"top\">3</th>\n",
       "      <th>S</th>\n",
       "      <td>353</td>\n",
       "    </tr>\n",
       "    <tr>\n",
       "      <th>Q</th>\n",
       "      <td>72</td>\n",
       "    </tr>\n",
       "    <tr>\n",
       "      <th>C</th>\n",
       "      <td>66</td>\n",
       "    </tr>\n",
       "  </tbody>\n",
       "</table>\n",
       "</div>"
      ],
      "text/plain": [
       "                 Embarked\n",
       "Pclass Embarked          \n",
       "1      S              127\n",
       "       C               85\n",
       "       Q                2\n",
       "2      S              164\n",
       "       C               17\n",
       "       Q                3\n",
       "3      S              353\n",
       "       Q               72\n",
       "       C               66"
      ]
     },
     "execution_count": 49,
     "metadata": {},
     "output_type": "execute_result"
    }
   ],
   "source": [
    "train_df[['Embarked', 'Pclass', 'Survived']].groupby('Pclass')['Embarked'].value_counts().to_frame()"
   ]
  },
  {
   "cell_type": "code",
   "execution_count": 50,
   "id": "69883aef-29b7-4869-a936-22034e4e1d13",
   "metadata": {},
   "outputs": [
    {
     "name": "stdout",
     "output_type": "stream",
     "text": [
      "                 count  Survived Mean\n",
      "Pclass Embarked                      \n",
      "1      S           127       0.582677\n",
      "       C            85       0.694118\n",
      "       Q             2       0.500000\n",
      "2      S           164       0.463415\n",
      "       C            17       0.529412\n",
      "       Q             3       0.666667\n",
      "3      S           353       0.189802\n",
      "       Q            72       0.375000\n",
      "       C            66       0.378788\n"
     ]
    }
   ],
   "source": [
    "embarked_counts = train_df[['Embarked', 'Pclass', 'Survived']].groupby('Pclass')['Embarked'].value_counts().to_frame()\n",
    "\n",
    "# Calculating the mean of 'Survived' by Pclass and Embarked\n",
    "survived_mean = train_df.groupby(['Pclass', 'Embarked'])['Survived'].mean().to_frame()\n",
    "\n",
    "# Renaming the column to 'count'\n",
    "embarked_counts = embarked_counts.rename(columns={'Embarked': 'count'})\n",
    "\n",
    "# Renaming the column to 'Survived Mean'\n",
    "survived_mean.columns = ['Survived Mean']\n",
    "\n",
    "# Concatenating the two DataFrames\n",
    "embarked_counts = pd.concat([embarked_counts, survived_mean], axis=1)\n",
    "\n",
    "# Displaying the DataFrame\n",
    "print(embarked_counts)\n"
   ]
  },
  {
   "cell_type": "markdown",
   "id": "f5bd7b7d-5666-4917-8192-aac9d2a27482",
   "metadata": {},
   "source": [
    "color: https://www.palcon.nl/colors/Color-combinator.htm"
   ]
  },
  {
   "cell_type": "code",
   "execution_count": 51,
   "id": "dd1a7b2a-67a6-4117-815f-38145237ec22",
   "metadata": {},
   "outputs": [
    {
     "data": {
      "image/png": "[encoded data removed]",
      "text/plain": [
       "<Figure size 640x480 with 1 Axes>"
      ]
     },
     "metadata": {},
     "output_type": "display_data"
    }
   ],
   "source": [
    "import matplotlib.pyplot as plt\n",
    "\n",
    "# Calculate the count and mean of 'Survived' by Pclass and Embarked\n",
    "embarked_counts = train_df[['Embarked', 'Pclass', 'Survived']].groupby(['Pclass', 'Embarked']).agg({'Embarked': 'count', 'Survived': 'mean'})\n",
    "\n",
    "embarked_counts = embarked_counts.rename(columns={'Embarked': 'Count', 'Survived': 'Survived Mean'})\n",
    "\n",
    "\n",
    "# Define the colors for each 'Embarked' category within each 'Pclass'\n",
    "colors = ['#BC8F8F', '#B0E0E6', '#FFDAB9']  # Pink, Orange, Purple for fun\n",
    "\n",
    "# Plotting the bar chart with color differentiation\n",
    "ax = embarked_counts['Survived Mean'].plot(kind='bar', color=colors, legend=False)\n",
    "\n",
    "# Adding labels and title\n",
    "plt.xlabel('Pclass - Embarked')\n",
    "\n",
    "plt.ylabel('Survived Mean')\n",
    "\n",
    "plt.title('Survival Rate by Pclass and Embarked')\n",
    "\n",
    "# Rotating x-axis labels for better readability\n",
    "plt.xticks(rotation=45)\n",
    "\n",
    "# Displaying the chart\n",
    "plt.show()\n"
   ]
  },
  {
   "cell_type": "markdown",
   "id": "2b1722c5-92d9-4bdd-bd64-9fb9fc2ab992",
   "metadata": {},
   "source": [
    "The Cherbourg has highest survival chance in P1, Q has highest survival chance in P2"
   ]
  },
  {
   "cell_type": "markdown",
   "id": "df23267f-2bc9-4dea-88bb-fd0d924bc8d9",
   "metadata": {},
   "source": [
    "### Name by title"
   ]
  },
  {
   "cell_type": "code",
   "execution_count": 52,
   "id": "8851ef39-1b39-440b-89a6-c6010e6b2f64",
   "metadata": {},
   "outputs": [],
   "source": [
    "title = train_df['Name'].str.split().str[1]"
   ]
  },
  {
   "cell_type": "code",
   "execution_count": 53,
   "id": "9b64fd47-e281-4970-bc46-930faf91f5e7",
   "metadata": {},
   "outputs": [
    {
     "data": {
      "text/html": [
       "<div>\n",
       "<style scoped>\n",
       "    .dataframe tbody tr th:only-of-type {\n",
       "        vertical-align: middle;\n",
       "    }\n",
       "\n",
       "    .dataframe tbody tr th {\n",
       "        vertical-align: top;\n",
       "    }\n",
       "\n",
       "    .dataframe thead th {\n",
       "        text-align: right;\n",
       "    }\n",
       "</style>\n",
       "<table border=\"1\" class=\"dataframe\">\n",
       "  <thead>\n",
       "    <tr style=\"text-align: right;\">\n",
       "      <th></th>\n",
       "      <th>PassengerId</th>\n",
       "      <th>Survived</th>\n",
       "      <th>Pclass</th>\n",
       "      <th>Name</th>\n",
       "      <th>Sex</th>\n",
       "      <th>Age</th>\n",
       "      <th>SibSp</th>\n",
       "      <th>Parch</th>\n",
       "      <th>Ticket</th>\n",
       "      <th>Fare</th>\n",
       "      <th>Cabin</th>\n",
       "      <th>Embarked</th>\n",
       "      <th>Age_Group</th>\n",
       "      <th>Fare_group</th>\n",
       "    </tr>\n",
       "  </thead>\n",
       "  <tbody>\n",
       "    <tr>\n",
       "      <th>0</th>\n",
       "      <td>1</td>\n",
       "      <td>0</td>\n",
       "      <td>3</td>\n",
       "      <td>Braund, Mr. Owen Harris</td>\n",
       "      <td>male</td>\n",
       "      <td>22.0</td>\n",
       "      <td>1</td>\n",
       "      <td>0</td>\n",
       "      <td>A/5 21171</td>\n",
       "      <td>7.2500</td>\n",
       "      <td>-</td>\n",
       "      <td>S</td>\n",
       "      <td>(20.315, 30.263]</td>\n",
       "      <td>(-0.512, 51.233]</td>\n",
       "    </tr>\n",
       "    <tr>\n",
       "      <th>1</th>\n",
       "      <td>2</td>\n",
       "      <td>1</td>\n",
       "      <td>1</td>\n",
       "      <td>Cumings, Mrs. John Bradley (Florence Briggs Th...</td>\n",
       "      <td>female</td>\n",
       "      <td>38.0</td>\n",
       "      <td>1</td>\n",
       "      <td>0</td>\n",
       "      <td>PC 17599</td>\n",
       "      <td>71.2833</td>\n",
       "      <td>C</td>\n",
       "      <td>C</td>\n",
       "      <td>(30.263, 40.21]</td>\n",
       "      <td>(51.233, 102.466]</td>\n",
       "    </tr>\n",
       "    <tr>\n",
       "      <th>2</th>\n",
       "      <td>3</td>\n",
       "      <td>1</td>\n",
       "      <td>3</td>\n",
       "      <td>Heikkinen, Miss. Laina</td>\n",
       "      <td>female</td>\n",
       "      <td>26.0</td>\n",
       "      <td>0</td>\n",
       "      <td>0</td>\n",
       "      <td>STON/O2. 3101282</td>\n",
       "      <td>7.9250</td>\n",
       "      <td>-</td>\n",
       "      <td>S</td>\n",
       "      <td>(20.315, 30.263]</td>\n",
       "      <td>(-0.512, 51.233]</td>\n",
       "    </tr>\n",
       "    <tr>\n",
       "      <th>3</th>\n",
       "      <td>4</td>\n",
       "      <td>1</td>\n",
       "      <td>1</td>\n",
       "      <td>Futrelle, Mrs. Jacques Heath (Lily May Peel)</td>\n",
       "      <td>female</td>\n",
       "      <td>35.0</td>\n",
       "      <td>1</td>\n",
       "      <td>0</td>\n",
       "      <td>113803</td>\n",
       "      <td>53.1000</td>\n",
       "      <td>C</td>\n",
       "      <td>S</td>\n",
       "      <td>(30.263, 40.21]</td>\n",
       "      <td>(51.233, 102.466]</td>\n",
       "    </tr>\n",
       "    <tr>\n",
       "      <th>4</th>\n",
       "      <td>5</td>\n",
       "      <td>0</td>\n",
       "      <td>3</td>\n",
       "      <td>Allen, Mr. William Henry</td>\n",
       "      <td>male</td>\n",
       "      <td>35.0</td>\n",
       "      <td>0</td>\n",
       "      <td>0</td>\n",
       "      <td>373450</td>\n",
       "      <td>8.0500</td>\n",
       "      <td>-</td>\n",
       "      <td>S</td>\n",
       "      <td>(30.263, 40.21]</td>\n",
       "      <td>(-0.512, 51.233]</td>\n",
       "    </tr>\n",
       "    <tr>\n",
       "      <th>...</th>\n",
       "      <td>...</td>\n",
       "      <td>...</td>\n",
       "      <td>...</td>\n",
       "      <td>...</td>\n",
       "      <td>...</td>\n",
       "      <td>...</td>\n",
       "      <td>...</td>\n",
       "      <td>...</td>\n",
       "      <td>...</td>\n",
       "      <td>...</td>\n",
       "      <td>...</td>\n",
       "      <td>...</td>\n",
       "      <td>...</td>\n",
       "      <td>...</td>\n",
       "    </tr>\n",
       "    <tr>\n",
       "      <th>886</th>\n",
       "      <td>887</td>\n",
       "      <td>0</td>\n",
       "      <td>2</td>\n",
       "      <td>Montvila, Rev. Juozas</td>\n",
       "      <td>male</td>\n",
       "      <td>27.0</td>\n",
       "      <td>0</td>\n",
       "      <td>0</td>\n",
       "      <td>211536</td>\n",
       "      <td>13.0000</td>\n",
       "      <td>-</td>\n",
       "      <td>S</td>\n",
       "      <td>(20.315, 30.263]</td>\n",
       "      <td>(-0.512, 51.233]</td>\n",
       "    </tr>\n",
       "    <tr>\n",
       "      <th>887</th>\n",
       "      <td>888</td>\n",
       "      <td>1</td>\n",
       "      <td>1</td>\n",
       "      <td>Graham, Miss. Margaret Edith</td>\n",
       "      <td>female</td>\n",
       "      <td>19.0</td>\n",
       "      <td>0</td>\n",
       "      <td>0</td>\n",
       "      <td>112053</td>\n",
       "      <td>30.0000</td>\n",
       "      <td>B</td>\n",
       "      <td>S</td>\n",
       "      <td>(10.368, 20.315]</td>\n",
       "      <td>(-0.512, 51.233]</td>\n",
       "    </tr>\n",
       "    <tr>\n",
       "      <th>888</th>\n",
       "      <td>889</td>\n",
       "      <td>0</td>\n",
       "      <td>3</td>\n",
       "      <td>Johnston, Miss. Catherine Helen \"Carrie\"</td>\n",
       "      <td>female</td>\n",
       "      <td>NaN</td>\n",
       "      <td>1</td>\n",
       "      <td>2</td>\n",
       "      <td>W./C. 6607</td>\n",
       "      <td>23.4500</td>\n",
       "      <td>-</td>\n",
       "      <td>S</td>\n",
       "      <td>NaN</td>\n",
       "      <td>(-0.512, 51.233]</td>\n",
       "    </tr>\n",
       "    <tr>\n",
       "      <th>889</th>\n",
       "      <td>890</td>\n",
       "      <td>1</td>\n",
       "      <td>1</td>\n",
       "      <td>Behr, Mr. Karl Howell</td>\n",
       "      <td>male</td>\n",
       "      <td>26.0</td>\n",
       "      <td>0</td>\n",
       "      <td>0</td>\n",
       "      <td>111369</td>\n",
       "      <td>30.0000</td>\n",
       "      <td>C</td>\n",
       "      <td>C</td>\n",
       "      <td>(20.315, 30.263]</td>\n",
       "      <td>(-0.512, 51.233]</td>\n",
       "    </tr>\n",
       "    <tr>\n",
       "      <th>890</th>\n",
       "      <td>891</td>\n",
       "      <td>0</td>\n",
       "      <td>3</td>\n",
       "      <td>Dooley, Mr. Patrick</td>\n",
       "      <td>male</td>\n",
       "      <td>32.0</td>\n",
       "      <td>0</td>\n",
       "      <td>0</td>\n",
       "      <td>370376</td>\n",
       "      <td>7.7500</td>\n",
       "      <td>-</td>\n",
       "      <td>Q</td>\n",
       "      <td>(30.263, 40.21]</td>\n",
       "      <td>(-0.512, 51.233]</td>\n",
       "    </tr>\n",
       "  </tbody>\n",
       "</table>\n",
       "<p>877 rows × 14 columns</p>\n",
       "</div>"
      ],
      "text/plain": [
       "     PassengerId  Survived  Pclass  \\\n",
       "0              1         0       3   \n",
       "1              2         1       1   \n",
       "2              3         1       3   \n",
       "3              4         1       1   \n",
       "4              5         0       3   \n",
       "..           ...       ...     ...   \n",
       "886          887         0       2   \n",
       "887          888         1       1   \n",
       "888          889         0       3   \n",
       "889          890         1       1   \n",
       "890          891         0       3   \n",
       "\n",
       "                                                  Name     Sex   Age  SibSp  \\\n",
       "0                              Braund, Mr. Owen Harris    male  22.0      1   \n",
       "1    Cumings, Mrs. John Bradley (Florence Briggs Th...  female  38.0      1   \n",
       "2                               Heikkinen, Miss. Laina  female  26.0      0   \n",
       "3         Futrelle, Mrs. Jacques Heath (Lily May Peel)  female  35.0      1   \n",
       "4                             Allen, Mr. William Henry    male  35.0      0   \n",
       "..                                                 ...     ...   ...    ...   \n",
       "886                              Montvila, Rev. Juozas    male  27.0      0   \n",
       "887                       Graham, Miss. Margaret Edith  female  19.0      0   \n",
       "888           Johnston, Miss. Catherine Helen \"Carrie\"  female   NaN      1   \n",
       "889                              Behr, Mr. Karl Howell    male  26.0      0   \n",
       "890                                Dooley, Mr. Patrick    male  32.0      0   \n",
       "\n",
       "     Parch            Ticket     Fare Cabin Embarked         Age_Group  \\\n",
       "0        0         A/5 21171   7.2500     -        S  (20.315, 30.263]   \n",
       "1        0          PC 17599  71.2833     C        C   (30.263, 40.21]   \n",
       "2        0  STON/O2. 3101282   7.9250     -        S  (20.315, 30.263]   \n",
       "3        0            113803  53.1000     C        S   (30.263, 40.21]   \n",
       "4        0            373450   8.0500     -        S   (30.263, 40.21]   \n",
       "..     ...               ...      ...   ...      ...               ...   \n",
       "886      0            211536  13.0000     -        S  (20.315, 30.263]   \n",
       "887      0            112053  30.0000     B        S  (10.368, 20.315]   \n",
       "888      2        W./C. 6607  23.4500     -        S               NaN   \n",
       "889      0            111369  30.0000     C        C  (20.315, 30.263]   \n",
       "890      0            370376   7.7500     -        Q   (30.263, 40.21]   \n",
       "\n",
       "            Fare_group  \n",
       "0     (-0.512, 51.233]  \n",
       "1    (51.233, 102.466]  \n",
       "2     (-0.512, 51.233]  \n",
       "3    (51.233, 102.466]  \n",
       "4     (-0.512, 51.233]  \n",
       "..                 ...  \n",
       "886   (-0.512, 51.233]  \n",
       "887   (-0.512, 51.233]  \n",
       "888   (-0.512, 51.233]  \n",
       "889   (-0.512, 51.233]  \n",
       "890   (-0.512, 51.233]  \n",
       "\n",
       "[877 rows x 14 columns]"
      ]
     },
     "execution_count": 53,
     "metadata": {},
     "output_type": "execute_result"
    }
   ],
   "source": [
    "title_survied = train_df[train_df['Name'].str.contains('Mr\\.|Miss\\.|Mrs\\.|Master\\.|Dr\\.|Rev\\.')]\n",
    "\n",
    "title_survied"
   ]
  },
  {
   "cell_type": "code",
   "execution_count": 54,
   "id": "cb046d64-79ff-49c2-ab26-8b3eee1860ac",
   "metadata": {},
   "outputs": [
    {
     "name": "stderr",
     "output_type": "stream",
     "text": [
      "/var/folders/7y/pry034n17xs1w4n0rfm69zh00000gn/T/ipykernel_25299/3740681305.py:1: SettingWithCopyWarning: \n",
      "A value is trying to be set on a copy of a slice from a DataFrame.\n",
      "Try using .loc[row_indexer,col_indexer] = value instead\n",
      "\n",
      "See the caveats in the documentation: https://pandas.pydata.org/pandas-docs/stable/user_guide/indexing.html#returning-a-view-versus-a-copy\n",
      "  title_survied['title'] = title_survied['Name'].str.split().str[1]\n"
     ]
    },
    {
     "data": {
      "text/html": [
       "<div>\n",
       "<style scoped>\n",
       "    .dataframe tbody tr th:only-of-type {\n",
       "        vertical-align: middle;\n",
       "    }\n",
       "\n",
       "    .dataframe tbody tr th {\n",
       "        vertical-align: top;\n",
       "    }\n",
       "\n",
       "    .dataframe thead th {\n",
       "        text-align: right;\n",
       "    }\n",
       "</style>\n",
       "<table border=\"1\" class=\"dataframe\">\n",
       "  <thead>\n",
       "    <tr style=\"text-align: right;\">\n",
       "      <th></th>\n",
       "      <th>PassengerId</th>\n",
       "      <th>Survived</th>\n",
       "      <th>Pclass</th>\n",
       "      <th>Name</th>\n",
       "      <th>Sex</th>\n",
       "      <th>Age</th>\n",
       "      <th>SibSp</th>\n",
       "      <th>Parch</th>\n",
       "      <th>Ticket</th>\n",
       "      <th>Fare</th>\n",
       "      <th>Cabin</th>\n",
       "      <th>Embarked</th>\n",
       "      <th>Age_Group</th>\n",
       "      <th>Fare_group</th>\n",
       "      <th>title</th>\n",
       "    </tr>\n",
       "  </thead>\n",
       "  <tbody>\n",
       "    <tr>\n",
       "      <th>0</th>\n",
       "      <td>1</td>\n",
       "      <td>0</td>\n",
       "      <td>3</td>\n",
       "      <td>Braund, Mr. Owen Harris</td>\n",
       "      <td>male</td>\n",
       "      <td>22.0</td>\n",
       "      <td>1</td>\n",
       "      <td>0</td>\n",
       "      <td>A/5 21171</td>\n",
       "      <td>7.2500</td>\n",
       "      <td>-</td>\n",
       "      <td>S</td>\n",
       "      <td>(20.315, 30.263]</td>\n",
       "      <td>(-0.512, 51.233]</td>\n",
       "      <td>Mr.</td>\n",
       "    </tr>\n",
       "    <tr>\n",
       "      <th>1</th>\n",
       "      <td>2</td>\n",
       "      <td>1</td>\n",
       "      <td>1</td>\n",
       "      <td>Cumings, Mrs. John Bradley (Florence Briggs Th...</td>\n",
       "      <td>female</td>\n",
       "      <td>38.0</td>\n",
       "      <td>1</td>\n",
       "      <td>0</td>\n",
       "      <td>PC 17599</td>\n",
       "      <td>71.2833</td>\n",
       "      <td>C</td>\n",
       "      <td>C</td>\n",
       "      <td>(30.263, 40.21]</td>\n",
       "      <td>(51.233, 102.466]</td>\n",
       "      <td>Mrs.</td>\n",
       "    </tr>\n",
       "    <tr>\n",
       "      <th>2</th>\n",
       "      <td>3</td>\n",
       "      <td>1</td>\n",
       "      <td>3</td>\n",
       "      <td>Heikkinen, Miss. Laina</td>\n",
       "      <td>female</td>\n",
       "      <td>26.0</td>\n",
       "      <td>0</td>\n",
       "      <td>0</td>\n",
       "      <td>STON/O2. 3101282</td>\n",
       "      <td>7.9250</td>\n",
       "      <td>-</td>\n",
       "      <td>S</td>\n",
       "      <td>(20.315, 30.263]</td>\n",
       "      <td>(-0.512, 51.233]</td>\n",
       "      <td>Miss.</td>\n",
       "    </tr>\n",
       "    <tr>\n",
       "      <th>3</th>\n",
       "      <td>4</td>\n",
       "      <td>1</td>\n",
       "      <td>1</td>\n",
       "      <td>Futrelle, Mrs. Jacques Heath (Lily May Peel)</td>\n",
       "      <td>female</td>\n",
       "      <td>35.0</td>\n",
       "      <td>1</td>\n",
       "      <td>0</td>\n",
       "      <td>113803</td>\n",
       "      <td>53.1000</td>\n",
       "      <td>C</td>\n",
       "      <td>S</td>\n",
       "      <td>(30.263, 40.21]</td>\n",
       "      <td>(51.233, 102.466]</td>\n",
       "      <td>Mrs.</td>\n",
       "    </tr>\n",
       "    <tr>\n",
       "      <th>4</th>\n",
       "      <td>5</td>\n",
       "      <td>0</td>\n",
       "      <td>3</td>\n",
       "      <td>Allen, Mr. William Henry</td>\n",
       "      <td>male</td>\n",
       "      <td>35.0</td>\n",
       "      <td>0</td>\n",
       "      <td>0</td>\n",
       "      <td>373450</td>\n",
       "      <td>8.0500</td>\n",
       "      <td>-</td>\n",
       "      <td>S</td>\n",
       "      <td>(30.263, 40.21]</td>\n",
       "      <td>(-0.512, 51.233]</td>\n",
       "      <td>Mr.</td>\n",
       "    </tr>\n",
       "    <tr>\n",
       "      <th>...</th>\n",
       "      <td>...</td>\n",
       "      <td>...</td>\n",
       "      <td>...</td>\n",
       "      <td>...</td>\n",
       "      <td>...</td>\n",
       "      <td>...</td>\n",
       "      <td>...</td>\n",
       "      <td>...</td>\n",
       "      <td>...</td>\n",
       "      <td>...</td>\n",
       "      <td>...</td>\n",
       "      <td>...</td>\n",
       "      <td>...</td>\n",
       "      <td>...</td>\n",
       "      <td>...</td>\n",
       "    </tr>\n",
       "    <tr>\n",
       "      <th>886</th>\n",
       "      <td>887</td>\n",
       "      <td>0</td>\n",
       "      <td>2</td>\n",
       "      <td>Montvila, Rev. Juozas</td>\n",
       "      <td>male</td>\n",
       "      <td>27.0</td>\n",
       "      <td>0</td>\n",
       "      <td>0</td>\n",
       "      <td>211536</td>\n",
       "      <td>13.0000</td>\n",
       "      <td>-</td>\n",
       "      <td>S</td>\n",
       "      <td>(20.315, 30.263]</td>\n",
       "      <td>(-0.512, 51.233]</td>\n",
       "      <td>Rev.</td>\n",
       "    </tr>\n",
       "    <tr>\n",
       "      <th>887</th>\n",
       "      <td>888</td>\n",
       "      <td>1</td>\n",
       "      <td>1</td>\n",
       "      <td>Graham, Miss. Margaret Edith</td>\n",
       "      <td>female</td>\n",
       "      <td>19.0</td>\n",
       "      <td>0</td>\n",
       "      <td>0</td>\n",
       "      <td>112053</td>\n",
       "      <td>30.0000</td>\n",
       "      <td>B</td>\n",
       "      <td>S</td>\n",
       "      <td>(10.368, 20.315]</td>\n",
       "      <td>(-0.512, 51.233]</td>\n",
       "      <td>Miss.</td>\n",
       "    </tr>\n",
       "    <tr>\n",
       "      <th>888</th>\n",
       "      <td>889</td>\n",
       "      <td>0</td>\n",
       "      <td>3</td>\n",
       "      <td>Johnston, Miss. Catherine Helen \"Carrie\"</td>\n",
       "      <td>female</td>\n",
       "      <td>NaN</td>\n",
       "      <td>1</td>\n",
       "      <td>2</td>\n",
       "      <td>W./C. 6607</td>\n",
       "      <td>23.4500</td>\n",
       "      <td>-</td>\n",
       "      <td>S</td>\n",
       "      <td>NaN</td>\n",
       "      <td>(-0.512, 51.233]</td>\n",
       "      <td>Miss.</td>\n",
       "    </tr>\n",
       "    <tr>\n",
       "      <th>889</th>\n",
       "      <td>890</td>\n",
       "      <td>1</td>\n",
       "      <td>1</td>\n",
       "      <td>Behr, Mr. Karl Howell</td>\n",
       "      <td>male</td>\n",
       "      <td>26.0</td>\n",
       "      <td>0</td>\n",
       "      <td>0</td>\n",
       "      <td>111369</td>\n",
       "      <td>30.0000</td>\n",
       "      <td>C</td>\n",
       "      <td>C</td>\n",
       "      <td>(20.315, 30.263]</td>\n",
       "      <td>(-0.512, 51.233]</td>\n",
       "      <td>Mr.</td>\n",
       "    </tr>\n",
       "    <tr>\n",
       "      <th>890</th>\n",
       "      <td>891</td>\n",
       "      <td>0</td>\n",
       "      <td>3</td>\n",
       "      <td>Dooley, Mr. Patrick</td>\n",
       "      <td>male</td>\n",
       "      <td>32.0</td>\n",
       "      <td>0</td>\n",
       "      <td>0</td>\n",
       "      <td>370376</td>\n",
       "      <td>7.7500</td>\n",
       "      <td>-</td>\n",
       "      <td>Q</td>\n",
       "      <td>(30.263, 40.21]</td>\n",
       "      <td>(-0.512, 51.233]</td>\n",
       "      <td>Mr.</td>\n",
       "    </tr>\n",
       "  </tbody>\n",
       "</table>\n",
       "<p>877 rows × 15 columns</p>\n",
       "</div>"
      ],
      "text/plain": [
       "     PassengerId  Survived  Pclass  \\\n",
       "0              1         0       3   \n",
       "1              2         1       1   \n",
       "2              3         1       3   \n",
       "3              4         1       1   \n",
       "4              5         0       3   \n",
       "..           ...       ...     ...   \n",
       "886          887         0       2   \n",
       "887          888         1       1   \n",
       "888          889         0       3   \n",
       "889          890         1       1   \n",
       "890          891         0       3   \n",
       "\n",
       "                                                  Name     Sex   Age  SibSp  \\\n",
       "0                              Braund, Mr. Owen Harris    male  22.0      1   \n",
       "1    Cumings, Mrs. John Bradley (Florence Briggs Th...  female  38.0      1   \n",
       "2                               Heikkinen, Miss. Laina  female  26.0      0   \n",
       "3         Futrelle, Mrs. Jacques Heath (Lily May Peel)  female  35.0      1   \n",
       "4                             Allen, Mr. William Henry    male  35.0      0   \n",
       "..                                                 ...     ...   ...    ...   \n",
       "886                              Montvila, Rev. Juozas    male  27.0      0   \n",
       "887                       Graham, Miss. Margaret Edith  female  19.0      0   \n",
       "888           Johnston, Miss. Catherine Helen \"Carrie\"  female   NaN      1   \n",
       "889                              Behr, Mr. Karl Howell    male  26.0      0   \n",
       "890                                Dooley, Mr. Patrick    male  32.0      0   \n",
       "\n",
       "     Parch            Ticket     Fare Cabin Embarked         Age_Group  \\\n",
       "0        0         A/5 21171   7.2500     -        S  (20.315, 30.263]   \n",
       "1        0          PC 17599  71.2833     C        C   (30.263, 40.21]   \n",
       "2        0  STON/O2. 3101282   7.9250     -        S  (20.315, 30.263]   \n",
       "3        0            113803  53.1000     C        S   (30.263, 40.21]   \n",
       "4        0            373450   8.0500     -        S   (30.263, 40.21]   \n",
       "..     ...               ...      ...   ...      ...               ...   \n",
       "886      0            211536  13.0000     -        S  (20.315, 30.263]   \n",
       "887      0            112053  30.0000     B        S  (10.368, 20.315]   \n",
       "888      2        W./C. 6607  23.4500     -        S               NaN   \n",
       "889      0            111369  30.0000     C        C  (20.315, 30.263]   \n",
       "890      0            370376   7.7500     -        Q   (30.263, 40.21]   \n",
       "\n",
       "            Fare_group  title  \n",
       "0     (-0.512, 51.233]    Mr.  \n",
       "1    (51.233, 102.466]   Mrs.  \n",
       "2     (-0.512, 51.233]  Miss.  \n",
       "3    (51.233, 102.466]   Mrs.  \n",
       "4     (-0.512, 51.233]    Mr.  \n",
       "..                 ...    ...  \n",
       "886   (-0.512, 51.233]   Rev.  \n",
       "887   (-0.512, 51.233]  Miss.  \n",
       "888   (-0.512, 51.233]  Miss.  \n",
       "889   (-0.512, 51.233]    Mr.  \n",
       "890   (-0.512, 51.233]    Mr.  \n",
       "\n",
       "[877 rows x 15 columns]"
      ]
     },
     "execution_count": 54,
     "metadata": {},
     "output_type": "execute_result"
    }
   ],
   "source": [
    "title_survied['title'] = title_survied['Name'].str.split().str[1]\n",
    "\n",
    "title_survied"
   ]
  },
  {
   "cell_type": "code",
   "execution_count": 55,
   "id": "54b4d8ec-eb32-4157-b671-60536a8291c1",
   "metadata": {},
   "outputs": [
    {
     "data": {
      "text/plain": [
       "array(['Mr.', 'Mrs.', 'Miss.', 'Master.', 'Planke,', 'Rev.', 'Billiard,',\n",
       "       'der', 'Walle,', 'Dr.', 'Pelsmaeker,', 'Mulder,', 'y', 'Steen,',\n",
       "       'Carlo,', 'Impe,', 'Messemaeker,', 'Velde,', 'Shawah,',\n",
       "       'Melkebeke,', 'Cruyssen,'], dtype=object)"
      ]
     },
     "execution_count": 55,
     "metadata": {},
     "output_type": "execute_result"
    }
   ],
   "source": [
    "title_survied['title'].unique()"
   ]
  },
  {
   "cell_type": "code",
   "execution_count": 56,
   "id": "3f9b63a4-559f-41a9-929b-7da4fcf2decb",
   "metadata": {},
   "outputs": [],
   "source": [
    "title_list = ['Mr.', 'Miss.', 'Mrs.', 'Master.', 'Dr.', 'Rev.']\n",
    "\n",
    "title_survied = title_survied[title_survied['title'].isin(title_list)]"
   ]
  },
  {
   "cell_type": "code",
   "execution_count": 57,
   "id": "13c7269b-89f7-447e-bcb5-9ae79ad65fd2",
   "metadata": {},
   "outputs": [
    {
     "data": {
      "text/html": [
       "<div>\n",
       "<style scoped>\n",
       "    .dataframe tbody tr th:only-of-type {\n",
       "        vertical-align: middle;\n",
       "    }\n",
       "\n",
       "    .dataframe tbody tr th {\n",
       "        vertical-align: top;\n",
       "    }\n",
       "\n",
       "    .dataframe thead th {\n",
       "        text-align: right;\n",
       "    }\n",
       "</style>\n",
       "<table border=\"1\" class=\"dataframe\">\n",
       "  <thead>\n",
       "    <tr style=\"text-align: right;\">\n",
       "      <th></th>\n",
       "      <th>Survived</th>\n",
       "    </tr>\n",
       "    <tr>\n",
       "      <th>title</th>\n",
       "      <th></th>\n",
       "    </tr>\n",
       "  </thead>\n",
       "  <tbody>\n",
       "    <tr>\n",
       "      <th>Rev.</th>\n",
       "      <td>0.000000</td>\n",
       "    </tr>\n",
       "    <tr>\n",
       "      <th>Mr.</th>\n",
       "      <td>0.157371</td>\n",
       "    </tr>\n",
       "    <tr>\n",
       "      <th>Dr.</th>\n",
       "      <td>0.428571</td>\n",
       "    </tr>\n",
       "    <tr>\n",
       "      <th>Master.</th>\n",
       "      <td>0.575000</td>\n",
       "    </tr>\n",
       "    <tr>\n",
       "      <th>Miss.</th>\n",
       "      <td>0.703911</td>\n",
       "    </tr>\n",
       "    <tr>\n",
       "      <th>Mrs.</th>\n",
       "      <td>0.801653</td>\n",
       "    </tr>\n",
       "  </tbody>\n",
       "</table>\n",
       "</div>"
      ],
      "text/plain": [
       "         Survived\n",
       "title            \n",
       "Rev.     0.000000\n",
       "Mr.      0.157371\n",
       "Dr.      0.428571\n",
       "Master.  0.575000\n",
       "Miss.    0.703911\n",
       "Mrs.     0.801653"
      ]
     },
     "execution_count": 57,
     "metadata": {},
     "output_type": "execute_result"
    }
   ],
   "source": [
    "title_survied = title_survied[['title', 'Survived']].groupby('title').mean().sort_values(by='Survived', ascending=True)\n",
    "\n",
    "title_survied"
   ]
  },
  {
   "cell_type": "code",
   "execution_count": 58,
   "id": "635fc6d5-ee06-4ee2-ad33-1ea59f765961",
   "metadata": {},
   "outputs": [
    {
     "data": {
      "image/png": "[encoded data removed]",
      "text/plain": [
       "<Figure size 1000x600 with 1 Axes>"
      ]
     },
     "metadata": {},
     "output_type": "display_data"
    }
   ],
   "source": [
    "# Bar plot\n",
    "plt.figure(figsize=(10, 6))\n",
    "plt.bar(title_survied.index.astype(str), title_survied['Survived'], color = '#BC8F8F')\n",
    "\n",
    "# Customize the plot\n",
    "plt.xlabel('Title')\n",
    "\n",
    "plt.ylabel('Survival Rate')\n",
    "\n",
    "plt.title('Survival Rates by Title')\n",
    "\n",
    "plt.xticks(rotation=45)  # Rotate x-axis labels for better visibility\n",
    "\n",
    "# Display the plot\n",
    "plt.show()"
   ]
  },
  {
   "cell_type": "markdown",
   "id": "6f07a628-49f4-4b18-b2ce-6e9728d85b7e",
   "metadata": {},
   "source": [
    "Mrs. has the highest survival chance"
   ]
  },
  {
   "cell_type": "code",
   "execution_count": null,
   "id": "f2e5e644-462b-493a-a25d-5f55d1930f49",
   "metadata": {},
   "outputs": [],
   "source": []
  },
  {
   "cell_type": "code",
   "execution_count": null,
   "id": "966d3ea7-21ae-4a16-91ac-45f45129845b",
   "metadata": {},
   "outputs": [],
   "source": []
  },
  {
   "cell_type": "markdown",
   "id": "1d852a05-de87-4916-b073-8f9d3b33f7cc",
   "metadata": {},
   "source": [
    "# Data Cleaning"
   ]
  },
  {
   "cell_type": "markdown",
   "id": "d1bd160b-f656-4ddd-9545-28990ac6b1e5",
   "metadata": {},
   "source": [
    "Survived is the one we want to predict, so isolate that from train_df instead."
   ]
  },
  {
   "cell_type": "code",
   "execution_count": 59,
   "id": "fcb2a893-fa9f-4b08-9c28-7dd031f17e1e",
   "metadata": {},
   "outputs": [
    {
     "data": {
      "text/plain": [
       "0    0\n",
       "1    1\n",
       "2    1\n",
       "3    1\n",
       "4    0\n",
       "Name: Survived, dtype: int64"
      ]
     },
     "execution_count": 59,
     "metadata": {},
     "output_type": "execute_result"
    }
   ],
   "source": [
    "label_y = train_df['Survived'] # this is the answer when testing the model\n",
    "\n",
    "label_y.head()"
   ]
  },
  {
   "cell_type": "code",
   "execution_count": 60,
   "id": "8ce3be4b-7426-4b43-ae27-42b6b2e3969d",
   "metadata": {},
   "outputs": [],
   "source": [
    "train_df = train_df.drop('Survived', axis = 1)"
   ]
  },
  {
   "cell_type": "markdown",
   "id": "7d878a60-c067-412b-9bcf-88aa5e589c1b",
   "metadata": {},
   "source": [
    "* Concat test_df to train_df for data cleaning and EDA, then seperate two df afterwards\n",
    "* slicing: https://levelup.gitconnected.com/how-to-slice-a-dataframe-in-pandas-884bd8b298a6"
   ]
  },
  {
   "cell_type": "code",
   "execution_count": 61,
   "id": "4d78b73a-8ea9-4395-9c90-8b3523f82e33",
   "metadata": {},
   "outputs": [],
   "source": [
    "#train_df.insert(0, \"indexforslice\", 'train')\n",
    "\n",
    "#train_df.head(2)"
   ]
  },
  {
   "cell_type": "code",
   "execution_count": 62,
   "id": "f7e615f1-f335-409f-8323-62767d721ae7",
   "metadata": {},
   "outputs": [
    {
     "data": {
      "text/html": [
       "<div>\n",
       "<style scoped>\n",
       "    .dataframe tbody tr th:only-of-type {\n",
       "        vertical-align: middle;\n",
       "    }\n",
       "\n",
       "    .dataframe tbody tr th {\n",
       "        vertical-align: top;\n",
       "    }\n",
       "\n",
       "    .dataframe thead th {\n",
       "        text-align: right;\n",
       "    }\n",
       "</style>\n",
       "<table border=\"1\" class=\"dataframe\">\n",
       "  <thead>\n",
       "    <tr style=\"text-align: right;\">\n",
       "      <th></th>\n",
       "      <th>PassengerId</th>\n",
       "      <th>Pclass</th>\n",
       "      <th>Name</th>\n",
       "      <th>Sex</th>\n",
       "      <th>Age</th>\n",
       "      <th>SibSp</th>\n",
       "      <th>Parch</th>\n",
       "      <th>Ticket</th>\n",
       "      <th>Fare</th>\n",
       "      <th>Cabin</th>\n",
       "      <th>Embarked</th>\n",
       "      <th>Age_Group</th>\n",
       "      <th>Fare_group</th>\n",
       "      <th>indexforslice</th>\n",
       "    </tr>\n",
       "  </thead>\n",
       "  <tbody>\n",
       "    <tr>\n",
       "      <th>0</th>\n",
       "      <td>1</td>\n",
       "      <td>3</td>\n",
       "      <td>Braund, Mr. Owen Harris</td>\n",
       "      <td>male</td>\n",
       "      <td>22.0</td>\n",
       "      <td>1</td>\n",
       "      <td>0</td>\n",
       "      <td>A/5 21171</td>\n",
       "      <td>7.2500</td>\n",
       "      <td>-</td>\n",
       "      <td>S</td>\n",
       "      <td>(20.315, 30.263]</td>\n",
       "      <td>(-0.512, 51.233]</td>\n",
       "      <td>train</td>\n",
       "    </tr>\n",
       "    <tr>\n",
       "      <th>1</th>\n",
       "      <td>2</td>\n",
       "      <td>1</td>\n",
       "      <td>Cumings, Mrs. John Bradley (Florence Briggs Th...</td>\n",
       "      <td>female</td>\n",
       "      <td>38.0</td>\n",
       "      <td>1</td>\n",
       "      <td>0</td>\n",
       "      <td>PC 17599</td>\n",
       "      <td>71.2833</td>\n",
       "      <td>C</td>\n",
       "      <td>C</td>\n",
       "      <td>(30.263, 40.21]</td>\n",
       "      <td>(51.233, 102.466]</td>\n",
       "      <td>train</td>\n",
       "    </tr>\n",
       "  </tbody>\n",
       "</table>\n",
       "</div>"
      ],
      "text/plain": [
       "   PassengerId  Pclass                                               Name  \\\n",
       "0            1       3                            Braund, Mr. Owen Harris   \n",
       "1            2       1  Cumings, Mrs. John Bradley (Florence Briggs Th...   \n",
       "\n",
       "      Sex   Age  SibSp  Parch     Ticket     Fare Cabin Embarked  \\\n",
       "0    male  22.0      1      0  A/5 21171   7.2500     -        S   \n",
       "1  female  38.0      1      0   PC 17599  71.2833     C        C   \n",
       "\n",
       "          Age_Group         Fare_group indexforslice  \n",
       "0  (20.315, 30.263]   (-0.512, 51.233]         train  \n",
       "1   (30.263, 40.21]  (51.233, 102.466]         train  "
      ]
     },
     "execution_count": 62,
     "metadata": {},
     "output_type": "execute_result"
    }
   ],
   "source": [
    "train_df['indexforslice'] = 'train'\n",
    "\n",
    "train_df.head(2)"
   ]
  },
  {
   "cell_type": "code",
   "execution_count": 63,
   "id": "8fa8e068-81ee-4fb1-9cff-a03f950503ee",
   "metadata": {},
   "outputs": [],
   "source": [
    "#test_df.insert(0, \"indexforslice\", 'test')\n",
    "\n",
    "#test_df.head(2)"
   ]
  },
  {
   "cell_type": "code",
   "execution_count": 64,
   "id": "c517cb60-1963-47b5-93d8-2b995dbbb903",
   "metadata": {},
   "outputs": [
    {
     "data": {
      "text/html": [
       "<div>\n",
       "<style scoped>\n",
       "    .dataframe tbody tr th:only-of-type {\n",
       "        vertical-align: middle;\n",
       "    }\n",
       "\n",
       "    .dataframe tbody tr th {\n",
       "        vertical-align: top;\n",
       "    }\n",
       "\n",
       "    .dataframe thead th {\n",
       "        text-align: right;\n",
       "    }\n",
       "</style>\n",
       "<table border=\"1\" class=\"dataframe\">\n",
       "  <thead>\n",
       "    <tr style=\"text-align: right;\">\n",
       "      <th></th>\n",
       "      <th>PassengerId</th>\n",
       "      <th>Pclass</th>\n",
       "      <th>Name</th>\n",
       "      <th>Sex</th>\n",
       "      <th>Age</th>\n",
       "      <th>SibSp</th>\n",
       "      <th>Parch</th>\n",
       "      <th>Ticket</th>\n",
       "      <th>Fare</th>\n",
       "      <th>Cabin</th>\n",
       "      <th>Embarked</th>\n",
       "      <th>indexforslice</th>\n",
       "    </tr>\n",
       "  </thead>\n",
       "  <tbody>\n",
       "    <tr>\n",
       "      <th>0</th>\n",
       "      <td>892</td>\n",
       "      <td>3</td>\n",
       "      <td>Kelly, Mr. James</td>\n",
       "      <td>male</td>\n",
       "      <td>34.5</td>\n",
       "      <td>0</td>\n",
       "      <td>0</td>\n",
       "      <td>330911</td>\n",
       "      <td>7.8292</td>\n",
       "      <td>NaN</td>\n",
       "      <td>Q</td>\n",
       "      <td>test</td>\n",
       "    </tr>\n",
       "    <tr>\n",
       "      <th>1</th>\n",
       "      <td>893</td>\n",
       "      <td>3</td>\n",
       "      <td>Wilkes, Mrs. James (Ellen Needs)</td>\n",
       "      <td>female</td>\n",
       "      <td>47.0</td>\n",
       "      <td>1</td>\n",
       "      <td>0</td>\n",
       "      <td>363272</td>\n",
       "      <td>7.0000</td>\n",
       "      <td>NaN</td>\n",
       "      <td>S</td>\n",
       "      <td>test</td>\n",
       "    </tr>\n",
       "  </tbody>\n",
       "</table>\n",
       "</div>"
      ],
      "text/plain": [
       "   PassengerId  Pclass                              Name     Sex   Age  SibSp  \\\n",
       "0          892       3                  Kelly, Mr. James    male  34.5      0   \n",
       "1          893       3  Wilkes, Mrs. James (Ellen Needs)  female  47.0      1   \n",
       "\n",
       "   Parch  Ticket    Fare Cabin Embarked indexforslice  \n",
       "0      0  330911  7.8292   NaN        Q          test  \n",
       "1      0  363272  7.0000   NaN        S          test  "
      ]
     },
     "execution_count": 64,
     "metadata": {},
     "output_type": "execute_result"
    }
   ],
   "source": [
    "test_df['indexforslice'] = 'test'\n",
    "\n",
    "test_df.head(2)"
   ]
  },
  {
   "cell_type": "code",
   "execution_count": 65,
   "id": "1d3e44eb-c9a1-47ef-9414-67bf73fbe822",
   "metadata": {},
   "outputs": [
    {
     "data": {
      "text/plain": [
       "(1309, 14)"
      ]
     },
     "execution_count": 65,
     "metadata": {},
     "output_type": "execute_result"
    }
   ],
   "source": [
    "#concat 2 df vertically\n",
    "all_df = pd.concat([train_df, test_df], axis=0)\n",
    "\n",
    "all_df.shape"
   ]
  },
  {
   "cell_type": "code",
   "execution_count": 66,
   "id": "06f0b5b0-8ca1-491f-bc63-a8554ac9cdfb",
   "metadata": {},
   "outputs": [
    {
     "data": {
      "text/html": [
       "<div>\n",
       "<style scoped>\n",
       "    .dataframe tbody tr th:only-of-type {\n",
       "        vertical-align: middle;\n",
       "    }\n",
       "\n",
       "    .dataframe tbody tr th {\n",
       "        vertical-align: top;\n",
       "    }\n",
       "\n",
       "    .dataframe thead th {\n",
       "        text-align: right;\n",
       "    }\n",
       "</style>\n",
       "<table border=\"1\" class=\"dataframe\">\n",
       "  <thead>\n",
       "    <tr style=\"text-align: right;\">\n",
       "      <th></th>\n",
       "      <th>PassengerId</th>\n",
       "      <th>Pclass</th>\n",
       "      <th>Name</th>\n",
       "      <th>Sex</th>\n",
       "      <th>Age</th>\n",
       "      <th>SibSp</th>\n",
       "      <th>Parch</th>\n",
       "      <th>Ticket</th>\n",
       "      <th>Fare</th>\n",
       "      <th>Cabin</th>\n",
       "      <th>Embarked</th>\n",
       "      <th>Age_Group</th>\n",
       "      <th>Fare_group</th>\n",
       "      <th>indexforslice</th>\n",
       "    </tr>\n",
       "  </thead>\n",
       "  <tbody>\n",
       "    <tr>\n",
       "      <th>0</th>\n",
       "      <td>1</td>\n",
       "      <td>3</td>\n",
       "      <td>Braund, Mr. Owen Harris</td>\n",
       "      <td>male</td>\n",
       "      <td>22.0</td>\n",
       "      <td>1</td>\n",
       "      <td>0</td>\n",
       "      <td>A/5 21171</td>\n",
       "      <td>7.2500</td>\n",
       "      <td>-</td>\n",
       "      <td>S</td>\n",
       "      <td>(20.315, 30.263]</td>\n",
       "      <td>(-0.512, 51.233]</td>\n",
       "      <td>train</td>\n",
       "    </tr>\n",
       "    <tr>\n",
       "      <th>1</th>\n",
       "      <td>2</td>\n",
       "      <td>1</td>\n",
       "      <td>Cumings, Mrs. John Bradley (Florence Briggs Th...</td>\n",
       "      <td>female</td>\n",
       "      <td>38.0</td>\n",
       "      <td>1</td>\n",
       "      <td>0</td>\n",
       "      <td>PC 17599</td>\n",
       "      <td>71.2833</td>\n",
       "      <td>C</td>\n",
       "      <td>C</td>\n",
       "      <td>(30.263, 40.21]</td>\n",
       "      <td>(51.233, 102.466]</td>\n",
       "      <td>train</td>\n",
       "    </tr>\n",
       "    <tr>\n",
       "      <th>2</th>\n",
       "      <td>3</td>\n",
       "      <td>3</td>\n",
       "      <td>Heikkinen, Miss. Laina</td>\n",
       "      <td>female</td>\n",
       "      <td>26.0</td>\n",
       "      <td>0</td>\n",
       "      <td>0</td>\n",
       "      <td>STON/O2. 3101282</td>\n",
       "      <td>7.9250</td>\n",
       "      <td>-</td>\n",
       "      <td>S</td>\n",
       "      <td>(20.315, 30.263]</td>\n",
       "      <td>(-0.512, 51.233]</td>\n",
       "      <td>train</td>\n",
       "    </tr>\n",
       "    <tr>\n",
       "      <th>3</th>\n",
       "      <td>4</td>\n",
       "      <td>1</td>\n",
       "      <td>Futrelle, Mrs. Jacques Heath (Lily May Peel)</td>\n",
       "      <td>female</td>\n",
       "      <td>35.0</td>\n",
       "      <td>1</td>\n",
       "      <td>0</td>\n",
       "      <td>113803</td>\n",
       "      <td>53.1000</td>\n",
       "      <td>C</td>\n",
       "      <td>S</td>\n",
       "      <td>(30.263, 40.21]</td>\n",
       "      <td>(51.233, 102.466]</td>\n",
       "      <td>train</td>\n",
       "    </tr>\n",
       "    <tr>\n",
       "      <th>4</th>\n",
       "      <td>5</td>\n",
       "      <td>3</td>\n",
       "      <td>Allen, Mr. William Henry</td>\n",
       "      <td>male</td>\n",
       "      <td>35.0</td>\n",
       "      <td>0</td>\n",
       "      <td>0</td>\n",
       "      <td>373450</td>\n",
       "      <td>8.0500</td>\n",
       "      <td>-</td>\n",
       "      <td>S</td>\n",
       "      <td>(30.263, 40.21]</td>\n",
       "      <td>(-0.512, 51.233]</td>\n",
       "      <td>train</td>\n",
       "    </tr>\n",
       "  </tbody>\n",
       "</table>\n",
       "</div>"
      ],
      "text/plain": [
       "   PassengerId  Pclass                                               Name  \\\n",
       "0            1       3                            Braund, Mr. Owen Harris   \n",
       "1            2       1  Cumings, Mrs. John Bradley (Florence Briggs Th...   \n",
       "2            3       3                             Heikkinen, Miss. Laina   \n",
       "3            4       1       Futrelle, Mrs. Jacques Heath (Lily May Peel)   \n",
       "4            5       3                           Allen, Mr. William Henry   \n",
       "\n",
       "      Sex   Age  SibSp  Parch            Ticket     Fare Cabin Embarked  \\\n",
       "0    male  22.0      1      0         A/5 21171   7.2500     -        S   \n",
       "1  female  38.0      1      0          PC 17599  71.2833     C        C   \n",
       "2  female  26.0      0      0  STON/O2. 3101282   7.9250     -        S   \n",
       "3  female  35.0      1      0            113803  53.1000     C        S   \n",
       "4    male  35.0      0      0            373450   8.0500     -        S   \n",
       "\n",
       "          Age_Group         Fare_group indexforslice  \n",
       "0  (20.315, 30.263]   (-0.512, 51.233]         train  \n",
       "1   (30.263, 40.21]  (51.233, 102.466]         train  \n",
       "2  (20.315, 30.263]   (-0.512, 51.233]         train  \n",
       "3   (30.263, 40.21]  (51.233, 102.466]         train  \n",
       "4   (30.263, 40.21]   (-0.512, 51.233]         train  "
      ]
     },
     "execution_count": 66,
     "metadata": {},
     "output_type": "execute_result"
    }
   ],
   "source": [
    "all_df.head()"
   ]
  },
  {
   "cell_type": "code",
   "execution_count": 67,
   "id": "a9f86bb6-2ac3-4398-94ee-8a60f0c56528",
   "metadata": {},
   "outputs": [
    {
     "data": {
      "text/html": [
       "<div>\n",
       "<style scoped>\n",
       "    .dataframe tbody tr th:only-of-type {\n",
       "        vertical-align: middle;\n",
       "    }\n",
       "\n",
       "    .dataframe tbody tr th {\n",
       "        vertical-align: top;\n",
       "    }\n",
       "\n",
       "    .dataframe thead th {\n",
       "        text-align: right;\n",
       "    }\n",
       "</style>\n",
       "<table border=\"1\" class=\"dataframe\">\n",
       "  <thead>\n",
       "    <tr style=\"text-align: right;\">\n",
       "      <th></th>\n",
       "      <th>PassengerId</th>\n",
       "      <th>Pclass</th>\n",
       "      <th>Age</th>\n",
       "      <th>SibSp</th>\n",
       "      <th>Parch</th>\n",
       "      <th>Fare</th>\n",
       "    </tr>\n",
       "  </thead>\n",
       "  <tbody>\n",
       "    <tr>\n",
       "      <th>count</th>\n",
       "      <td>1309.000000</td>\n",
       "      <td>1309.000000</td>\n",
       "      <td>1046.000000</td>\n",
       "      <td>1309.000000</td>\n",
       "      <td>1309.000000</td>\n",
       "      <td>1308.000000</td>\n",
       "    </tr>\n",
       "    <tr>\n",
       "      <th>mean</th>\n",
       "      <td>655.000000</td>\n",
       "      <td>2.294882</td>\n",
       "      <td>29.881138</td>\n",
       "      <td>0.498854</td>\n",
       "      <td>0.385027</td>\n",
       "      <td>33.295479</td>\n",
       "    </tr>\n",
       "    <tr>\n",
       "      <th>std</th>\n",
       "      <td>378.020061</td>\n",
       "      <td>0.837836</td>\n",
       "      <td>14.413493</td>\n",
       "      <td>1.041658</td>\n",
       "      <td>0.865560</td>\n",
       "      <td>51.758668</td>\n",
       "    </tr>\n",
       "    <tr>\n",
       "      <th>min</th>\n",
       "      <td>1.000000</td>\n",
       "      <td>1.000000</td>\n",
       "      <td>0.170000</td>\n",
       "      <td>0.000000</td>\n",
       "      <td>0.000000</td>\n",
       "      <td>0.000000</td>\n",
       "    </tr>\n",
       "    <tr>\n",
       "      <th>25%</th>\n",
       "      <td>328.000000</td>\n",
       "      <td>2.000000</td>\n",
       "      <td>21.000000</td>\n",
       "      <td>0.000000</td>\n",
       "      <td>0.000000</td>\n",
       "      <td>7.895800</td>\n",
       "    </tr>\n",
       "    <tr>\n",
       "      <th>50%</th>\n",
       "      <td>655.000000</td>\n",
       "      <td>3.000000</td>\n",
       "      <td>28.000000</td>\n",
       "      <td>0.000000</td>\n",
       "      <td>0.000000</td>\n",
       "      <td>14.454200</td>\n",
       "    </tr>\n",
       "    <tr>\n",
       "      <th>75%</th>\n",
       "      <td>982.000000</td>\n",
       "      <td>3.000000</td>\n",
       "      <td>39.000000</td>\n",
       "      <td>1.000000</td>\n",
       "      <td>0.000000</td>\n",
       "      <td>31.275000</td>\n",
       "    </tr>\n",
       "    <tr>\n",
       "      <th>max</th>\n",
       "      <td>1309.000000</td>\n",
       "      <td>3.000000</td>\n",
       "      <td>80.000000</td>\n",
       "      <td>8.000000</td>\n",
       "      <td>9.000000</td>\n",
       "      <td>512.329200</td>\n",
       "    </tr>\n",
       "  </tbody>\n",
       "</table>\n",
       "</div>"
      ],
      "text/plain": [
       "       PassengerId       Pclass          Age        SibSp        Parch  \\\n",
       "count  1309.000000  1309.000000  1046.000000  1309.000000  1309.000000   \n",
       "mean    655.000000     2.294882    29.881138     0.498854     0.385027   \n",
       "std     378.020061     0.837836    14.413493     1.041658     0.865560   \n",
       "min       1.000000     1.000000     0.170000     0.000000     0.000000   \n",
       "25%     328.000000     2.000000    21.000000     0.000000     0.000000   \n",
       "50%     655.000000     3.000000    28.000000     0.000000     0.000000   \n",
       "75%     982.000000     3.000000    39.000000     1.000000     0.000000   \n",
       "max    1309.000000     3.000000    80.000000     8.000000     9.000000   \n",
       "\n",
       "              Fare  \n",
       "count  1308.000000  \n",
       "mean     33.295479  \n",
       "std      51.758668  \n",
       "min       0.000000  \n",
       "25%       7.895800  \n",
       "50%      14.454200  \n",
       "75%      31.275000  \n",
       "max     512.329200  "
      ]
     },
     "execution_count": 67,
     "metadata": {},
     "output_type": "execute_result"
    }
   ],
   "source": [
    "all_df.describe()"
   ]
  },
  {
   "cell_type": "markdown",
   "id": "d0fb4e93-65b5-40fe-a292-7f93c8f383e8",
   "metadata": {},
   "source": [
    "Name has duplicates"
   ]
  },
  {
   "cell_type": "code",
   "execution_count": 68,
   "id": "ff13a030-5675-4c2b-9d15-a036a89ca836",
   "metadata": {},
   "outputs": [
    {
     "data": {
      "text/html": [
       "<div>\n",
       "<style scoped>\n",
       "    .dataframe tbody tr th:only-of-type {\n",
       "        vertical-align: middle;\n",
       "    }\n",
       "\n",
       "    .dataframe tbody tr th {\n",
       "        vertical-align: top;\n",
       "    }\n",
       "\n",
       "    .dataframe thead th {\n",
       "        text-align: right;\n",
       "    }\n",
       "</style>\n",
       "<table border=\"1\" class=\"dataframe\">\n",
       "  <thead>\n",
       "    <tr style=\"text-align: right;\">\n",
       "      <th></th>\n",
       "      <th>Name</th>\n",
       "      <th>Sex</th>\n",
       "      <th>Ticket</th>\n",
       "      <th>Cabin</th>\n",
       "      <th>Embarked</th>\n",
       "      <th>indexforslice</th>\n",
       "    </tr>\n",
       "  </thead>\n",
       "  <tbody>\n",
       "    <tr>\n",
       "      <th>count</th>\n",
       "      <td>1309</td>\n",
       "      <td>1309</td>\n",
       "      <td>1309</td>\n",
       "      <td>982</td>\n",
       "      <td>1307</td>\n",
       "      <td>1309</td>\n",
       "    </tr>\n",
       "    <tr>\n",
       "      <th>unique</th>\n",
       "      <td>1307</td>\n",
       "      <td>2</td>\n",
       "      <td>929</td>\n",
       "      <td>83</td>\n",
       "      <td>3</td>\n",
       "      <td>2</td>\n",
       "    </tr>\n",
       "    <tr>\n",
       "      <th>top</th>\n",
       "      <td>Connolly, Miss. Kate</td>\n",
       "      <td>male</td>\n",
       "      <td>CA. 2343</td>\n",
       "      <td>-</td>\n",
       "      <td>S</td>\n",
       "      <td>train</td>\n",
       "    </tr>\n",
       "    <tr>\n",
       "      <th>freq</th>\n",
       "      <td>2</td>\n",
       "      <td>843</td>\n",
       "      <td>11</td>\n",
       "      <td>687</td>\n",
       "      <td>914</td>\n",
       "      <td>891</td>\n",
       "    </tr>\n",
       "  </tbody>\n",
       "</table>\n",
       "</div>"
      ],
      "text/plain": [
       "                        Name   Sex    Ticket Cabin Embarked indexforslice\n",
       "count                   1309  1309      1309   982     1307          1309\n",
       "unique                  1307     2       929    83        3             2\n",
       "top     Connolly, Miss. Kate  male  CA. 2343     -        S         train\n",
       "freq                       2   843        11   687      914           891"
      ]
     },
     "execution_count": 68,
     "metadata": {},
     "output_type": "execute_result"
    }
   ],
   "source": [
    "all_df.describe(include='object')"
   ]
  },
  {
   "cell_type": "markdown",
   "id": "ebfa91b4-21b3-4067-a2f6-62826207d22c",
   "metadata": {},
   "source": [
    "Seems like two persons have same name since no duplicates"
   ]
  },
  {
   "cell_type": "code",
   "execution_count": 69,
   "id": "5247da9e-e223-4ab2-b384-8d8bc3ab3ea8",
   "metadata": {},
   "outputs": [
    {
     "data": {
      "text/html": [
       "<div>\n",
       "<style scoped>\n",
       "    .dataframe tbody tr th:only-of-type {\n",
       "        vertical-align: middle;\n",
       "    }\n",
       "\n",
       "    .dataframe tbody tr th {\n",
       "        vertical-align: top;\n",
       "    }\n",
       "\n",
       "    .dataframe thead th {\n",
       "        text-align: right;\n",
       "    }\n",
       "</style>\n",
       "<table border=\"1\" class=\"dataframe\">\n",
       "  <thead>\n",
       "    <tr style=\"text-align: right;\">\n",
       "      <th></th>\n",
       "      <th>PassengerId</th>\n",
       "      <th>Pclass</th>\n",
       "      <th>Name</th>\n",
       "      <th>Sex</th>\n",
       "      <th>Age</th>\n",
       "      <th>SibSp</th>\n",
       "      <th>Parch</th>\n",
       "      <th>Ticket</th>\n",
       "      <th>Fare</th>\n",
       "      <th>Cabin</th>\n",
       "      <th>Embarked</th>\n",
       "      <th>Age_Group</th>\n",
       "      <th>Fare_group</th>\n",
       "      <th>indexforslice</th>\n",
       "    </tr>\n",
       "  </thead>\n",
       "  <tbody>\n",
       "    <tr>\n",
       "      <th>0</th>\n",
       "      <td>892</td>\n",
       "      <td>3</td>\n",
       "      <td>Kelly, Mr. James</td>\n",
       "      <td>male</td>\n",
       "      <td>34.5</td>\n",
       "      <td>0</td>\n",
       "      <td>0</td>\n",
       "      <td>330911</td>\n",
       "      <td>7.8292</td>\n",
       "      <td>NaN</td>\n",
       "      <td>Q</td>\n",
       "      <td>NaN</td>\n",
       "      <td>NaN</td>\n",
       "      <td>test</td>\n",
       "    </tr>\n",
       "    <tr>\n",
       "      <th>6</th>\n",
       "      <td>898</td>\n",
       "      <td>3</td>\n",
       "      <td>Connolly, Miss. Kate</td>\n",
       "      <td>female</td>\n",
       "      <td>30.0</td>\n",
       "      <td>0</td>\n",
       "      <td>0</td>\n",
       "      <td>330972</td>\n",
       "      <td>7.6292</td>\n",
       "      <td>NaN</td>\n",
       "      <td>Q</td>\n",
       "      <td>NaN</td>\n",
       "      <td>NaN</td>\n",
       "      <td>test</td>\n",
       "    </tr>\n",
       "  </tbody>\n",
       "</table>\n",
       "</div>"
      ],
      "text/plain": [
       "   PassengerId  Pclass                  Name     Sex   Age  SibSp  Parch  \\\n",
       "0          892       3      Kelly, Mr. James    male  34.5      0      0   \n",
       "6          898       3  Connolly, Miss. Kate  female  30.0      0      0   \n",
       "\n",
       "   Ticket    Fare Cabin Embarked Age_Group Fare_group indexforslice  \n",
       "0  330911  7.8292   NaN        Q       NaN        NaN          test  \n",
       "6  330972  7.6292   NaN        Q       NaN        NaN          test  "
      ]
     },
     "execution_count": 69,
     "metadata": {},
     "output_type": "execute_result"
    }
   ],
   "source": [
    "all_df[all_df['Name'].duplicated()] # result shows not the same person"
   ]
  },
  {
   "cell_type": "code",
   "execution_count": 70,
   "id": "fa87d3e2-28ed-4a85-9fb3-bb068b7b578f",
   "metadata": {},
   "outputs": [
    {
     "data": {
      "text/plain": [
       "0"
      ]
     },
     "execution_count": 70,
     "metadata": {},
     "output_type": "execute_result"
    }
   ],
   "source": [
    "all_df.duplicated().sum()"
   ]
  },
  {
   "cell_type": "code",
   "execution_count": 71,
   "id": "c1d8dd0c-d543-41bd-8a96-ce94ddb3b224",
   "metadata": {},
   "outputs": [
    {
     "name": "stdout",
     "output_type": "stream",
     "text": [
      "<class 'pandas.core.frame.DataFrame'>\n",
      "Int64Index: 1309 entries, 0 to 417\n",
      "Data columns (total 14 columns):\n",
      " #   Column         Non-Null Count  Dtype   \n",
      "---  ------         --------------  -----   \n",
      " 0   PassengerId    1309 non-null   int64   \n",
      " 1   Pclass         1309 non-null   int64   \n",
      " 2   Name           1309 non-null   object  \n",
      " 3   Sex            1309 non-null   object  \n",
      " 4   Age            1046 non-null   float64 \n",
      " 5   SibSp          1309 non-null   int64   \n",
      " 6   Parch          1309 non-null   int64   \n",
      " 7   Ticket         1309 non-null   object  \n",
      " 8   Fare           1308 non-null   float64 \n",
      " 9   Cabin          982 non-null    object  \n",
      " 10  Embarked       1307 non-null   object  \n",
      " 11  Age_Group      714 non-null    category\n",
      " 12  Fare_group     891 non-null    category\n",
      " 13  indexforslice  1309 non-null   object  \n",
      "dtypes: category(2), float64(2), int64(4), object(6)\n",
      "memory usage: 137.0+ KB\n"
     ]
    }
   ],
   "source": [
    "all_df.info()"
   ]
  },
  {
   "cell_type": "code",
   "execution_count": 72,
   "id": "2247a2d3-af49-4428-baaf-d2de418c5eb3",
   "metadata": {},
   "outputs": [
    {
     "data": {
      "text/plain": [
       "PassengerId        0\n",
       "Pclass             0\n",
       "Name               0\n",
       "Sex                0\n",
       "Age              263\n",
       "SibSp              0\n",
       "Parch              0\n",
       "Ticket             0\n",
       "Fare               1\n",
       "Cabin            327\n",
       "Embarked           2\n",
       "Age_Group        595\n",
       "Fare_group       418\n",
       "indexforslice      0\n",
       "dtype: int64"
      ]
     },
     "execution_count": 72,
     "metadata": {},
     "output_type": "execute_result"
    }
   ],
   "source": [
    "all_df.isnull().sum()"
   ]
  },
  {
   "cell_type": "markdown",
   "id": "d8d663dd-aba4-4780-88b9-226c0937cceb",
   "metadata": {},
   "source": [
    "## Add/Drop col"
   ]
  },
  {
   "cell_type": "markdown",
   "id": "0d88cac7-bfa7-48af-873a-47d74fa48f3e",
   "metadata": {},
   "source": [
    "### drop Passengerid"
   ]
  },
  {
   "cell_type": "code",
   "execution_count": 73,
   "id": "723e818e-b485-4de7-9ee6-6257cdbbec8b",
   "metadata": {},
   "outputs": [],
   "source": [
    "all_df = all_df.drop(['PassengerId'], axis = 1)"
   ]
  },
  {
   "cell_type": "code",
   "execution_count": 74,
   "id": "9c3ae437-6d40-43c3-a514-cd3cd00da2be",
   "metadata": {},
   "outputs": [
    {
     "data": {
      "text/html": [
       "<div>\n",
       "<style scoped>\n",
       "    .dataframe tbody tr th:only-of-type {\n",
       "        vertical-align: middle;\n",
       "    }\n",
       "\n",
       "    .dataframe tbody tr th {\n",
       "        vertical-align: top;\n",
       "    }\n",
       "\n",
       "    .dataframe thead th {\n",
       "        text-align: right;\n",
       "    }\n",
       "</style>\n",
       "<table border=\"1\" class=\"dataframe\">\n",
       "  <thead>\n",
       "    <tr style=\"text-align: right;\">\n",
       "      <th></th>\n",
       "      <th>Pclass</th>\n",
       "      <th>Name</th>\n",
       "      <th>Sex</th>\n",
       "      <th>Age</th>\n",
       "      <th>SibSp</th>\n",
       "      <th>Parch</th>\n",
       "      <th>Ticket</th>\n",
       "      <th>Fare</th>\n",
       "      <th>Cabin</th>\n",
       "      <th>Embarked</th>\n",
       "      <th>Age_Group</th>\n",
       "      <th>Fare_group</th>\n",
       "      <th>indexforslice</th>\n",
       "    </tr>\n",
       "  </thead>\n",
       "  <tbody>\n",
       "    <tr>\n",
       "      <th>0</th>\n",
       "      <td>3</td>\n",
       "      <td>Braund, Mr. Owen Harris</td>\n",
       "      <td>male</td>\n",
       "      <td>22.0</td>\n",
       "      <td>1</td>\n",
       "      <td>0</td>\n",
       "      <td>A/5 21171</td>\n",
       "      <td>7.2500</td>\n",
       "      <td>-</td>\n",
       "      <td>S</td>\n",
       "      <td>(20.315, 30.263]</td>\n",
       "      <td>(-0.512, 51.233]</td>\n",
       "      <td>train</td>\n",
       "    </tr>\n",
       "    <tr>\n",
       "      <th>1</th>\n",
       "      <td>1</td>\n",
       "      <td>Cumings, Mrs. John Bradley (Florence Briggs Th...</td>\n",
       "      <td>female</td>\n",
       "      <td>38.0</td>\n",
       "      <td>1</td>\n",
       "      <td>0</td>\n",
       "      <td>PC 17599</td>\n",
       "      <td>71.2833</td>\n",
       "      <td>C</td>\n",
       "      <td>C</td>\n",
       "      <td>(30.263, 40.21]</td>\n",
       "      <td>(51.233, 102.466]</td>\n",
       "      <td>train</td>\n",
       "    </tr>\n",
       "    <tr>\n",
       "      <th>2</th>\n",
       "      <td>3</td>\n",
       "      <td>Heikkinen, Miss. Laina</td>\n",
       "      <td>female</td>\n",
       "      <td>26.0</td>\n",
       "      <td>0</td>\n",
       "      <td>0</td>\n",
       "      <td>STON/O2. 3101282</td>\n",
       "      <td>7.9250</td>\n",
       "      <td>-</td>\n",
       "      <td>S</td>\n",
       "      <td>(20.315, 30.263]</td>\n",
       "      <td>(-0.512, 51.233]</td>\n",
       "      <td>train</td>\n",
       "    </tr>\n",
       "    <tr>\n",
       "      <th>3</th>\n",
       "      <td>1</td>\n",
       "      <td>Futrelle, Mrs. Jacques Heath (Lily May Peel)</td>\n",
       "      <td>female</td>\n",
       "      <td>35.0</td>\n",
       "      <td>1</td>\n",
       "      <td>0</td>\n",
       "      <td>113803</td>\n",
       "      <td>53.1000</td>\n",
       "      <td>C</td>\n",
       "      <td>S</td>\n",
       "      <td>(30.263, 40.21]</td>\n",
       "      <td>(51.233, 102.466]</td>\n",
       "      <td>train</td>\n",
       "    </tr>\n",
       "    <tr>\n",
       "      <th>4</th>\n",
       "      <td>3</td>\n",
       "      <td>Allen, Mr. William Henry</td>\n",
       "      <td>male</td>\n",
       "      <td>35.0</td>\n",
       "      <td>0</td>\n",
       "      <td>0</td>\n",
       "      <td>373450</td>\n",
       "      <td>8.0500</td>\n",
       "      <td>-</td>\n",
       "      <td>S</td>\n",
       "      <td>(30.263, 40.21]</td>\n",
       "      <td>(-0.512, 51.233]</td>\n",
       "      <td>train</td>\n",
       "    </tr>\n",
       "  </tbody>\n",
       "</table>\n",
       "</div>"
      ],
      "text/plain": [
       "   Pclass                                               Name     Sex   Age  \\\n",
       "0       3                            Braund, Mr. Owen Harris    male  22.0   \n",
       "1       1  Cumings, Mrs. John Bradley (Florence Briggs Th...  female  38.0   \n",
       "2       3                             Heikkinen, Miss. Laina  female  26.0   \n",
       "3       1       Futrelle, Mrs. Jacques Heath (Lily May Peel)  female  35.0   \n",
       "4       3                           Allen, Mr. William Henry    male  35.0   \n",
       "\n",
       "   SibSp  Parch            Ticket     Fare Cabin Embarked         Age_Group  \\\n",
       "0      1      0         A/5 21171   7.2500     -        S  (20.315, 30.263]   \n",
       "1      1      0          PC 17599  71.2833     C        C   (30.263, 40.21]   \n",
       "2      0      0  STON/O2. 3101282   7.9250     -        S  (20.315, 30.263]   \n",
       "3      1      0            113803  53.1000     C        S   (30.263, 40.21]   \n",
       "4      0      0            373450   8.0500     -        S   (30.263, 40.21]   \n",
       "\n",
       "          Fare_group indexforslice  \n",
       "0   (-0.512, 51.233]         train  \n",
       "1  (51.233, 102.466]         train  \n",
       "2   (-0.512, 51.233]         train  \n",
       "3  (51.233, 102.466]         train  \n",
       "4   (-0.512, 51.233]         train  "
      ]
     },
     "execution_count": 74,
     "metadata": {},
     "output_type": "execute_result"
    }
   ],
   "source": [
    "all_df.head()"
   ]
  },
  {
   "cell_type": "code",
   "execution_count": 75,
   "id": "5228e4e9-4fd5-4ea7-b3f1-8b1343a09648",
   "metadata": {},
   "outputs": [
    {
     "data": {
      "text/html": [
       "<div>\n",
       "<style scoped>\n",
       "    .dataframe tbody tr th:only-of-type {\n",
       "        vertical-align: middle;\n",
       "    }\n",
       "\n",
       "    .dataframe tbody tr th {\n",
       "        vertical-align: top;\n",
       "    }\n",
       "\n",
       "    .dataframe thead th {\n",
       "        text-align: right;\n",
       "    }\n",
       "</style>\n",
       "<table border=\"1\" class=\"dataframe\">\n",
       "  <thead>\n",
       "    <tr style=\"text-align: right;\">\n",
       "      <th></th>\n",
       "      <th>Pclass</th>\n",
       "      <th>Name</th>\n",
       "      <th>Sex</th>\n",
       "      <th>Age</th>\n",
       "      <th>SibSp</th>\n",
       "      <th>Parch</th>\n",
       "      <th>Ticket</th>\n",
       "      <th>Fare</th>\n",
       "      <th>Cabin</th>\n",
       "      <th>Embarked</th>\n",
       "      <th>Age_Group</th>\n",
       "      <th>Fare_group</th>\n",
       "      <th>indexforslice</th>\n",
       "      <th>Fam</th>\n",
       "    </tr>\n",
       "  </thead>\n",
       "  <tbody>\n",
       "    <tr>\n",
       "      <th>0</th>\n",
       "      <td>3</td>\n",
       "      <td>Braund, Mr. Owen Harris</td>\n",
       "      <td>male</td>\n",
       "      <td>22.0</td>\n",
       "      <td>1</td>\n",
       "      <td>0</td>\n",
       "      <td>A/5 21171</td>\n",
       "      <td>7.2500</td>\n",
       "      <td>-</td>\n",
       "      <td>S</td>\n",
       "      <td>(20.315, 30.263]</td>\n",
       "      <td>(-0.512, 51.233]</td>\n",
       "      <td>train</td>\n",
       "      <td>1</td>\n",
       "    </tr>\n",
       "    <tr>\n",
       "      <th>1</th>\n",
       "      <td>1</td>\n",
       "      <td>Cumings, Mrs. John Bradley (Florence Briggs Th...</td>\n",
       "      <td>female</td>\n",
       "      <td>38.0</td>\n",
       "      <td>1</td>\n",
       "      <td>0</td>\n",
       "      <td>PC 17599</td>\n",
       "      <td>71.2833</td>\n",
       "      <td>C</td>\n",
       "      <td>C</td>\n",
       "      <td>(30.263, 40.21]</td>\n",
       "      <td>(51.233, 102.466]</td>\n",
       "      <td>train</td>\n",
       "      <td>1</td>\n",
       "    </tr>\n",
       "    <tr>\n",
       "      <th>2</th>\n",
       "      <td>3</td>\n",
       "      <td>Heikkinen, Miss. Laina</td>\n",
       "      <td>female</td>\n",
       "      <td>26.0</td>\n",
       "      <td>0</td>\n",
       "      <td>0</td>\n",
       "      <td>STON/O2. 3101282</td>\n",
       "      <td>7.9250</td>\n",
       "      <td>-</td>\n",
       "      <td>S</td>\n",
       "      <td>(20.315, 30.263]</td>\n",
       "      <td>(-0.512, 51.233]</td>\n",
       "      <td>train</td>\n",
       "      <td>0</td>\n",
       "    </tr>\n",
       "    <tr>\n",
       "      <th>3</th>\n",
       "      <td>1</td>\n",
       "      <td>Futrelle, Mrs. Jacques Heath (Lily May Peel)</td>\n",
       "      <td>female</td>\n",
       "      <td>35.0</td>\n",
       "      <td>1</td>\n",
       "      <td>0</td>\n",
       "      <td>113803</td>\n",
       "      <td>53.1000</td>\n",
       "      <td>C</td>\n",
       "      <td>S</td>\n",
       "      <td>(30.263, 40.21]</td>\n",
       "      <td>(51.233, 102.466]</td>\n",
       "      <td>train</td>\n",
       "      <td>1</td>\n",
       "    </tr>\n",
       "    <tr>\n",
       "      <th>4</th>\n",
       "      <td>3</td>\n",
       "      <td>Allen, Mr. William Henry</td>\n",
       "      <td>male</td>\n",
       "      <td>35.0</td>\n",
       "      <td>0</td>\n",
       "      <td>0</td>\n",
       "      <td>373450</td>\n",
       "      <td>8.0500</td>\n",
       "      <td>-</td>\n",
       "      <td>S</td>\n",
       "      <td>(30.263, 40.21]</td>\n",
       "      <td>(-0.512, 51.233]</td>\n",
       "      <td>train</td>\n",
       "      <td>0</td>\n",
       "    </tr>\n",
       "  </tbody>\n",
       "</table>\n",
       "</div>"
      ],
      "text/plain": [
       "   Pclass                                               Name     Sex   Age  \\\n",
       "0       3                            Braund, Mr. Owen Harris    male  22.0   \n",
       "1       1  Cumings, Mrs. John Bradley (Florence Briggs Th...  female  38.0   \n",
       "2       3                             Heikkinen, Miss. Laina  female  26.0   \n",
       "3       1       Futrelle, Mrs. Jacques Heath (Lily May Peel)  female  35.0   \n",
       "4       3                           Allen, Mr. William Henry    male  35.0   \n",
       "\n",
       "   SibSp  Parch            Ticket     Fare Cabin Embarked         Age_Group  \\\n",
       "0      1      0         A/5 21171   7.2500     -        S  (20.315, 30.263]   \n",
       "1      1      0          PC 17599  71.2833     C        C   (30.263, 40.21]   \n",
       "2      0      0  STON/O2. 3101282   7.9250     -        S  (20.315, 30.263]   \n",
       "3      1      0            113803  53.1000     C        S   (30.263, 40.21]   \n",
       "4      0      0            373450   8.0500     -        S   (30.263, 40.21]   \n",
       "\n",
       "          Fare_group indexforslice  Fam  \n",
       "0   (-0.512, 51.233]         train    1  \n",
       "1  (51.233, 102.466]         train    1  \n",
       "2   (-0.512, 51.233]         train    0  \n",
       "3  (51.233, 102.466]         train    1  \n",
       "4   (-0.512, 51.233]         train    0  "
      ]
     },
     "execution_count": 75,
     "metadata": {},
     "output_type": "execute_result"
    }
   ],
   "source": [
    "all_df['Fam'] = all_df['SibSp'] + all_df['Parch']\n",
    "\n",
    "all_df.head()"
   ]
  },
  {
   "cell_type": "markdown",
   "id": "f3040ef5-24cd-4a8a-8bdb-82292d50121d",
   "metadata": {},
   "source": [
    "### drop sibsp, parch"
   ]
  },
  {
   "cell_type": "code",
   "execution_count": 76,
   "id": "ecb5bbb9-6fa8-4b67-ba19-7282f28fc123",
   "metadata": {},
   "outputs": [],
   "source": [
    "all_df = all_df.drop(['SibSp', 'Parch'], axis = 1)"
   ]
  },
  {
   "cell_type": "markdown",
   "id": "81f6e84c-dc5e-434a-b561-8f0a3cd2b578",
   "metadata": {},
   "source": [
    "### drop ticket"
   ]
  },
  {
   "cell_type": "code",
   "execution_count": 77,
   "id": "47bb1c75-1d88-4e4d-a734-5da72f1289c1",
   "metadata": {},
   "outputs": [],
   "source": [
    "all_df = all_df.drop(['Ticket'], axis = 1)"
   ]
  },
  {
   "cell_type": "markdown",
   "id": "df1fec50-b155-4b62-b2e9-c290a239cd83",
   "metadata": {},
   "source": [
    "### drop age group/fare group created earlier"
   ]
  },
  {
   "cell_type": "code",
   "execution_count": 78,
   "id": "ac2c7873-70c5-4791-982e-fcbbb84b5696",
   "metadata": {},
   "outputs": [],
   "source": [
    "all_df = all_df.drop(['Age_Group', 'Fare_group'], axis = 1)"
   ]
  },
  {
   "cell_type": "markdown",
   "id": "e7e37f81-d4e5-4915-8768-98fdb23006b4",
   "metadata": {},
   "source": [
    "### Change all cabin into letter only"
   ]
  },
  {
   "cell_type": "code",
   "execution_count": 79,
   "id": "f58db1a8-2e78-435f-9517-46bde62a0501",
   "metadata": {},
   "outputs": [
    {
     "data": {
      "text/html": [
       "<div>\n",
       "<style scoped>\n",
       "    .dataframe tbody tr th:only-of-type {\n",
       "        vertical-align: middle;\n",
       "    }\n",
       "\n",
       "    .dataframe tbody tr th {\n",
       "        vertical-align: top;\n",
       "    }\n",
       "\n",
       "    .dataframe thead th {\n",
       "        text-align: right;\n",
       "    }\n",
       "</style>\n",
       "<table border=\"1\" class=\"dataframe\">\n",
       "  <thead>\n",
       "    <tr style=\"text-align: right;\">\n",
       "      <th></th>\n",
       "      <th>Pclass</th>\n",
       "      <th>Name</th>\n",
       "      <th>Sex</th>\n",
       "      <th>Age</th>\n",
       "      <th>Fare</th>\n",
       "      <th>Cabin</th>\n",
       "      <th>Embarked</th>\n",
       "      <th>indexforslice</th>\n",
       "      <th>Fam</th>\n",
       "    </tr>\n",
       "  </thead>\n",
       "  <tbody>\n",
       "    <tr>\n",
       "      <th>413</th>\n",
       "      <td>3</td>\n",
       "      <td>Spector, Mr. Woolf</td>\n",
       "      <td>male</td>\n",
       "      <td>NaN</td>\n",
       "      <td>8.0500</td>\n",
       "      <td>-</td>\n",
       "      <td>S</td>\n",
       "      <td>test</td>\n",
       "      <td>0</td>\n",
       "    </tr>\n",
       "    <tr>\n",
       "      <th>414</th>\n",
       "      <td>1</td>\n",
       "      <td>Oliva y Ocana, Dona. Fermina</td>\n",
       "      <td>female</td>\n",
       "      <td>39.0</td>\n",
       "      <td>108.9000</td>\n",
       "      <td>C</td>\n",
       "      <td>C</td>\n",
       "      <td>test</td>\n",
       "      <td>0</td>\n",
       "    </tr>\n",
       "    <tr>\n",
       "      <th>415</th>\n",
       "      <td>3</td>\n",
       "      <td>Saether, Mr. Simon Sivertsen</td>\n",
       "      <td>male</td>\n",
       "      <td>38.5</td>\n",
       "      <td>7.2500</td>\n",
       "      <td>-</td>\n",
       "      <td>S</td>\n",
       "      <td>test</td>\n",
       "      <td>0</td>\n",
       "    </tr>\n",
       "    <tr>\n",
       "      <th>416</th>\n",
       "      <td>3</td>\n",
       "      <td>Ware, Mr. Frederick</td>\n",
       "      <td>male</td>\n",
       "      <td>NaN</td>\n",
       "      <td>8.0500</td>\n",
       "      <td>-</td>\n",
       "      <td>S</td>\n",
       "      <td>test</td>\n",
       "      <td>0</td>\n",
       "    </tr>\n",
       "    <tr>\n",
       "      <th>417</th>\n",
       "      <td>3</td>\n",
       "      <td>Peter, Master. Michael J</td>\n",
       "      <td>male</td>\n",
       "      <td>NaN</td>\n",
       "      <td>22.3583</td>\n",
       "      <td>-</td>\n",
       "      <td>C</td>\n",
       "      <td>test</td>\n",
       "      <td>2</td>\n",
       "    </tr>\n",
       "  </tbody>\n",
       "</table>\n",
       "</div>"
      ],
      "text/plain": [
       "     Pclass                          Name     Sex   Age      Fare Cabin  \\\n",
       "413       3            Spector, Mr. Woolf    male   NaN    8.0500     -   \n",
       "414       1  Oliva y Ocana, Dona. Fermina  female  39.0  108.9000     C   \n",
       "415       3  Saether, Mr. Simon Sivertsen    male  38.5    7.2500     -   \n",
       "416       3           Ware, Mr. Frederick    male   NaN    8.0500     -   \n",
       "417       3      Peter, Master. Michael J    male   NaN   22.3583     -   \n",
       "\n",
       "    Embarked indexforslice  Fam  \n",
       "413        S          test    0  \n",
       "414        C          test    0  \n",
       "415        S          test    0  \n",
       "416        S          test    0  \n",
       "417        C          test    2  "
      ]
     },
     "execution_count": 79,
     "metadata": {},
     "output_type": "execute_result"
    }
   ],
   "source": [
    "all_df['Cabin'] = all_df['Cabin'].str[0]\n",
    "\n",
    "all_df['Cabin'] = all_df['Cabin'].fillna('-')\n",
    "\n",
    "all_df.tail()"
   ]
  },
  {
   "cell_type": "markdown",
   "id": "c3978e9c-0d46-4ad8-9efa-832c315d80c6",
   "metadata": {},
   "source": [
    "Extrat title from name"
   ]
  },
  {
   "cell_type": "code",
   "execution_count": 80,
   "id": "5de38250-8d5c-4d3e-b4ff-731afff7e317",
   "metadata": {},
   "outputs": [
    {
     "data": {
      "text/html": [
       "<div>\n",
       "<style scoped>\n",
       "    .dataframe tbody tr th:only-of-type {\n",
       "        vertical-align: middle;\n",
       "    }\n",
       "\n",
       "    .dataframe tbody tr th {\n",
       "        vertical-align: top;\n",
       "    }\n",
       "\n",
       "    .dataframe thead th {\n",
       "        text-align: right;\n",
       "    }\n",
       "</style>\n",
       "<table border=\"1\" class=\"dataframe\">\n",
       "  <thead>\n",
       "    <tr style=\"text-align: right;\">\n",
       "      <th></th>\n",
       "      <th>Pclass</th>\n",
       "      <th>Name</th>\n",
       "      <th>Sex</th>\n",
       "      <th>Age</th>\n",
       "      <th>Fare</th>\n",
       "      <th>Cabin</th>\n",
       "      <th>Embarked</th>\n",
       "      <th>indexforslice</th>\n",
       "      <th>Fam</th>\n",
       "      <th>title</th>\n",
       "    </tr>\n",
       "  </thead>\n",
       "  <tbody>\n",
       "    <tr>\n",
       "      <th>0</th>\n",
       "      <td>3</td>\n",
       "      <td>Braund, Mr. Owen Harris</td>\n",
       "      <td>male</td>\n",
       "      <td>22.0</td>\n",
       "      <td>7.2500</td>\n",
       "      <td>-</td>\n",
       "      <td>S</td>\n",
       "      <td>train</td>\n",
       "      <td>1</td>\n",
       "      <td>Mr.</td>\n",
       "    </tr>\n",
       "    <tr>\n",
       "      <th>1</th>\n",
       "      <td>1</td>\n",
       "      <td>Cumings, Mrs. John Bradley (Florence Briggs Th...</td>\n",
       "      <td>female</td>\n",
       "      <td>38.0</td>\n",
       "      <td>71.2833</td>\n",
       "      <td>C</td>\n",
       "      <td>C</td>\n",
       "      <td>train</td>\n",
       "      <td>1</td>\n",
       "      <td>Mrs.</td>\n",
       "    </tr>\n",
       "    <tr>\n",
       "      <th>2</th>\n",
       "      <td>3</td>\n",
       "      <td>Heikkinen, Miss. Laina</td>\n",
       "      <td>female</td>\n",
       "      <td>26.0</td>\n",
       "      <td>7.9250</td>\n",
       "      <td>-</td>\n",
       "      <td>S</td>\n",
       "      <td>train</td>\n",
       "      <td>0</td>\n",
       "      <td>Miss.</td>\n",
       "    </tr>\n",
       "    <tr>\n",
       "      <th>3</th>\n",
       "      <td>1</td>\n",
       "      <td>Futrelle, Mrs. Jacques Heath (Lily May Peel)</td>\n",
       "      <td>female</td>\n",
       "      <td>35.0</td>\n",
       "      <td>53.1000</td>\n",
       "      <td>C</td>\n",
       "      <td>S</td>\n",
       "      <td>train</td>\n",
       "      <td>1</td>\n",
       "      <td>Mrs.</td>\n",
       "    </tr>\n",
       "    <tr>\n",
       "      <th>4</th>\n",
       "      <td>3</td>\n",
       "      <td>Allen, Mr. William Henry</td>\n",
       "      <td>male</td>\n",
       "      <td>35.0</td>\n",
       "      <td>8.0500</td>\n",
       "      <td>-</td>\n",
       "      <td>S</td>\n",
       "      <td>train</td>\n",
       "      <td>0</td>\n",
       "      <td>Mr.</td>\n",
       "    </tr>\n",
       "  </tbody>\n",
       "</table>\n",
       "</div>"
      ],
      "text/plain": [
       "   Pclass                                               Name     Sex   Age  \\\n",
       "0       3                            Braund, Mr. Owen Harris    male  22.0   \n",
       "1       1  Cumings, Mrs. John Bradley (Florence Briggs Th...  female  38.0   \n",
       "2       3                             Heikkinen, Miss. Laina  female  26.0   \n",
       "3       1       Futrelle, Mrs. Jacques Heath (Lily May Peel)  female  35.0   \n",
       "4       3                           Allen, Mr. William Henry    male  35.0   \n",
       "\n",
       "      Fare Cabin Embarked indexforslice  Fam  title  \n",
       "0   7.2500     -        S         train    1    Mr.  \n",
       "1  71.2833     C        C         train    1   Mrs.  \n",
       "2   7.9250     -        S         train    0  Miss.  \n",
       "3  53.1000     C        S         train    1   Mrs.  \n",
       "4   8.0500     -        S         train    0    Mr.  "
      ]
     },
     "execution_count": 80,
     "metadata": {},
     "output_type": "execute_result"
    }
   ],
   "source": [
    "all_df['title'] = all_df['Name'].str.split().str[1]\n",
    "\n",
    "all_df.head()"
   ]
  },
  {
   "cell_type": "code",
   "execution_count": 81,
   "id": "5bf0b935-27c2-4229-ae08-cf49aee01a14",
   "metadata": {},
   "outputs": [
    {
     "data": {
      "text/plain": [
       "array(['Mr.', 'Mrs.', 'Miss.', 'Master.', 'Planke,', 'Don.', 'Rev.',\n",
       "       'Billiard,', 'der', 'Walle,', 'Dr.', 'Pelsmaeker,', 'Mulder,', 'y',\n",
       "       'Steen,', 'Carlo,', 'Mme.', 'Impe,', 'Ms.', 'Major.', 'Gordon,',\n",
       "       'Messemaeker,', 'Mlle.', 'Col.', 'Capt.', 'Velde,', 'the',\n",
       "       'Shawah,', 'Jonkheer.', 'Melkebeke,', 'Cruyssen,', 'Khalil,',\n",
       "       'Palmquist,', 'Brito,'], dtype=object)"
      ]
     },
     "execution_count": 81,
     "metadata": {},
     "output_type": "execute_result"
    }
   ],
   "source": [
    "all_df['title'].unique()"
   ]
  },
  {
   "cell_type": "code",
   "execution_count": 82,
   "id": "7b25d09a-519c-4b44-84b7-6a127b010eae",
   "metadata": {},
   "outputs": [
    {
     "data": {
      "text/plain": [
       "array(['Mr.', 'Mrs.', 'Miss.', 'Master.', 'others', 'Rev.', 'Dr.'],\n",
       "      dtype=object)"
      ]
     },
     "execution_count": 82,
     "metadata": {},
     "output_type": "execute_result"
    }
   ],
   "source": [
    "title_list = ['Mr.', 'Miss.', 'Mrs.', 'Master.', 'Dr.', 'Rev.']\n",
    "\n",
    "all_df['title'] = all_df['title'].apply(lambda x: 'others' if x not in title_list else x)\n",
    "\n",
    "all_df['title'].unique()"
   ]
  },
  {
   "cell_type": "code",
   "execution_count": 83,
   "id": "03435241-1ceb-48b1-b5de-29d0954201ba",
   "metadata": {},
   "outputs": [],
   "source": [
    "#drop Name col\n",
    "all_df = all_df.drop(['Name'], axis = 1)"
   ]
  },
  {
   "cell_type": "code",
   "execution_count": null,
   "id": "72c0c992-072f-49fc-bfe1-c2c8475d0f89",
   "metadata": {},
   "outputs": [],
   "source": []
  },
  {
   "cell_type": "markdown",
   "id": "ac77c7cf-dfc5-45b0-b589-4e3a8066f728",
   "metadata": {},
   "source": [
    "## Null \n",
    "* Age, Fare, Embarked, Cabin  "
   ]
  },
  {
   "cell_type": "markdown",
   "id": "b5e60094-956f-4068-8326-8303181bb223",
   "metadata": {},
   "source": [
    "### replace null in Age by mode value \n",
    "* since drop the data will cause huge loss of data"
   ]
  },
  {
   "cell_type": "code",
   "execution_count": 84,
   "id": "92a07aa8-90d2-4bfa-9cb2-4279b388412d",
   "metadata": {},
   "outputs": [
    {
     "data": {
      "text/plain": [
       "263"
      ]
     },
     "execution_count": 84,
     "metadata": {},
     "output_type": "execute_result"
    }
   ],
   "source": [
    "all_df['Age'].isnull().sum()"
   ]
  },
  {
   "cell_type": "code",
   "execution_count": 85,
   "id": "a08afaa6-4a0e-48b4-baa3-30540ba837e3",
   "metadata": {},
   "outputs": [
    {
     "data": {
      "text/plain": [
       "array([22.  , 38.  , 26.  , 35.  ,   nan, 54.  ,  2.  , 27.  , 14.  ,\n",
       "        4.  , 58.  , 20.  , 39.  , 55.  , 31.  , 34.  , 15.  , 28.  ,\n",
       "        8.  , 19.  , 40.  , 66.  , 42.  , 21.  , 18.  ,  3.  ,  7.  ,\n",
       "       49.  , 29.  , 65.  , 28.5 ,  5.  , 11.  , 45.  , 17.  , 32.  ,\n",
       "       16.  , 25.  ,  0.83, 30.  , 33.  , 23.  , 24.  , 46.  , 59.  ,\n",
       "       71.  , 37.  , 47.  , 14.5 , 70.5 , 32.5 , 12.  ,  9.  , 36.5 ,\n",
       "       51.  , 55.5 , 40.5 , 44.  ,  1.  , 61.  , 56.  , 50.  , 36.  ,\n",
       "       45.5 , 20.5 , 62.  , 41.  , 52.  , 63.  , 23.5 ,  0.92, 43.  ,\n",
       "       60.  , 10.  , 64.  , 13.  , 48.  ,  0.75, 53.  , 57.  , 80.  ,\n",
       "       70.  , 24.5 ,  6.  ,  0.67, 30.5 ,  0.42, 34.5 , 74.  , 22.5 ,\n",
       "       18.5 , 67.  , 76.  , 26.5 , 60.5 , 11.5 ,  0.33,  0.17, 38.5 ])"
      ]
     },
     "execution_count": 85,
     "metadata": {},
     "output_type": "execute_result"
    }
   ],
   "source": [
    "all_df['Age'].unique()"
   ]
  },
  {
   "cell_type": "code",
   "execution_count": 86,
   "id": "f043dfff-f33d-415b-a75a-770f46bf4833",
   "metadata": {},
   "outputs": [
    {
     "data": {
      "text/html": [
       "<div>\n",
       "<style scoped>\n",
       "    .dataframe tbody tr th:only-of-type {\n",
       "        vertical-align: middle;\n",
       "    }\n",
       "\n",
       "    .dataframe tbody tr th {\n",
       "        vertical-align: top;\n",
       "    }\n",
       "\n",
       "    .dataframe thead th {\n",
       "        text-align: right;\n",
       "    }\n",
       "</style>\n",
       "<table border=\"1\" class=\"dataframe\">\n",
       "  <thead>\n",
       "    <tr style=\"text-align: right;\">\n",
       "      <th></th>\n",
       "      <th>Pclass</th>\n",
       "      <th>Sex</th>\n",
       "      <th>Age</th>\n",
       "      <th>Fare</th>\n",
       "      <th>Cabin</th>\n",
       "      <th>Embarked</th>\n",
       "      <th>indexforslice</th>\n",
       "      <th>Fam</th>\n",
       "      <th>title</th>\n",
       "    </tr>\n",
       "  </thead>\n",
       "  <tbody>\n",
       "    <tr>\n",
       "      <th>0</th>\n",
       "      <td>3</td>\n",
       "      <td>male</td>\n",
       "      <td>22.0</td>\n",
       "      <td>7.2500</td>\n",
       "      <td>-</td>\n",
       "      <td>S</td>\n",
       "      <td>train</td>\n",
       "      <td>1</td>\n",
       "      <td>Mr.</td>\n",
       "    </tr>\n",
       "    <tr>\n",
       "      <th>1</th>\n",
       "      <td>1</td>\n",
       "      <td>female</td>\n",
       "      <td>38.0</td>\n",
       "      <td>71.2833</td>\n",
       "      <td>C</td>\n",
       "      <td>C</td>\n",
       "      <td>train</td>\n",
       "      <td>1</td>\n",
       "      <td>Mrs.</td>\n",
       "    </tr>\n",
       "    <tr>\n",
       "      <th>2</th>\n",
       "      <td>3</td>\n",
       "      <td>female</td>\n",
       "      <td>26.0</td>\n",
       "      <td>7.9250</td>\n",
       "      <td>-</td>\n",
       "      <td>S</td>\n",
       "      <td>train</td>\n",
       "      <td>0</td>\n",
       "      <td>Miss.</td>\n",
       "    </tr>\n",
       "    <tr>\n",
       "      <th>3</th>\n",
       "      <td>1</td>\n",
       "      <td>female</td>\n",
       "      <td>35.0</td>\n",
       "      <td>53.1000</td>\n",
       "      <td>C</td>\n",
       "      <td>S</td>\n",
       "      <td>train</td>\n",
       "      <td>1</td>\n",
       "      <td>Mrs.</td>\n",
       "    </tr>\n",
       "    <tr>\n",
       "      <th>4</th>\n",
       "      <td>3</td>\n",
       "      <td>male</td>\n",
       "      <td>35.0</td>\n",
       "      <td>8.0500</td>\n",
       "      <td>-</td>\n",
       "      <td>S</td>\n",
       "      <td>train</td>\n",
       "      <td>0</td>\n",
       "      <td>Mr.</td>\n",
       "    </tr>\n",
       "    <tr>\n",
       "      <th>...</th>\n",
       "      <td>...</td>\n",
       "      <td>...</td>\n",
       "      <td>...</td>\n",
       "      <td>...</td>\n",
       "      <td>...</td>\n",
       "      <td>...</td>\n",
       "      <td>...</td>\n",
       "      <td>...</td>\n",
       "      <td>...</td>\n",
       "    </tr>\n",
       "    <tr>\n",
       "      <th>409</th>\n",
       "      <td>3</td>\n",
       "      <td>female</td>\n",
       "      <td>3.0</td>\n",
       "      <td>13.7750</td>\n",
       "      <td>-</td>\n",
       "      <td>S</td>\n",
       "      <td>test</td>\n",
       "      <td>2</td>\n",
       "      <td>Miss.</td>\n",
       "    </tr>\n",
       "    <tr>\n",
       "      <th>411</th>\n",
       "      <td>1</td>\n",
       "      <td>female</td>\n",
       "      <td>37.0</td>\n",
       "      <td>90.0000</td>\n",
       "      <td>C</td>\n",
       "      <td>Q</td>\n",
       "      <td>test</td>\n",
       "      <td>1</td>\n",
       "      <td>Mrs.</td>\n",
       "    </tr>\n",
       "    <tr>\n",
       "      <th>412</th>\n",
       "      <td>3</td>\n",
       "      <td>female</td>\n",
       "      <td>28.0</td>\n",
       "      <td>7.7750</td>\n",
       "      <td>-</td>\n",
       "      <td>S</td>\n",
       "      <td>test</td>\n",
       "      <td>0</td>\n",
       "      <td>Miss.</td>\n",
       "    </tr>\n",
       "    <tr>\n",
       "      <th>414</th>\n",
       "      <td>1</td>\n",
       "      <td>female</td>\n",
       "      <td>39.0</td>\n",
       "      <td>108.9000</td>\n",
       "      <td>C</td>\n",
       "      <td>C</td>\n",
       "      <td>test</td>\n",
       "      <td>0</td>\n",
       "      <td>others</td>\n",
       "    </tr>\n",
       "    <tr>\n",
       "      <th>415</th>\n",
       "      <td>3</td>\n",
       "      <td>male</td>\n",
       "      <td>38.5</td>\n",
       "      <td>7.2500</td>\n",
       "      <td>-</td>\n",
       "      <td>S</td>\n",
       "      <td>test</td>\n",
       "      <td>0</td>\n",
       "      <td>Mr.</td>\n",
       "    </tr>\n",
       "  </tbody>\n",
       "</table>\n",
       "<p>1046 rows × 9 columns</p>\n",
       "</div>"
      ],
      "text/plain": [
       "     Pclass     Sex   Age      Fare Cabin Embarked indexforslice  Fam   title\n",
       "0         3    male  22.0    7.2500     -        S         train    1     Mr.\n",
       "1         1  female  38.0   71.2833     C        C         train    1    Mrs.\n",
       "2         3  female  26.0    7.9250     -        S         train    0   Miss.\n",
       "3         1  female  35.0   53.1000     C        S         train    1    Mrs.\n",
       "4         3    male  35.0    8.0500     -        S         train    0     Mr.\n",
       "..      ...     ...   ...       ...   ...      ...           ...  ...     ...\n",
       "409       3  female   3.0   13.7750     -        S          test    2   Miss.\n",
       "411       1  female  37.0   90.0000     C        Q          test    1    Mrs.\n",
       "412       3  female  28.0    7.7750     -        S          test    0   Miss.\n",
       "414       1  female  39.0  108.9000     C        C          test    0  others\n",
       "415       3    male  38.5    7.2500     -        S          test    0     Mr.\n",
       "\n",
       "[1046 rows x 9 columns]"
      ]
     },
     "execution_count": 86,
     "metadata": {},
     "output_type": "execute_result"
    }
   ],
   "source": [
    "import statistics\n",
    "#filter out null before calculating mode\n",
    "not_null = all_df[all_df['Age'].notnull()]\n",
    "not_null"
   ]
  },
  {
   "cell_type": "code",
   "execution_count": 87,
   "id": "64bb9be9-b86b-4808-b967-f8eeb2a41f0d",
   "metadata": {},
   "outputs": [
    {
     "data": {
      "text/plain": [
       "0    24.0\n",
       "Name: Age, dtype: float64"
      ]
     },
     "execution_count": 87,
     "metadata": {},
     "output_type": "execute_result"
    }
   ],
   "source": [
    "not_null['Age'].mode()"
   ]
  },
  {
   "cell_type": "code",
   "execution_count": 88,
   "id": "60975971-43fa-4e4e-b6e5-b3041ea9ac55",
   "metadata": {},
   "outputs": [],
   "source": [
    "#mode_age = not_null['Age'].mode()"
   ]
  },
  {
   "cell_type": "code",
   "execution_count": 89,
   "id": "3e2195cb-e50f-4be3-85fe-d3dae5bd65f1",
   "metadata": {},
   "outputs": [],
   "source": [
    "#mode_age.dtype"
   ]
  },
  {
   "cell_type": "code",
   "execution_count": 90,
   "id": "c468a777-bd1c-4438-bd50-8f88add92617",
   "metadata": {},
   "outputs": [],
   "source": [
    "#all_df['Age'].fillna(mode_age).isnull().sum()"
   ]
  },
  {
   "cell_type": "code",
   "execution_count": 91,
   "id": "de7ce925-4a53-4b19-a97c-5f70c69ef30c",
   "metadata": {},
   "outputs": [],
   "source": [
    "#all_df['Age'].fillna(24.0).isnull().sum()"
   ]
  },
  {
   "cell_type": "code",
   "execution_count": 92,
   "id": "8e3bddbe-e136-4376-95e4-8696ed877694",
   "metadata": {},
   "outputs": [],
   "source": [
    "all_df['Age'] = all_df['Age'].fillna(24.0)"
   ]
  },
  {
   "cell_type": "code",
   "execution_count": 93,
   "id": "b9da3f45-6c47-4cd3-8f05-aa5f879316f6",
   "metadata": {},
   "outputs": [
    {
     "data": {
      "text/plain": [
       "0"
      ]
     },
     "execution_count": 93,
     "metadata": {},
     "output_type": "execute_result"
    }
   ],
   "source": [
    "all_df['Age'].isnull().sum()"
   ]
  },
  {
   "cell_type": "markdown",
   "id": "5cf3611e-2e7a-4ac1-9944-31f430bbdcbc",
   "metadata": {},
   "source": [
    "### replace null in Fare by mean"
   ]
  },
  {
   "cell_type": "code",
   "execution_count": 94,
   "id": "50f88ae8-af75-424a-8ad0-6c53ff99946f",
   "metadata": {},
   "outputs": [
    {
     "data": {
      "text/plain": [
       "1"
      ]
     },
     "execution_count": 94,
     "metadata": {},
     "output_type": "execute_result"
    }
   ],
   "source": [
    "all_df['Fare'].isnull().sum()"
   ]
  },
  {
   "cell_type": "code",
   "execution_count": 95,
   "id": "efeed741-5f6f-436c-b148-59aedee24511",
   "metadata": {},
   "outputs": [],
   "source": [
    "# only one null, replace by mean\n",
    "\n",
    "not_null = all_df.loc[all_df['Fare'].notnull(), 'Fare']\n",
    "\n",
    "mean = not_null.mean()\n",
    "\n",
    "all_df['Fare'] = all_df['Fare'].fillna(mean)"
   ]
  },
  {
   "cell_type": "code",
   "execution_count": 96,
   "id": "f29fe87b-248c-4296-9d65-74bb22fa0c3a",
   "metadata": {},
   "outputs": [
    {
     "data": {
      "text/plain": [
       "0        7.2500\n",
       "1       71.2833\n",
       "2        7.9250\n",
       "3       53.1000\n",
       "4        8.0500\n",
       "         ...   \n",
       "413      8.0500\n",
       "414    108.9000\n",
       "415      7.2500\n",
       "416      8.0500\n",
       "417     22.3583\n",
       "Name: Fare, Length: 1308, dtype: float64"
      ]
     },
     "execution_count": 96,
     "metadata": {},
     "output_type": "execute_result"
    }
   ],
   "source": [
    "not_null"
   ]
  },
  {
   "cell_type": "code",
   "execution_count": 97,
   "id": "c8d2c51f-2b8f-41c8-9b7d-0cd8a03a3d2d",
   "metadata": {},
   "outputs": [
    {
     "data": {
      "text/plain": [
       "0"
      ]
     },
     "execution_count": 97,
     "metadata": {},
     "output_type": "execute_result"
    }
   ],
   "source": [
    "all_df['Fare'].isnull().sum()"
   ]
  },
  {
   "cell_type": "markdown",
   "id": "699869f2-b560-454a-8ee9-2eb70d13312c",
   "metadata": {},
   "source": [
    "### replace null in Embarked based on pclass"
   ]
  },
  {
   "cell_type": "code",
   "execution_count": 98,
   "id": "ab274207-4e89-46b8-a5ee-c00055e3fdcd",
   "metadata": {},
   "outputs": [
    {
     "data": {
      "text/plain": [
       "2"
      ]
     },
     "execution_count": 98,
     "metadata": {},
     "output_type": "execute_result"
    }
   ],
   "source": [
    "all_df['Embarked'].isnull().sum()"
   ]
  },
  {
   "cell_type": "code",
   "execution_count": 99,
   "id": "db5f8afa-56db-4707-8668-ffb6f4fbab77",
   "metadata": {},
   "outputs": [
    {
     "data": {
      "text/html": [
       "<div>\n",
       "<style scoped>\n",
       "    .dataframe tbody tr th:only-of-type {\n",
       "        vertical-align: middle;\n",
       "    }\n",
       "\n",
       "    .dataframe tbody tr th {\n",
       "        vertical-align: top;\n",
       "    }\n",
       "\n",
       "    .dataframe thead th {\n",
       "        text-align: right;\n",
       "    }\n",
       "</style>\n",
       "<table border=\"1\" class=\"dataframe\">\n",
       "  <thead>\n",
       "    <tr style=\"text-align: right;\">\n",
       "      <th></th>\n",
       "      <th>Pclass</th>\n",
       "      <th>Sex</th>\n",
       "      <th>Age</th>\n",
       "      <th>Fare</th>\n",
       "      <th>Cabin</th>\n",
       "      <th>Embarked</th>\n",
       "      <th>indexforslice</th>\n",
       "      <th>Fam</th>\n",
       "      <th>title</th>\n",
       "    </tr>\n",
       "  </thead>\n",
       "  <tbody>\n",
       "    <tr>\n",
       "      <th>61</th>\n",
       "      <td>1</td>\n",
       "      <td>female</td>\n",
       "      <td>38.0</td>\n",
       "      <td>80.0</td>\n",
       "      <td>B</td>\n",
       "      <td>NaN</td>\n",
       "      <td>train</td>\n",
       "      <td>0</td>\n",
       "      <td>Miss.</td>\n",
       "    </tr>\n",
       "    <tr>\n",
       "      <th>829</th>\n",
       "      <td>1</td>\n",
       "      <td>female</td>\n",
       "      <td>62.0</td>\n",
       "      <td>80.0</td>\n",
       "      <td>B</td>\n",
       "      <td>NaN</td>\n",
       "      <td>train</td>\n",
       "      <td>0</td>\n",
       "      <td>Mrs.</td>\n",
       "    </tr>\n",
       "  </tbody>\n",
       "</table>\n",
       "</div>"
      ],
      "text/plain": [
       "     Pclass     Sex   Age  Fare Cabin Embarked indexforslice  Fam  title\n",
       "61        1  female  38.0  80.0     B      NaN         train    0  Miss.\n",
       "829       1  female  62.0  80.0     B      NaN         train    0   Mrs."
      ]
     },
     "execution_count": 99,
     "metadata": {},
     "output_type": "execute_result"
    }
   ],
   "source": [
    "# check the nulls\n",
    "all_df[all_df['Embarked'].isnull()]"
   ]
  },
  {
   "cell_type": "code",
   "execution_count": 100,
   "id": "d22366a7-c7bc-4231-8b99-785624bca714",
   "metadata": {},
   "outputs": [
    {
     "data": {
      "text/plain": [
       "0"
      ]
     },
     "execution_count": 100,
     "metadata": {},
     "output_type": "execute_result"
    }
   ],
   "source": [
    "# the most common Embarked from P1 is Southampton (check Embarked section under feature of survival chance), in here manually fill them\n",
    "all_df['Embarked'] = all_df['Embarked'].fillna('S')\n",
    "\n",
    "all_df['Embarked'].isnull().sum()"
   ]
  },
  {
   "cell_type": "markdown",
   "id": "b4171bc0-0c70-4c34-a456-e587aecc2311",
   "metadata": {},
   "source": [
    "### replace null in cabin by the most common cabin category\n"
   ]
  },
  {
   "cell_type": "code",
   "execution_count": 101,
   "id": "5dff0b94-2964-49ce-b9c5-8e9f76625e52",
   "metadata": {},
   "outputs": [
    {
     "data": {
      "text/plain": [
       "0"
      ]
     },
     "execution_count": 101,
     "metadata": {},
     "output_type": "execute_result"
    }
   ],
   "source": [
    "# before this, we already replace null by '-', 0 is within our expectation\n",
    "all_df['Cabin'].isnull().sum()"
   ]
  },
  {
   "cell_type": "code",
   "execution_count": 102,
   "id": "1732e013-b350-4486-b6fe-63e5d3e3e99e",
   "metadata": {},
   "outputs": [
    {
     "name": "stdout",
     "output_type": "stream",
     "text": [
      "<class 'pandas.core.frame.DataFrame'>\n",
      "Int64Index: 1309 entries, 0 to 417\n",
      "Data columns (total 9 columns):\n",
      " #   Column         Non-Null Count  Dtype  \n",
      "---  ------         --------------  -----  \n",
      " 0   Pclass         1309 non-null   int64  \n",
      " 1   Sex            1309 non-null   object \n",
      " 2   Age            1309 non-null   float64\n",
      " 3   Fare           1309 non-null   float64\n",
      " 4   Cabin          1309 non-null   object \n",
      " 5   Embarked       1309 non-null   object \n",
      " 6   indexforslice  1309 non-null   object \n",
      " 7   Fam            1309 non-null   int64  \n",
      " 8   title          1309 non-null   object \n",
      "dtypes: float64(2), int64(2), object(5)\n",
      "memory usage: 102.3+ KB\n"
     ]
    }
   ],
   "source": [
    "all_df.info()"
   ]
  },
  {
   "cell_type": "markdown",
   "id": "1c419596-00de-43b7-ae95-9a70ed371475",
   "metadata": {},
   "source": [
    "# Turn each feature into numeric for ML"
   ]
  },
  {
   "cell_type": "markdown",
   "id": "79a24bae-b496-4f80-911e-e800c9c2bdbe",
   "metadata": {},
   "source": [
    "## Splice the train and test df from all_df"
   ]
  },
  {
   "cell_type": "code",
   "execution_count": 103,
   "id": "9d302f1c-b455-43de-ba05-78e38941d9a9",
   "metadata": {},
   "outputs": [
    {
     "name": "stdout",
     "output_type": "stream",
     "text": [
      "<class 'pandas.core.frame.DataFrame'>\n",
      "Int64Index: 891 entries, 0 to 890\n",
      "Data columns (total 9 columns):\n",
      " #   Column         Non-Null Count  Dtype  \n",
      "---  ------         --------------  -----  \n",
      " 0   Pclass         891 non-null    int64  \n",
      " 1   Sex            891 non-null    object \n",
      " 2   Age            891 non-null    float64\n",
      " 3   Fare           891 non-null    float64\n",
      " 4   Cabin          891 non-null    object \n",
      " 5   Embarked       891 non-null    object \n",
      " 6   indexforslice  891 non-null    object \n",
      " 7   Fam            891 non-null    int64  \n",
      " 8   title          891 non-null    object \n",
      "dtypes: float64(2), int64(2), object(5)\n",
      "memory usage: 69.6+ KB\n"
     ]
    }
   ],
   "source": [
    "train_ML = all_df[all_df['indexforslice'] == 'train'] \n",
    "\n",
    "train_ML.info()"
   ]
  },
  {
   "cell_type": "code",
   "execution_count": 104,
   "id": "922a108c-0992-4356-a982-0fde5152f989",
   "metadata": {},
   "outputs": [],
   "source": [
    "# drop 'indexforslice'\n",
    "train_ML = train_ML.drop(['indexforslice'], axis = 1)"
   ]
  },
  {
   "cell_type": "code",
   "execution_count": 105,
   "id": "0e757550-49ec-4bc8-adf0-d56e284caff7",
   "metadata": {},
   "outputs": [
    {
     "name": "stdout",
     "output_type": "stream",
     "text": [
      "<class 'pandas.core.frame.DataFrame'>\n",
      "Int64Index: 418 entries, 0 to 417\n",
      "Data columns (total 9 columns):\n",
      " #   Column         Non-Null Count  Dtype  \n",
      "---  ------         --------------  -----  \n",
      " 0   Pclass         418 non-null    int64  \n",
      " 1   Sex            418 non-null    object \n",
      " 2   Age            418 non-null    float64\n",
      " 3   Fare           418 non-null    float64\n",
      " 4   Cabin          418 non-null    object \n",
      " 5   Embarked       418 non-null    object \n",
      " 6   indexforslice  418 non-null    object \n",
      " 7   Fam            418 non-null    int64  \n",
      " 8   title          418 non-null    object \n",
      "dtypes: float64(2), int64(2), object(5)\n",
      "memory usage: 32.7+ KB\n"
     ]
    }
   ],
   "source": [
    "test_ML = all_df[all_df['indexforslice'] == 'test'] \n",
    "\n",
    "test_ML.info()"
   ]
  },
  {
   "cell_type": "code",
   "execution_count": 106,
   "id": "f61c0859-380e-4780-86f8-33b766f3bbd4",
   "metadata": {},
   "outputs": [],
   "source": [
    "# drop 'indexforslice'\n",
    "test_ML = test_ML.drop(['indexforslice'], axis = 1)"
   ]
  },
  {
   "cell_type": "markdown",
   "id": "b938dc7d-8e6b-4ba8-8c99-4d4d2be834c8",
   "metadata": {},
   "source": [
    "## Change each categorical feature into number"
   ]
  },
  {
   "cell_type": "markdown",
   "id": "ac4b8ed1-adef-4d2d-91a4-6784796bf0b7",
   "metadata": {},
   "source": [
    "### Pclass"
   ]
  },
  {
   "cell_type": "code",
   "execution_count": 107,
   "id": "7f03e1c1-f9d7-4a73-90c4-ee7da29ea5f3",
   "metadata": {},
   "outputs": [
    {
     "data": {
      "text/html": [
       "<div>\n",
       "<style scoped>\n",
       "    .dataframe tbody tr th:only-of-type {\n",
       "        vertical-align: middle;\n",
       "    }\n",
       "\n",
       "    .dataframe tbody tr th {\n",
       "        vertical-align: top;\n",
       "    }\n",
       "\n",
       "    .dataframe thead th {\n",
       "        text-align: right;\n",
       "    }\n",
       "</style>\n",
       "<table border=\"1\" class=\"dataframe\">\n",
       "  <thead>\n",
       "    <tr style=\"text-align: right;\">\n",
       "      <th></th>\n",
       "      <th>Pclass</th>\n",
       "      <th>Sex</th>\n",
       "      <th>Age</th>\n",
       "      <th>Fare</th>\n",
       "      <th>Cabin</th>\n",
       "      <th>Embarked</th>\n",
       "      <th>Fam</th>\n",
       "      <th>title</th>\n",
       "    </tr>\n",
       "  </thead>\n",
       "  <tbody>\n",
       "    <tr>\n",
       "      <th>0</th>\n",
       "      <td>3</td>\n",
       "      <td>male</td>\n",
       "      <td>22.0</td>\n",
       "      <td>7.2500</td>\n",
       "      <td>-</td>\n",
       "      <td>S</td>\n",
       "      <td>1</td>\n",
       "      <td>Mr.</td>\n",
       "    </tr>\n",
       "    <tr>\n",
       "      <th>1</th>\n",
       "      <td>1</td>\n",
       "      <td>female</td>\n",
       "      <td>38.0</td>\n",
       "      <td>71.2833</td>\n",
       "      <td>C</td>\n",
       "      <td>C</td>\n",
       "      <td>1</td>\n",
       "      <td>Mrs.</td>\n",
       "    </tr>\n",
       "  </tbody>\n",
       "</table>\n",
       "</div>"
      ],
      "text/plain": [
       "   Pclass     Sex   Age     Fare Cabin Embarked  Fam title\n",
       "0       3    male  22.0   7.2500     -        S    1   Mr.\n",
       "1       1  female  38.0  71.2833     C        C    1  Mrs."
      ]
     },
     "execution_count": 107,
     "metadata": {},
     "output_type": "execute_result"
    }
   ],
   "source": [
    "# take a look of the df, and deal with train_ML and test_ML\n",
    "train_ML.head(2)"
   ]
  },
  {
   "cell_type": "markdown",
   "id": "7a9de8d8-611a-44ad-a267-a6cc2852deee",
   "metadata": {},
   "source": [
    "It's numerical in pclass, there's no need to convert them into number"
   ]
  },
  {
   "cell_type": "markdown",
   "id": "f7873194-3e07-4245-a4e0-9e5c06adfee1",
   "metadata": {},
   "source": [
    "### Sex"
   ]
  },
  {
   "cell_type": "code",
   "execution_count": 108,
   "id": "0c6659b6-b312-4d64-af94-02c20f005758",
   "metadata": {},
   "outputs": [
    {
     "data": {
      "text/plain": [
       "0    0\n",
       "1    1\n",
       "Name: Sex, dtype: int64"
      ]
     },
     "execution_count": 108,
     "metadata": {},
     "output_type": "execute_result"
    }
   ],
   "source": [
    "sex = {'male':0, 'female':1}\n",
    "\n",
    "train_ML['Sex'] = train_ML['Sex'].map(sex)\n",
    "\n",
    "test_ML['Sex'] = test_ML['Sex'].map(sex)\n",
    "\n",
    "train_ML['Sex'].head(2)"
   ]
  },
  {
   "cell_type": "markdown",
   "id": "a50f5d62-a41a-4164-9a62-10fd3848d292",
   "metadata": {},
   "source": [
    "### Age"
   ]
  },
  {
   "cell_type": "code",
   "execution_count": 109,
   "id": "b5544ef2-1f5e-4e24-b969-8d6648449b96",
   "metadata": {},
   "outputs": [
    {
     "data": {
      "text/plain": [
       "dtype('float64')"
      ]
     },
     "execution_count": 109,
     "metadata": {},
     "output_type": "execute_result"
    }
   ],
   "source": [
    "train_ML['Age'].dtype"
   ]
  },
  {
   "cell_type": "code",
   "execution_count": 110,
   "id": "8dffa323-f979-4805-8c64-e28d76255a80",
   "metadata": {},
   "outputs": [],
   "source": [
    "# convert into int\n",
    "train_ML['Age'] = train_ML['Age'].astype(int)\n",
    "\n",
    "test_ML['Age'] = test_ML['Age'].astype(int)"
   ]
  },
  {
   "cell_type": "code",
   "execution_count": 111,
   "id": "fa6b6054-fe98-4d60-b1e4-e779a5d640ea",
   "metadata": {},
   "outputs": [],
   "source": [
    "# Group 'Age' column into 10 groups\n",
    "age = ['0', '1', '2', '3', '4', '5', '6', '7']\n",
    "\n",
    "train_ML['Age_Group'] = pd.cut(train_ML['Age'], bins = 8, labels = age)\n",
    "\n",
    "test_ML['Age_Group'] = pd.cut(test_ML['Age'], bins = 8, labels = age)"
   ]
  },
  {
   "cell_type": "code",
   "execution_count": 112,
   "id": "1ce9708e-1b18-46bc-a8e2-6d6f6767c284",
   "metadata": {},
   "outputs": [
    {
     "data": {
      "text/plain": [
       "['2', '3', '5', '0', '1', '6', '4', '7']\n",
       "Categories (8, object): ['0' < '1' < '2' < '3' < '4' < '5' < '6' < '7']"
      ]
     },
     "execution_count": 112,
     "metadata": {},
     "output_type": "execute_result"
    }
   ],
   "source": [
    "train_ML['Age_Group'].unique()"
   ]
  },
  {
   "cell_type": "code",
   "execution_count": 113,
   "id": "069cea68-f2bb-4252-837d-5310019de9c6",
   "metadata": {},
   "outputs": [
    {
     "data": {
      "text/html": [
       "<div>\n",
       "<style scoped>\n",
       "    .dataframe tbody tr th:only-of-type {\n",
       "        vertical-align: middle;\n",
       "    }\n",
       "\n",
       "    .dataframe tbody tr th {\n",
       "        vertical-align: top;\n",
       "    }\n",
       "\n",
       "    .dataframe thead th {\n",
       "        text-align: right;\n",
       "    }\n",
       "</style>\n",
       "<table border=\"1\" class=\"dataframe\">\n",
       "  <thead>\n",
       "    <tr style=\"text-align: right;\">\n",
       "      <th></th>\n",
       "      <th>Pclass</th>\n",
       "      <th>Sex</th>\n",
       "      <th>Age</th>\n",
       "      <th>Fare</th>\n",
       "      <th>Cabin</th>\n",
       "      <th>Embarked</th>\n",
       "      <th>Fam</th>\n",
       "      <th>title</th>\n",
       "      <th>Age_Group</th>\n",
       "    </tr>\n",
       "  </thead>\n",
       "  <tbody>\n",
       "    <tr>\n",
       "      <th>0</th>\n",
       "      <td>3</td>\n",
       "      <td>0</td>\n",
       "      <td>22</td>\n",
       "      <td>7.2500</td>\n",
       "      <td>-</td>\n",
       "      <td>S</td>\n",
       "      <td>1</td>\n",
       "      <td>Mr.</td>\n",
       "      <td>2</td>\n",
       "    </tr>\n",
       "    <tr>\n",
       "      <th>1</th>\n",
       "      <td>1</td>\n",
       "      <td>1</td>\n",
       "      <td>38</td>\n",
       "      <td>71.2833</td>\n",
       "      <td>C</td>\n",
       "      <td>C</td>\n",
       "      <td>1</td>\n",
       "      <td>Mrs.</td>\n",
       "      <td>3</td>\n",
       "    </tr>\n",
       "    <tr>\n",
       "      <th>2</th>\n",
       "      <td>3</td>\n",
       "      <td>1</td>\n",
       "      <td>26</td>\n",
       "      <td>7.9250</td>\n",
       "      <td>-</td>\n",
       "      <td>S</td>\n",
       "      <td>0</td>\n",
       "      <td>Miss.</td>\n",
       "      <td>2</td>\n",
       "    </tr>\n",
       "    <tr>\n",
       "      <th>3</th>\n",
       "      <td>1</td>\n",
       "      <td>1</td>\n",
       "      <td>35</td>\n",
       "      <td>53.1000</td>\n",
       "      <td>C</td>\n",
       "      <td>S</td>\n",
       "      <td>1</td>\n",
       "      <td>Mrs.</td>\n",
       "      <td>3</td>\n",
       "    </tr>\n",
       "    <tr>\n",
       "      <th>4</th>\n",
       "      <td>3</td>\n",
       "      <td>0</td>\n",
       "      <td>35</td>\n",
       "      <td>8.0500</td>\n",
       "      <td>-</td>\n",
       "      <td>S</td>\n",
       "      <td>0</td>\n",
       "      <td>Mr.</td>\n",
       "      <td>3</td>\n",
       "    </tr>\n",
       "  </tbody>\n",
       "</table>\n",
       "</div>"
      ],
      "text/plain": [
       "   Pclass  Sex  Age     Fare Cabin Embarked  Fam  title Age_Group\n",
       "0       3    0   22   7.2500     -        S    1    Mr.         2\n",
       "1       1    1   38  71.2833     C        C    1   Mrs.         3\n",
       "2       3    1   26   7.9250     -        S    0  Miss.         2\n",
       "3       1    1   35  53.1000     C        S    1   Mrs.         3\n",
       "4       3    0   35   8.0500     -        S    0    Mr.         3"
      ]
     },
     "execution_count": 113,
     "metadata": {},
     "output_type": "execute_result"
    }
   ],
   "source": [
    "train_ML.head()"
   ]
  },
  {
   "cell_type": "code",
   "execution_count": 114,
   "id": "168bdd59-da29-4476-8afb-2245278bee70",
   "metadata": {},
   "outputs": [
    {
     "data": {
      "text/html": [
       "<div>\n",
       "<style scoped>\n",
       "    .dataframe tbody tr th:only-of-type {\n",
       "        vertical-align: middle;\n",
       "    }\n",
       "\n",
       "    .dataframe tbody tr th {\n",
       "        vertical-align: top;\n",
       "    }\n",
       "\n",
       "    .dataframe thead th {\n",
       "        text-align: right;\n",
       "    }\n",
       "</style>\n",
       "<table border=\"1\" class=\"dataframe\">\n",
       "  <thead>\n",
       "    <tr style=\"text-align: right;\">\n",
       "      <th></th>\n",
       "      <th>Pclass</th>\n",
       "      <th>Sex</th>\n",
       "      <th>Age</th>\n",
       "      <th>Fare</th>\n",
       "      <th>Cabin</th>\n",
       "      <th>Embarked</th>\n",
       "      <th>Fam</th>\n",
       "      <th>title</th>\n",
       "      <th>Age_Group</th>\n",
       "    </tr>\n",
       "  </thead>\n",
       "  <tbody>\n",
       "    <tr>\n",
       "      <th>0</th>\n",
       "      <td>3</td>\n",
       "      <td>0</td>\n",
       "      <td>34</td>\n",
       "      <td>7.8292</td>\n",
       "      <td>-</td>\n",
       "      <td>Q</td>\n",
       "      <td>0</td>\n",
       "      <td>Mr.</td>\n",
       "      <td>3</td>\n",
       "    </tr>\n",
       "    <tr>\n",
       "      <th>1</th>\n",
       "      <td>3</td>\n",
       "      <td>1</td>\n",
       "      <td>47</td>\n",
       "      <td>7.0000</td>\n",
       "      <td>-</td>\n",
       "      <td>S</td>\n",
       "      <td>1</td>\n",
       "      <td>Mrs.</td>\n",
       "      <td>4</td>\n",
       "    </tr>\n",
       "    <tr>\n",
       "      <th>2</th>\n",
       "      <td>2</td>\n",
       "      <td>0</td>\n",
       "      <td>62</td>\n",
       "      <td>9.6875</td>\n",
       "      <td>-</td>\n",
       "      <td>Q</td>\n",
       "      <td>0</td>\n",
       "      <td>Mr.</td>\n",
       "      <td>6</td>\n",
       "    </tr>\n",
       "    <tr>\n",
       "      <th>3</th>\n",
       "      <td>3</td>\n",
       "      <td>0</td>\n",
       "      <td>27</td>\n",
       "      <td>8.6625</td>\n",
       "      <td>-</td>\n",
       "      <td>S</td>\n",
       "      <td>0</td>\n",
       "      <td>Mr.</td>\n",
       "      <td>2</td>\n",
       "    </tr>\n",
       "    <tr>\n",
       "      <th>4</th>\n",
       "      <td>3</td>\n",
       "      <td>1</td>\n",
       "      <td>22</td>\n",
       "      <td>12.2875</td>\n",
       "      <td>-</td>\n",
       "      <td>S</td>\n",
       "      <td>2</td>\n",
       "      <td>Mrs.</td>\n",
       "      <td>2</td>\n",
       "    </tr>\n",
       "  </tbody>\n",
       "</table>\n",
       "</div>"
      ],
      "text/plain": [
       "   Pclass  Sex  Age     Fare Cabin Embarked  Fam title Age_Group\n",
       "0       3    0   34   7.8292     -        Q    0   Mr.         3\n",
       "1       3    1   47   7.0000     -        S    1  Mrs.         4\n",
       "2       2    0   62   9.6875     -        Q    0   Mr.         6\n",
       "3       3    0   27   8.6625     -        S    0   Mr.         2\n",
       "4       3    1   22  12.2875     -        S    2  Mrs.         2"
      ]
     },
     "execution_count": 114,
     "metadata": {},
     "output_type": "execute_result"
    }
   ],
   "source": [
    "test_ML.head()"
   ]
  },
  {
   "cell_type": "code",
   "execution_count": 115,
   "id": "25bac0fb-4e68-49e0-b48c-7b467f2d9089",
   "metadata": {},
   "outputs": [],
   "source": [
    "# drop Age col\n",
    "train_ML = train_ML.drop(['Age'], axis = 1)\n",
    "\n",
    "test_ML = test_ML.drop(['Age'], axis = 1)"
   ]
  },
  {
   "cell_type": "markdown",
   "id": "0bd05f86-25ce-4726-b3a9-13d26e48e0c6",
   "metadata": {},
   "source": [
    "### Fare"
   ]
  },
  {
   "cell_type": "markdown",
   "id": "a1ef3307-b653-4a6b-85ad-6dad84ae1f71",
   "metadata": {},
   "source": [
    "It's numerical but need to do the same thing by cut function as Age, pd.qcut() is used in here bc Fare has serious skew"
   ]
  },
  {
   "cell_type": "code",
   "execution_count": 116,
   "id": "1815bb1d-6664-49c9-8a64-908418ec0c50",
   "metadata": {},
   "outputs": [],
   "source": [
    "fare = ['0', '1', '2', '3', '4', '5', '6', '7', '8', '9']\n",
    "\n",
    "train_ML['Fare'] = pd.qcut(train_ML['Fare'], q = 10, labels = fare) # the q parameter is set to 10 to indicate that we want to create 10 equal-sized bins.\n",
    "\n",
    "test_ML['Fare'] = pd.qcut(test_ML['Fare'], q = 10, labels = fare)"
   ]
  },
  {
   "cell_type": "code",
   "execution_count": 117,
   "id": "16ae9fb8-d6d4-4cfa-8bc3-944b8bafeabf",
   "metadata": {},
   "outputs": [
    {
     "data": {
      "text/html": [
       "<div>\n",
       "<style scoped>\n",
       "    .dataframe tbody tr th:only-of-type {\n",
       "        vertical-align: middle;\n",
       "    }\n",
       "\n",
       "    .dataframe tbody tr th {\n",
       "        vertical-align: top;\n",
       "    }\n",
       "\n",
       "    .dataframe thead th {\n",
       "        text-align: right;\n",
       "    }\n",
       "</style>\n",
       "<table border=\"1\" class=\"dataframe\">\n",
       "  <thead>\n",
       "    <tr style=\"text-align: right;\">\n",
       "      <th></th>\n",
       "      <th>Pclass</th>\n",
       "      <th>Sex</th>\n",
       "      <th>Fare</th>\n",
       "      <th>Cabin</th>\n",
       "      <th>Embarked</th>\n",
       "      <th>Fam</th>\n",
       "      <th>title</th>\n",
       "      <th>Age_Group</th>\n",
       "    </tr>\n",
       "  </thead>\n",
       "  <tbody>\n",
       "    <tr>\n",
       "      <th>0</th>\n",
       "      <td>3</td>\n",
       "      <td>0</td>\n",
       "      <td>0</td>\n",
       "      <td>-</td>\n",
       "      <td>S</td>\n",
       "      <td>1</td>\n",
       "      <td>Mr.</td>\n",
       "      <td>2</td>\n",
       "    </tr>\n",
       "    <tr>\n",
       "      <th>1</th>\n",
       "      <td>1</td>\n",
       "      <td>1</td>\n",
       "      <td>8</td>\n",
       "      <td>C</td>\n",
       "      <td>C</td>\n",
       "      <td>1</td>\n",
       "      <td>Mrs.</td>\n",
       "      <td>3</td>\n",
       "    </tr>\n",
       "    <tr>\n",
       "      <th>2</th>\n",
       "      <td>3</td>\n",
       "      <td>1</td>\n",
       "      <td>2</td>\n",
       "      <td>-</td>\n",
       "      <td>S</td>\n",
       "      <td>0</td>\n",
       "      <td>Miss.</td>\n",
       "      <td>2</td>\n",
       "    </tr>\n",
       "    <tr>\n",
       "      <th>3</th>\n",
       "      <td>1</td>\n",
       "      <td>1</td>\n",
       "      <td>8</td>\n",
       "      <td>C</td>\n",
       "      <td>S</td>\n",
       "      <td>1</td>\n",
       "      <td>Mrs.</td>\n",
       "      <td>3</td>\n",
       "    </tr>\n",
       "    <tr>\n",
       "      <th>4</th>\n",
       "      <td>3</td>\n",
       "      <td>0</td>\n",
       "      <td>2</td>\n",
       "      <td>-</td>\n",
       "      <td>S</td>\n",
       "      <td>0</td>\n",
       "      <td>Mr.</td>\n",
       "      <td>3</td>\n",
       "    </tr>\n",
       "  </tbody>\n",
       "</table>\n",
       "</div>"
      ],
      "text/plain": [
       "   Pclass  Sex Fare Cabin Embarked  Fam  title Age_Group\n",
       "0       3    0    0     -        S    1    Mr.         2\n",
       "1       1    1    8     C        C    1   Mrs.         3\n",
       "2       3    1    2     -        S    0  Miss.         2\n",
       "3       1    1    8     C        S    1   Mrs.         3\n",
       "4       3    0    2     -        S    0    Mr.         3"
      ]
     },
     "execution_count": 117,
     "metadata": {},
     "output_type": "execute_result"
    }
   ],
   "source": [
    "train_ML.head()"
   ]
  },
  {
   "cell_type": "markdown",
   "id": "b7ce7fa0-0fab-4cd5-8523-3128bcce8ec2",
   "metadata": {},
   "source": [
    "### Cabin"
   ]
  },
  {
   "cell_type": "code",
   "execution_count": 118,
   "id": "57ca183c-004c-4623-9f05-0e12beaccc23",
   "metadata": {},
   "outputs": [
    {
     "data": {
      "text/plain": [
       "array(['-', 'C', 'E', 'G', 'D', 'A', 'B', 'F', 'T'], dtype=object)"
      ]
     },
     "execution_count": 118,
     "metadata": {},
     "output_type": "execute_result"
    }
   ],
   "source": [
    "train_ML['Cabin'].unique()"
   ]
  },
  {
   "cell_type": "code",
   "execution_count": 119,
   "id": "f3c264fb-5e2a-4f6c-8a67-b9107834d75a",
   "metadata": {},
   "outputs": [
    {
     "data": {
      "text/plain": [
       "0    0\n",
       "1    3\n",
       "Name: Cabin, dtype: int64"
      ]
     },
     "execution_count": 119,
     "metadata": {},
     "output_type": "execute_result"
    }
   ],
   "source": [
    "cabin = {'-':0, 'A':1, 'B':2, 'C':3, 'D':4, 'E':5, 'F':6, 'G':7, 'T':8}\n",
    "\n",
    "train_ML['Cabin'] = train_ML['Cabin'].map(cabin)\n",
    "\n",
    "test_ML['Cabin'] = test_ML['Cabin'].map(cabin)\n",
    "\n",
    "train_ML['Cabin'].head(2)"
   ]
  },
  {
   "cell_type": "markdown",
   "id": "ef228499-67b8-4682-9d4f-26f00fc26bd6",
   "metadata": {},
   "source": [
    "### Embarked"
   ]
  },
  {
   "cell_type": "code",
   "execution_count": 120,
   "id": "d02f3cf7-03dc-4a54-aa43-793e7df47354",
   "metadata": {},
   "outputs": [
    {
     "data": {
      "text/plain": [
       "array(['S', 'C', 'Q'], dtype=object)"
      ]
     },
     "execution_count": 120,
     "metadata": {},
     "output_type": "execute_result"
    }
   ],
   "source": [
    "train_ML['Embarked'].unique()"
   ]
  },
  {
   "cell_type": "code",
   "execution_count": 121,
   "id": "669e2dd1-9916-41bc-9f72-15c96cdccd30",
   "metadata": {},
   "outputs": [
    {
     "data": {
      "text/plain": [
       "0    0\n",
       "1    1\n",
       "Name: Embarked, dtype: int64"
      ]
     },
     "execution_count": 121,
     "metadata": {},
     "output_type": "execute_result"
    }
   ],
   "source": [
    "embarked = {'S':0, 'C':1, 'Q':2 }\n",
    "\n",
    "train_ML['Embarked'] = train_ML['Embarked'].map(embarked)\n",
    "\n",
    "test_ML['Embarked'] = test_ML['Embarked'].map(embarked)\n",
    "\n",
    "train_ML['Embarked'].head(2)"
   ]
  },
  {
   "cell_type": "code",
   "execution_count": null,
   "id": "bc4ebafb-5820-4769-ab84-368b31808eba",
   "metadata": {},
   "outputs": [],
   "source": []
  },
  {
   "cell_type": "markdown",
   "id": "fba78c0d-cbae-48a8-9421-b8ceca893f82",
   "metadata": {},
   "source": [
    "### Fam"
   ]
  },
  {
   "cell_type": "markdown",
   "id": "566ff1ef-6525-46cb-af9a-c522ec503c86",
   "metadata": {},
   "source": [
    "It's numerical in pclass, there's no need to convert them into number"
   ]
  },
  {
   "cell_type": "markdown",
   "id": "b50d85d8-4a73-478b-b045-7ec64c7d518a",
   "metadata": {},
   "source": [
    "### title"
   ]
  },
  {
   "cell_type": "code",
   "execution_count": 122,
   "id": "8eac4484-d780-4768-b785-dd477d1880a9",
   "metadata": {},
   "outputs": [
    {
     "data": {
      "text/plain": [
       "array(['Mr.', 'Mrs.', 'Miss.', 'Master.', 'others', 'Rev.', 'Dr.'],\n",
       "      dtype=object)"
      ]
     },
     "execution_count": 122,
     "metadata": {},
     "output_type": "execute_result"
    }
   ],
   "source": [
    "train_ML['title'].unique()"
   ]
  },
  {
   "cell_type": "code",
   "execution_count": 123,
   "id": "21ac42d7-83d4-4d2f-8190-923e682fdae6",
   "metadata": {},
   "outputs": [
    {
     "data": {
      "text/plain": [
       "0    0\n",
       "1    1\n",
       "Name: title, dtype: int64"
      ]
     },
     "execution_count": 123,
     "metadata": {},
     "output_type": "execute_result"
    }
   ],
   "source": [
    "title = {'Mr.':0, 'Mrs.':1, 'Miss.':2, 'Master.':3, 'others':4, 'Rev.':5, 'Dr.':6 }\n",
    "\n",
    "train_ML['title'] = train_ML['title'].map(title)\n",
    "\n",
    "test_ML['title'] = test_ML['title'].map(title)\n",
    "\n",
    "train_ML['title'].head(2)"
   ]
  },
  {
   "cell_type": "markdown",
   "id": "15ce9e74-7fb7-4852-9f08-cdaeb081c70f",
   "metadata": {},
   "source": [
    "Now check the final result before applying ML model"
   ]
  },
  {
   "cell_type": "code",
   "execution_count": 124,
   "id": "3cd9bb2e-3480-4c92-895f-f160155fe59d",
   "metadata": {},
   "outputs": [
    {
     "data": {
      "text/html": [
       "<div>\n",
       "<style scoped>\n",
       "    .dataframe tbody tr th:only-of-type {\n",
       "        vertical-align: middle;\n",
       "    }\n",
       "\n",
       "    .dataframe tbody tr th {\n",
       "        vertical-align: top;\n",
       "    }\n",
       "\n",
       "    .dataframe thead th {\n",
       "        text-align: right;\n",
       "    }\n",
       "</style>\n",
       "<table border=\"1\" class=\"dataframe\">\n",
       "  <thead>\n",
       "    <tr style=\"text-align: right;\">\n",
       "      <th></th>\n",
       "      <th>Pclass</th>\n",
       "      <th>Sex</th>\n",
       "      <th>Fare</th>\n",
       "      <th>Cabin</th>\n",
       "      <th>Embarked</th>\n",
       "      <th>Fam</th>\n",
       "      <th>title</th>\n",
       "      <th>Age_Group</th>\n",
       "    </tr>\n",
       "  </thead>\n",
       "  <tbody>\n",
       "    <tr>\n",
       "      <th>0</th>\n",
       "      <td>3</td>\n",
       "      <td>0</td>\n",
       "      <td>0</td>\n",
       "      <td>0</td>\n",
       "      <td>0</td>\n",
       "      <td>1</td>\n",
       "      <td>0</td>\n",
       "      <td>2</td>\n",
       "    </tr>\n",
       "    <tr>\n",
       "      <th>1</th>\n",
       "      <td>1</td>\n",
       "      <td>1</td>\n",
       "      <td>8</td>\n",
       "      <td>3</td>\n",
       "      <td>1</td>\n",
       "      <td>1</td>\n",
       "      <td>1</td>\n",
       "      <td>3</td>\n",
       "    </tr>\n",
       "    <tr>\n",
       "      <th>2</th>\n",
       "      <td>3</td>\n",
       "      <td>1</td>\n",
       "      <td>2</td>\n",
       "      <td>0</td>\n",
       "      <td>0</td>\n",
       "      <td>0</td>\n",
       "      <td>2</td>\n",
       "      <td>2</td>\n",
       "    </tr>\n",
       "    <tr>\n",
       "      <th>3</th>\n",
       "      <td>1</td>\n",
       "      <td>1</td>\n",
       "      <td>8</td>\n",
       "      <td>3</td>\n",
       "      <td>0</td>\n",
       "      <td>1</td>\n",
       "      <td>1</td>\n",
       "      <td>3</td>\n",
       "    </tr>\n",
       "    <tr>\n",
       "      <th>4</th>\n",
       "      <td>3</td>\n",
       "      <td>0</td>\n",
       "      <td>2</td>\n",
       "      <td>0</td>\n",
       "      <td>0</td>\n",
       "      <td>0</td>\n",
       "      <td>0</td>\n",
       "      <td>3</td>\n",
       "    </tr>\n",
       "  </tbody>\n",
       "</table>\n",
       "</div>"
      ],
      "text/plain": [
       "   Pclass  Sex Fare  Cabin  Embarked  Fam  title Age_Group\n",
       "0       3    0    0      0         0    1      0         2\n",
       "1       1    1    8      3         1    1      1         3\n",
       "2       3    1    2      0         0    0      2         2\n",
       "3       1    1    8      3         0    1      1         3\n",
       "4       3    0    2      0         0    0      0         3"
      ]
     },
     "execution_count": 124,
     "metadata": {},
     "output_type": "execute_result"
    }
   ],
   "source": [
    "train_ML.head()"
   ]
  },
  {
   "cell_type": "code",
   "execution_count": 125,
   "id": "890118c6-b5d1-411f-888e-9255a327e6ce",
   "metadata": {},
   "outputs": [
    {
     "data": {
      "text/html": [
       "<div>\n",
       "<style scoped>\n",
       "    .dataframe tbody tr th:only-of-type {\n",
       "        vertical-align: middle;\n",
       "    }\n",
       "\n",
       "    .dataframe tbody tr th {\n",
       "        vertical-align: top;\n",
       "    }\n",
       "\n",
       "    .dataframe thead th {\n",
       "        text-align: right;\n",
       "    }\n",
       "</style>\n",
       "<table border=\"1\" class=\"dataframe\">\n",
       "  <thead>\n",
       "    <tr style=\"text-align: right;\">\n",
       "      <th></th>\n",
       "      <th>Pclass</th>\n",
       "      <th>Sex</th>\n",
       "      <th>Fare</th>\n",
       "      <th>Cabin</th>\n",
       "      <th>Embarked</th>\n",
       "      <th>Fam</th>\n",
       "      <th>title</th>\n",
       "      <th>Age_Group</th>\n",
       "    </tr>\n",
       "  </thead>\n",
       "  <tbody>\n",
       "    <tr>\n",
       "      <th>0</th>\n",
       "      <td>3</td>\n",
       "      <td>0</td>\n",
       "      <td>2</td>\n",
       "      <td>0</td>\n",
       "      <td>2</td>\n",
       "      <td>0</td>\n",
       "      <td>0</td>\n",
       "      <td>3</td>\n",
       "    </tr>\n",
       "    <tr>\n",
       "      <th>1</th>\n",
       "      <td>3</td>\n",
       "      <td>1</td>\n",
       "      <td>0</td>\n",
       "      <td>0</td>\n",
       "      <td>0</td>\n",
       "      <td>1</td>\n",
       "      <td>1</td>\n",
       "      <td>4</td>\n",
       "    </tr>\n",
       "    <tr>\n",
       "      <th>2</th>\n",
       "      <td>2</td>\n",
       "      <td>0</td>\n",
       "      <td>3</td>\n",
       "      <td>0</td>\n",
       "      <td>2</td>\n",
       "      <td>0</td>\n",
       "      <td>0</td>\n",
       "      <td>6</td>\n",
       "    </tr>\n",
       "    <tr>\n",
       "      <th>3</th>\n",
       "      <td>3</td>\n",
       "      <td>0</td>\n",
       "      <td>3</td>\n",
       "      <td>0</td>\n",
       "      <td>0</td>\n",
       "      <td>0</td>\n",
       "      <td>0</td>\n",
       "      <td>2</td>\n",
       "    </tr>\n",
       "    <tr>\n",
       "      <th>4</th>\n",
       "      <td>3</td>\n",
       "      <td>1</td>\n",
       "      <td>4</td>\n",
       "      <td>0</td>\n",
       "      <td>0</td>\n",
       "      <td>2</td>\n",
       "      <td>1</td>\n",
       "      <td>2</td>\n",
       "    </tr>\n",
       "  </tbody>\n",
       "</table>\n",
       "</div>"
      ],
      "text/plain": [
       "   Pclass  Sex Fare  Cabin  Embarked  Fam  title Age_Group\n",
       "0       3    0    2      0         2    0      0         3\n",
       "1       3    1    0      0         0    1      1         4\n",
       "2       2    0    3      0         2    0      0         6\n",
       "3       3    0    3      0         0    0      0         2\n",
       "4       3    1    4      0         0    2      1         2"
      ]
     },
     "execution_count": 125,
     "metadata": {},
     "output_type": "execute_result"
    }
   ],
   "source": [
    "test_ML.head()"
   ]
  },
  {
   "cell_type": "code",
   "execution_count": 126,
   "id": "cea2d715-ffac-4ad0-915a-772f753b9680",
   "metadata": {},
   "outputs": [
    {
     "name": "stdout",
     "output_type": "stream",
     "text": [
      "<class 'pandas.core.frame.DataFrame'>\n",
      "Int64Index: 891 entries, 0 to 890\n",
      "Data columns (total 8 columns):\n",
      " #   Column     Non-Null Count  Dtype   \n",
      "---  ------     --------------  -----   \n",
      " 0   Pclass     891 non-null    int64   \n",
      " 1   Sex        891 non-null    int64   \n",
      " 2   Fare       891 non-null    category\n",
      " 3   Cabin      891 non-null    int64   \n",
      " 4   Embarked   891 non-null    int64   \n",
      " 5   Fam        891 non-null    int64   \n",
      " 6   title      891 non-null    int64   \n",
      " 7   Age_Group  891 non-null    category\n",
      "dtypes: category(2), int64(6)\n",
      "memory usage: 51.2 KB\n"
     ]
    }
   ],
   "source": [
    "train_ML.info()"
   ]
  },
  {
   "cell_type": "code",
   "execution_count": 127,
   "id": "1a95e230-2ff9-43b9-863c-f9d1aa31686f",
   "metadata": {},
   "outputs": [],
   "source": [
    "# Convert 'Fare' column to integer\n",
    "train_ML['Fare'] = train_ML['Fare'].cat.codes\n",
    "\n",
    "# Convert 'Age_Group' column to integer\n",
    "train_ML['Age_Group'] = train_ML['Age_Group'].cat.codes"
   ]
  },
  {
   "cell_type": "code",
   "execution_count": 128,
   "id": "d9821ef3-a9ab-4891-8c0a-3907eb1ac4fb",
   "metadata": {},
   "outputs": [],
   "source": [
    "# Convert 'Fare' column to integer\n",
    "test_ML['Fare'] = test_ML['Fare'].cat.codes\n",
    "\n",
    "# Convert 'Age_Group' column to integer\n",
    "test_ML['Age_Group'] = test_ML['Age_Group'].cat.codes"
   ]
  },
  {
   "cell_type": "markdown",
   "id": "487ccd24-f24f-4147-848a-a45dc435ee1e",
   "metadata": {},
   "source": [
    "# ML model"
   ]
  },
  {
   "cell_type": "code",
   "execution_count": null,
   "id": "d8c24cb1-bf7e-471e-aec8-639427095d2f",
   "metadata": {},
   "outputs": [],
   "source": []
  },
  {
   "cell_type": "code",
   "execution_count": 129,
   "id": "c433f45b-3cb8-4b7d-a0f6-479f877e6629",
   "metadata": {},
   "outputs": [],
   "source": [
    "from sklearn.linear_model import LogisticRegression\n",
    "\n",
    "from sklearn.svm import SVC, LinearSVC\n",
    "\n",
    "from sklearn.ensemble import RandomForestClassifier\n",
    "\n",
    "from sklearn.neighbors import KNeighborsClassifier\n",
    "\n",
    "from sklearn.naive_bayes import GaussianNB\n",
    "\n",
    "from sklearn.linear_model import Perceptron\n",
    "\n",
    "from sklearn import linear_model\n",
    "\n",
    "from sklearn.linear_model import SGDClassifier\n",
    "\n",
    "from sklearn.tree import DecisionTreeClassifier\n",
    "\n",
    "#from sklearn.model_selection import train_test_split \n",
    "#no need in here, we already have train_ML and test_ML provided from kaggle"
   ]
  },
  {
   "cell_type": "code",
   "execution_count": 130,
   "id": "d87c0bb2-220e-4dda-9c69-81fc3688197c",
   "metadata": {},
   "outputs": [],
   "source": [
    "X_train = train_ML\n",
    "\n",
    "Y_train = label_y # which is train_df['Survived']\n",
    "\n",
    "X_test  = test_ML.copy() "
   ]
  },
  {
   "cell_type": "markdown",
   "id": "4165e1bc-a13f-46fc-af79-fbac2a89a5b0",
   "metadata": {},
   "source": [
    "## LogisticRegression"
   ]
  },
  {
   "cell_type": "code",
   "execution_count": 131,
   "id": "8ed40a16-fc63-45de-b423-97af02830182",
   "metadata": {},
   "outputs": [],
   "source": [
    "lre = LogisticRegression(solver='lbfgs')\n",
    "\n",
    "lre.fit(X_train, Y_train)\n",
    "\n",
    "Y_pred = lre.predict(X_test)\n",
    "\n",
    "acc_log = round(lre.score(X_train, Y_train) * 100, 1)#acc for acuracy"
   ]
  },
  {
   "cell_type": "markdown",
   "id": "a8dfcebb-403e-4358-abec-ca955c709863",
   "metadata": {},
   "source": [
    "## Linear Support Vector Machine"
   ]
  },
  {
   "cell_type": "code",
   "execution_count": 132,
   "id": "2fba35ca-7996-4be4-9dd4-cf421efcfd79",
   "metadata": {},
   "outputs": [
    {
     "name": "stderr",
     "output_type": "stream",
     "text": [
      "/opt/homebrew/anaconda3/lib/python3.9/site-packages/sklearn/svm/_base.py:1225: ConvergenceWarning: Liblinear failed to converge, increase the number of iterations.\n",
      "  warnings.warn(\n"
     ]
    }
   ],
   "source": [
    "lsvc = LinearSVC()\n",
    "\n",
    "lsvc.fit(X_train, Y_train)\n",
    "\n",
    "Y_pred = lsvc.predict(X_test)\n",
    "\n",
    "acc_linear_svc = round(lsvc.score(X_train, Y_train) * 100, 1)"
   ]
  },
  {
   "cell_type": "markdown",
   "id": "a1ed9396-062b-4360-9e8e-4f9c87f98a00",
   "metadata": {},
   "source": [
    "## RandomForest"
   ]
  },
  {
   "cell_type": "code",
   "execution_count": 133,
   "id": "ee2cedfd-60d0-41b4-b3c4-5fc8b731d441",
   "metadata": {},
   "outputs": [],
   "source": [
    "random_forest = RandomForestClassifier(n_estimators=100)\n",
    "\n",
    "random_forest.fit(X_train, Y_train)\n",
    "\n",
    "Y_prediction = random_forest.predict(X_test) #Y_prediction not y_pred for later exploration\n",
    "\n",
    "random_forest.score(X_train, Y_train)\n",
    "\n",
    "acc_random_forest = round(random_forest.score(X_train, Y_train) * 100, 1)"
   ]
  },
  {
   "cell_type": "markdown",
   "id": "444e720e-1a0b-4a03-8901-71175c7d955d",
   "metadata": {},
   "source": [
    "## K Nearest Neighbor"
   ]
  },
  {
   "cell_type": "code",
   "execution_count": 134,
   "id": "cc29c71b-e200-4c7a-a0ef-9bd337de575e",
   "metadata": {},
   "outputs": [
    {
     "name": "stderr",
     "output_type": "stream",
     "text": [
      "/opt/homebrew/anaconda3/lib/python3.9/site-packages/sklearn/neighbors/_classification.py:237: FutureWarning: Unlike other reduction functions (e.g. `skew`, `kurtosis`), the default behavior of `mode` typically preserves the axis it acts along. In SciPy 1.11.0, this behavior will change: the default value of `keepdims` will become False, the `axis` over which the statistic is taken will be eliminated, and the value None will no longer be accepted. Set `keepdims` to True or False to avoid this warning.\n",
      "  mode, _ = stats.mode(_y[neigh_ind, k], axis=1)\n",
      "/opt/homebrew/anaconda3/lib/python3.9/site-packages/sklearn/neighbors/_classification.py:237: FutureWarning: Unlike other reduction functions (e.g. `skew`, `kurtosis`), the default behavior of `mode` typically preserves the axis it acts along. In SciPy 1.11.0, this behavior will change: the default value of `keepdims` will become False, the `axis` over which the statistic is taken will be eliminated, and the value None will no longer be accepted. Set `keepdims` to True or False to avoid this warning.\n",
      "  mode, _ = stats.mode(_y[neigh_ind, k], axis=1)\n"
     ]
    }
   ],
   "source": [
    "knn = KNeighborsClassifier(n_neighbors = 3) \n",
    "\n",
    "knn.fit(X_train, Y_train)  \n",
    "\n",
    "Y_pred = knn.predict(X_test)  \n",
    "\n",
    "acc_knn = round(knn.score(X_train, Y_train) * 100, 1)"
   ]
  },
  {
   "cell_type": "markdown",
   "id": "6f6bfc57-07bd-428e-9595-853e5d39bf4e",
   "metadata": {},
   "source": [
    "## Gaussian Naive Bayes"
   ]
  },
  {
   "cell_type": "code",
   "execution_count": 135,
   "id": "b49bf910-934c-496f-8c34-4eab3ed4f256",
   "metadata": {},
   "outputs": [],
   "source": [
    "gaussian = GaussianNB() \n",
    "\n",
    "gaussian.fit(X_train, Y_train)  \n",
    "\n",
    "Y_pred = gaussian.predict(X_test)  \n",
    "\n",
    "acc_gaussian = round(gaussian.score(X_train, Y_train) * 100, 1)"
   ]
  },
  {
   "cell_type": "markdown",
   "id": "09cdd98d-57d2-4fa2-8052-39f8b082ddab",
   "metadata": {},
   "source": [
    "## Perceptron"
   ]
  },
  {
   "cell_type": "code",
   "execution_count": 136,
   "id": "58a111a3-a507-4fec-a482-67a1809ffa56",
   "metadata": {},
   "outputs": [],
   "source": [
    "perceptron = Perceptron(max_iter=50)\n",
    "\n",
    "perceptron.fit(X_train, Y_train)\n",
    "\n",
    "Y_pred = perceptron.predict(X_test)\n",
    "\n",
    "acc_perceptron = round(perceptron.score(X_train, Y_train) * 100, 1)"
   ]
  },
  {
   "cell_type": "markdown",
   "id": "66c08bbf-1de8-4a4c-bbd9-8e76d08f60c8",
   "metadata": {},
   "source": [
    "## Stochastic Gradient Descent (SGD)"
   ]
  },
  {
   "cell_type": "code",
   "execution_count": 137,
   "id": "1a81d65b-b2d5-46c6-8c87-fa70f7219530",
   "metadata": {},
   "outputs": [],
   "source": [
    "sgd = linear_model.SGDClassifier(max_iter=5, tol=None)\n",
    "\n",
    "sgd.fit(X_train, Y_train)\n",
    "\n",
    "Y_pred = sgd.predict(X_test)\n",
    "\n",
    "sgd.score(X_train, Y_train)\n",
    "\n",
    "acc_sgd = round(sgd.score(X_train, Y_train) * 100, 1)"
   ]
  },
  {
   "cell_type": "markdown",
   "id": "e55793a5-79fe-4b71-9459-629defc3cf37",
   "metadata": {},
   "source": [
    "## Decision Tree"
   ]
  },
  {
   "cell_type": "code",
   "execution_count": 138,
   "id": "c7ebb983-ffb8-42ba-b3bd-393cd20bdc12",
   "metadata": {},
   "outputs": [],
   "source": [
    "decision_tree = DecisionTreeClassifier() \n",
    "\n",
    "decision_tree.fit(X_train, Y_train)  \n",
    "\n",
    "Y_pred = decision_tree.predict(X_test)  \n",
    "\n",
    "acc_decision_tree = round(decision_tree.score(X_train, Y_train) * 100, 1)"
   ]
  },
  {
   "cell_type": "code",
   "execution_count": 139,
   "id": "ccd99ab8-6787-4112-a500-07954e07be4e",
   "metadata": {},
   "outputs": [
    {
     "data": {
      "text/html": [
       "<div>\n",
       "<style scoped>\n",
       "    .dataframe tbody tr th:only-of-type {\n",
       "        vertical-align: middle;\n",
       "    }\n",
       "\n",
       "    .dataframe tbody tr th {\n",
       "        vertical-align: top;\n",
       "    }\n",
       "\n",
       "    .dataframe thead th {\n",
       "        text-align: right;\n",
       "    }\n",
       "</style>\n",
       "<table border=\"1\" class=\"dataframe\">\n",
       "  <thead>\n",
       "    <tr style=\"text-align: right;\">\n",
       "      <th></th>\n",
       "      <th>ML Model</th>\n",
       "    </tr>\n",
       "    <tr>\n",
       "      <th>result</th>\n",
       "      <th></th>\n",
       "    </tr>\n",
       "  </thead>\n",
       "  <tbody>\n",
       "    <tr>\n",
       "      <th>76.8</th>\n",
       "      <td>Perceptron</td>\n",
       "    </tr>\n",
       "    <tr>\n",
       "      <th>78.3</th>\n",
       "      <td>Stochastic Gradient Decent</td>\n",
       "    </tr>\n",
       "    <tr>\n",
       "      <th>79.1</th>\n",
       "      <td>Gaussian Naive Bayes</td>\n",
       "    </tr>\n",
       "    <tr>\n",
       "      <th>80.0</th>\n",
       "      <td>Support Vector Machines</td>\n",
       "    </tr>\n",
       "    <tr>\n",
       "      <th>81.1</th>\n",
       "      <td>Logistic Regression</td>\n",
       "    </tr>\n",
       "    <tr>\n",
       "      <th>86.0</th>\n",
       "      <td>K Nearest Neighbor</td>\n",
       "    </tr>\n",
       "    <tr>\n",
       "      <th>92.4</th>\n",
       "      <td>Random Forest</td>\n",
       "    </tr>\n",
       "    <tr>\n",
       "      <th>92.4</th>\n",
       "      <td>Decision Tree</td>\n",
       "    </tr>\n",
       "  </tbody>\n",
       "</table>\n",
       "</div>"
      ],
      "text/plain": [
       "                          ML Model\n",
       "result                            \n",
       "76.8                    Perceptron\n",
       "78.3    Stochastic Gradient Decent\n",
       "79.1          Gaussian Naive Bayes\n",
       "80.0       Support Vector Machines\n",
       "81.1           Logistic Regression\n",
       "86.0            K Nearest Neighbor\n",
       "92.4                 Random Forest\n",
       "92.4                 Decision Tree"
      ]
     },
     "execution_count": 139,
     "metadata": {},
     "output_type": "execute_result"
    }
   ],
   "source": [
    "results = pd.DataFrame({\n",
    "    'ML Model': ['Logistic Regression',\n",
    "                 'Support Vector Machines',\n",
    "                 'Random Forest',\n",
    "                 'K Nearest Neighbor', \n",
    "                 'Gaussian Naive Bayes',\n",
    "                 'Perceptron', \n",
    "                 'Stochastic Gradient Decent', \n",
    "                 'Decision Tree'],\n",
    "    'result': [acc_log,\n",
    "               acc_linear_svc,\n",
    "               acc_random_forest,\n",
    "               acc_knn,\n",
    "               acc_gaussian, \n",
    "               acc_perceptron, \n",
    "               acc_sgd, \n",
    "               acc_decision_tree]})\n",
    "\n",
    "result_df = results.sort_values(by = 'result', ascending = True)\n",
    "\n",
    "result_df = result_df.set_index('result')\n",
    "\n",
    "result_df"
   ]
  },
  {
   "cell_type": "markdown",
   "id": "03aa7def-2f35-4b4d-89ed-a501f1878a25",
   "metadata": {},
   "source": [
    "Random Forest, Decision Tree is the best"
   ]
  },
  {
   "cell_type": "markdown",
   "id": "d4b30a8e-5c03-4d65-ab42-08619d768f43",
   "metadata": {},
   "source": [
    "# cross validation"
   ]
  },
  {
   "cell_type": "code",
   "execution_count": 145,
   "id": "08905e67-3cfc-4174-9b65-10e687b3553b",
   "metadata": {},
   "outputs": [
    {
     "name": "stdout",
     "output_type": "stream",
     "text": [
      "{'mean': 0.819338327091136,\n",
      " 'score': array([0.78888889, 0.85393258, 0.71910112, 0.86516854, 0.83146067,\n",
      "       0.83146067, 0.79775281, 0.7752809 , 0.88764045, 0.84269663]),\n",
      " 'standard deviation': 0.04709938492087867}\n"
     ]
    }
   ],
   "source": [
    "# in here, using K-Fold Cross Validation to see the result of random forest\n",
    "from sklearn.model_selection import cross_val_score\n",
    "import pprint\n",
    "\n",
    "random_f = RandomForestClassifier(n_estimators = 100)\n",
    "\n",
    "scores = cross_val_score(random_f, X_train, Y_train, cv = 10, scoring = 'accuracy') # 10 equal-sized folds\n",
    "\n",
    "\n",
    "acc = {'score': scores,\n",
    "       'mean':scores.mean(),\n",
    "       'standard deviation': scores.std()\n",
    "      }\n",
    "\n",
    "# make output more visually appealing format\n",
    "pp = pprint.PrettyPrinter()\n",
    "\n",
    "pp.pprint(acc)\n"
   ]
  },
  {
   "cell_type": "markdown",
   "id": "2b64dfe3-31a6-4a11-8f14-9e4916eb2f04",
   "metadata": {},
   "source": [
    "It shows the random forest model's actual accuracy is nearly 0.82 +- 0.05"
   ]
  },
  {
   "cell_type": "code",
   "execution_count": 147,
   "id": "0f31a91a-5a9c-417c-89b6-4ec58b695101",
   "metadata": {},
   "outputs": [
    {
     "name": "stdout",
     "output_type": "stream",
     "text": [
      "{'mean': 0.8025468164794007,\n",
      " 'score': array([0.73333333, 0.87640449, 0.70786517, 0.86516854, 0.78651685,\n",
      "       0.79775281, 0.80898876, 0.7752809 , 0.88764045, 0.78651685]),\n",
      " 'standard deviation': 0.05629770394155169}\n"
     ]
    }
   ],
   "source": [
    "# in here, using K-Fold Cross Validation to see the result of Decision Tree\n",
    "decision_t = DecisionTreeClassifier()\n",
    "\n",
    "scores_dt = cross_val_score(decision_t, X_train, Y_train, cv = 10, scoring = 'accuracy') # 10 equal-sized folds\n",
    "\n",
    "\n",
    "acc = {'score': scores_dt,\n",
    "       'mean':scores_dt.mean(),\n",
    "       'standard deviation': scores_dt.std()\n",
    "      }\n",
    "\n",
    "# make output more visually appealing format\n",
    "pp = pprint.PrettyPrinter()\n",
    "\n",
    "pp.pprint(acc)"
   ]
  },
  {
   "cell_type": "markdown",
   "id": "ed9582e6-be57-4dc7-9a4b-593f81792cce",
   "metadata": {},
   "source": [
    "It shows the Decision Tree model's actual accuracy is 0.80 +- 0.06"
   ]
  },
  {
   "cell_type": "markdown",
   "id": "584730b4-b4c0-4152-b9e9-6d1a52a63866",
   "metadata": {},
   "source": [
    "# Fine tune model "
   ]
  },
  {
   "cell_type": "code",
   "execution_count": 148,
   "id": "39169284-3373-4fe5-9086-1e3c011bd188",
   "metadata": {},
   "outputs": [],
   "source": [
    "# check the weight of each feature"
   ]
  },
  {
   "cell_type": "code",
   "execution_count": 160,
   "id": "2f7517bd-142f-496f-b9cd-ae66d04f6658",
   "metadata": {},
   "outputs": [],
   "source": [
    "# check feature importances\n",
    "importances = random_forest.feature_importances_\n",
    "\n",
    "#df for store result as df\n",
    "imp_df = pd.DataFrame({'Feature': X_train.columns, 'Importance': importances})\n",
    "\n",
    "# importance scores for each feature\n",
    "for index, row in imp_df.iterrows():\n",
    "    \n",
    "    feature = row['Feature']\n",
    "    \n",
    "    importance = row['Importance']   "
   ]
  },
  {
   "cell_type": "code",
   "execution_count": 164,
   "id": "b4c28401-915f-4538-b886-d8224e3ba1eb",
   "metadata": {},
   "outputs": [
    {
     "data": {
      "text/html": [
       "<div>\n",
       "<style scoped>\n",
       "    .dataframe tbody tr th:only-of-type {\n",
       "        vertical-align: middle;\n",
       "    }\n",
       "\n",
       "    .dataframe tbody tr th {\n",
       "        vertical-align: top;\n",
       "    }\n",
       "\n",
       "    .dataframe thead th {\n",
       "        text-align: right;\n",
       "    }\n",
       "</style>\n",
       "<table border=\"1\" class=\"dataframe\">\n",
       "  <thead>\n",
       "    <tr style=\"text-align: right;\">\n",
       "      <th></th>\n",
       "      <th>Feature</th>\n",
       "      <th>Importance</th>\n",
       "    </tr>\n",
       "  </thead>\n",
       "  <tbody>\n",
       "    <tr>\n",
       "      <th>4</th>\n",
       "      <td>Embarked</td>\n",
       "      <td>0.047537</td>\n",
       "    </tr>\n",
       "    <tr>\n",
       "      <th>3</th>\n",
       "      <td>Cabin</td>\n",
       "      <td>0.082541</td>\n",
       "    </tr>\n",
       "    <tr>\n",
       "      <th>0</th>\n",
       "      <td>Pclass</td>\n",
       "      <td>0.085114</td>\n",
       "    </tr>\n",
       "    <tr>\n",
       "      <th>5</th>\n",
       "      <td>Fam</td>\n",
       "      <td>0.112159</td>\n",
       "    </tr>\n",
       "    <tr>\n",
       "      <th>7</th>\n",
       "      <td>Age_Group</td>\n",
       "      <td>0.129122</td>\n",
       "    </tr>\n",
       "    <tr>\n",
       "      <th>2</th>\n",
       "      <td>Fare</td>\n",
       "      <td>0.163247</td>\n",
       "    </tr>\n",
       "    <tr>\n",
       "      <th>1</th>\n",
       "      <td>Sex</td>\n",
       "      <td>0.187651</td>\n",
       "    </tr>\n",
       "    <tr>\n",
       "      <th>6</th>\n",
       "      <td>title</td>\n",
       "      <td>0.192629</td>\n",
       "    </tr>\n",
       "  </tbody>\n",
       "</table>\n",
       "</div>"
      ],
      "text/plain": [
       "     Feature  Importance\n",
       "4   Embarked    0.047537\n",
       "3      Cabin    0.082541\n",
       "0     Pclass    0.085114\n",
       "5        Fam    0.112159\n",
       "7  Age_Group    0.129122\n",
       "2       Fare    0.163247\n",
       "1        Sex    0.187651\n",
       "6      title    0.192629"
      ]
     },
     "execution_count": 164,
     "metadata": {},
     "output_type": "execute_result"
    }
   ],
   "source": [
    "imp_df.sort_values(by = 'Importance', ascending = True)"
   ]
  },
  {
   "cell_type": "markdown",
   "id": "2344d0dd-ba22-41d4-b223-756e2a7377c5",
   "metadata": {},
   "source": [
    "## drop Embarked and train model again"
   ]
  },
  {
   "cell_type": "code",
   "execution_count": 167,
   "id": "364b852b-12e1-4ac4-92ef-964fcb9a77d0",
   "metadata": {},
   "outputs": [],
   "source": [
    "X_train_adjust = train_ML.drop(['Embarked'], axis = 1)\n",
    "\n",
    "Y_train_adjust = label_y # which is train_df['Survived']\n",
    "\n",
    "X_test_adjust  = test_ML.drop(['Embarked'], axis = 1).copy() "
   ]
  },
  {
   "cell_type": "markdown",
   "id": "d9d1f10f-1d7d-4f7a-8a41-5e28de1569d9",
   "metadata": {},
   "source": [
    "Throw it to model again"
   ]
  },
  {
   "cell_type": "code",
   "execution_count": 168,
   "id": "71f9fe6e-e0fe-46aa-aa4f-f9f130899504",
   "metadata": {},
   "outputs": [
    {
     "data": {
      "text/plain": [
       "91.1"
      ]
     },
     "execution_count": 168,
     "metadata": {},
     "output_type": "execute_result"
    }
   ],
   "source": [
    "random_forest = RandomForestClassifier(n_estimators=100)\n",
    "\n",
    "random_forest.fit(X_train_adjust, Y_train_adjust)\n",
    "\n",
    "Y_prediction = random_forest.predict(X_test_adjust)\n",
    "\n",
    "random_forest.score(X_train_adjust, Y_train_adjust)\n",
    "\n",
    "acc_random_forest = round(random_forest.score(X_train_adjust, Y_train_adjust) * 100, 1)\n",
    "\n",
    "acc_random_forest"
   ]
  },
  {
   "cell_type": "markdown",
   "id": "13930f7f-4e34-4c7d-bce2-84da3915db45",
   "metadata": {},
   "source": [
    "cross validation"
   ]
  },
  {
   "cell_type": "code",
   "execution_count": 169,
   "id": "dccfc250-43fa-45ab-924e-b15b2148adf6",
   "metadata": {},
   "outputs": [
    {
     "name": "stdout",
     "output_type": "stream",
     "text": [
      "{'mean': 0.8204619225967541,\n",
      " 'score': array([0.78888889, 0.83146067, 0.69662921, 0.86516854, 0.87640449,\n",
      "       0.84269663, 0.80898876, 0.79775281, 0.87640449, 0.82022472]),\n",
      " 'standard deviation': 0.050844831346884715}\n"
     ]
    }
   ],
   "source": [
    "random_f_adjust = RandomForestClassifier(n_estimators = 100)\n",
    "\n",
    "scores_adjust = cross_val_score(random_f_adjust, X_train_adjust, Y_train_adjust, cv = 10, scoring = 'accuracy') # 10 equal-sized folds\n",
    "\n",
    "acc_adjust = {'score': scores_adjust,\n",
    "       'mean':scores_adjust.mean(),\n",
    "       'standard deviation': scores_adjust.std()\n",
    "      }\n",
    "\n",
    "# make output more visually appealing format\n",
    "pp = pprint.PrettyPrinter()\n",
    "\n",
    "pp.pprint(acc_adjust)"
   ]
  },
  {
   "cell_type": "markdown",
   "id": "40ec1cc4-d6ee-4778-966b-42ad030f6cd9",
   "metadata": {},
   "source": [
    "The mean score of adjust random forest is 0.82+-0.05, so seems like the fine tune doesn't help"
   ]
  },
  {
   "cell_type": "markdown",
   "id": "a5f264d2-31ff-4a7a-86f6-20a5fba6902e",
   "metadata": {},
   "source": [
    "# Export result for kaggel"
   ]
  },
  {
   "cell_type": "code",
   "execution_count": 170,
   "id": "cd338300-ac86-472b-8b21-7af92006f37f",
   "metadata": {},
   "outputs": [
    {
     "data": {
      "text/html": [
       "<div>\n",
       "<style scoped>\n",
       "    .dataframe tbody tr th:only-of-type {\n",
       "        vertical-align: middle;\n",
       "    }\n",
       "\n",
       "    .dataframe tbody tr th {\n",
       "        vertical-align: top;\n",
       "    }\n",
       "\n",
       "    .dataframe thead th {\n",
       "        text-align: right;\n",
       "    }\n",
       "</style>\n",
       "<table border=\"1\" class=\"dataframe\">\n",
       "  <thead>\n",
       "    <tr style=\"text-align: right;\">\n",
       "      <th></th>\n",
       "      <th>PassengerId</th>\n",
       "      <th>Survived</th>\n",
       "    </tr>\n",
       "  </thead>\n",
       "  <tbody>\n",
       "    <tr>\n",
       "      <th>0</th>\n",
       "      <td>892</td>\n",
       "      <td>0</td>\n",
       "    </tr>\n",
       "    <tr>\n",
       "      <th>1</th>\n",
       "      <td>893</td>\n",
       "      <td>0</td>\n",
       "    </tr>\n",
       "    <tr>\n",
       "      <th>2</th>\n",
       "      <td>894</td>\n",
       "      <td>0</td>\n",
       "    </tr>\n",
       "    <tr>\n",
       "      <th>3</th>\n",
       "      <td>895</td>\n",
       "      <td>0</td>\n",
       "    </tr>\n",
       "    <tr>\n",
       "      <th>4</th>\n",
       "      <td>896</td>\n",
       "      <td>0</td>\n",
       "    </tr>\n",
       "    <tr>\n",
       "      <th>...</th>\n",
       "      <td>...</td>\n",
       "      <td>...</td>\n",
       "    </tr>\n",
       "    <tr>\n",
       "      <th>413</th>\n",
       "      <td>1305</td>\n",
       "      <td>0</td>\n",
       "    </tr>\n",
       "    <tr>\n",
       "      <th>414</th>\n",
       "      <td>1306</td>\n",
       "      <td>1</td>\n",
       "    </tr>\n",
       "    <tr>\n",
       "      <th>415</th>\n",
       "      <td>1307</td>\n",
       "      <td>0</td>\n",
       "    </tr>\n",
       "    <tr>\n",
       "      <th>416</th>\n",
       "      <td>1308</td>\n",
       "      <td>0</td>\n",
       "    </tr>\n",
       "    <tr>\n",
       "      <th>417</th>\n",
       "      <td>1309</td>\n",
       "      <td>1</td>\n",
       "    </tr>\n",
       "  </tbody>\n",
       "</table>\n",
       "<p>418 rows × 2 columns</p>\n",
       "</div>"
      ],
      "text/plain": [
       "     PassengerId  Survived\n",
       "0            892         0\n",
       "1            893         0\n",
       "2            894         0\n",
       "3            895         0\n",
       "4            896         0\n",
       "..           ...       ...\n",
       "413         1305         0\n",
       "414         1306         1\n",
       "415         1307         0\n",
       "416         1308         0\n",
       "417         1309         1\n",
       "\n",
       "[418 rows x 2 columns]"
      ]
     },
     "execution_count": 170,
     "metadata": {},
     "output_type": "execute_result"
    }
   ],
   "source": [
    "kaggle_csv = pd.DataFrame({\n",
    "\n",
    "        'PassengerId': test_df['PassengerId'],\n",
    "\n",
    "        'Survived': Y_prediction\n",
    "         })\n",
    "\n",
    "kaggle_csv\n"
   ]
  },
  {
   "cell_type": "code",
   "execution_count": 171,
   "id": "a8222935-83ea-4bc1-b6b8-ac73d6b06a44",
   "metadata": {},
   "outputs": [],
   "source": [
    "#kaggle_csv.to_csv(r'/Users/lih-anhsu/Desktop/Python/kaggle_titanic_ML/titanic_submission_Anne.csv', index=False)"
   ]
  },
  {
   "cell_type": "code",
   "execution_count": null,
   "id": "03ca1933-40b9-4077-af69-9f8794830ffe",
   "metadata": {},
   "outputs": [],
   "source": []
  }
 ],
 "metadata": {
  "kernelspec": {
   "display_name": "Python 3 (ipykernel)",
   "language": "python",
   "name": "python3"
  },
  "language_info": {
   "codemirror_mode": {
    "name": "ipython",
    "version": 3
   },
   "file_extension": ".py",
   "mimetype": "text/x-python",
   "name": "python",
   "nbconvert_exporter": "python",
   "pygments_lexer": "ipython3",
   "version": "3.9.13"
  }
 },
 "nbformat": 4,
 "nbformat_minor": 5
}
